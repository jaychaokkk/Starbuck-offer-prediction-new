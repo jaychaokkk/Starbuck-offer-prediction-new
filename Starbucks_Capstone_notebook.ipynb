{
 "cells": [
  {
   "cell_type": "markdown",
   "metadata": {},
   "source": [
    "# 星巴克毕业项目\n",
    "\n",
    "### 简介\n",
    "\n",
    "　　这个数据集是一些模拟 Starbucks rewards 移动 app 上用户行为的数据。每隔几天，星巴克会向 app 的用户发送一些推送。这个推送可能仅仅是一条饮品的广告或者是折扣券或 BOGO（买一送一）。一些顾客可能一连几周都收不到任何推送。 \n",
    "\n",
    "　　顾客收到的推送可能是不同的，这就是这个数据集的挑战所在。\n",
    "\n",
    "　　你的任务是将交易数据、人口统计数据和推送数据结合起来判断哪一类人群会受到某种推送的影响。这个数据集是从星巴克 app 的真实数据简化而来。因为下面的这个模拟器仅产生了一种饮品， 实际上星巴克的饮品有几十种。\n",
    "\n",
    "　　每种推送都有有效期。例如，买一送一（BOGO）优惠券推送的有效期可能只有 5 天。你会发现数据集中即使是一些消息型的推送都有有效期，哪怕这些推送仅仅是饮品的广告，例如，如果一条消息型推送的有效期是 7 天，你可以认为是该顾客在这 7 天都可能受到这条推送的影响。\n",
    "\n",
    "　　数据集中还包含 app 上支付的交易信息，交易信息包括购买时间和购买支付的金额。交易信息还包括该顾客收到的推送种类和数量以及看了该推送的时间。顾客做出了购买行为也会产生一条记录。 \n",
    "\n",
    "　　同样需要记住有可能顾客购买了商品，但没有收到或者没有看推送。\n",
    "\n",
    "### 示例\n",
    "\n",
    "　　举个例子，一个顾客在周一收到了满 10 美元减 2 美元的优惠券推送。这个推送的有效期从收到日算起一共 10 天。如果该顾客在有效日期内的消费累计达到了 10 美元，该顾客就满足了该推送的要求。\n",
    "\n",
    "　　然而，这个数据集里有一些地方需要注意。即，这个推送是自动生效的；也就是说，顾客收到推送后，哪怕没有看到，满足了条件，推送的优惠依然能够生效。比如，一个顾客收到了\"满10美元减2美元优惠券\"的推送，但是该用户在 10 天有效期内从来没有打开看到过它。该顾客在 10 天内累计消费了 15 美元。数据集也会记录他满足了推送的要求，然而，这个顾客并没被受到这个推送的影响，因为他并不知道它的存在。\n",
    "\n",
    "### 清洗\n",
    "\n",
    "　　清洗数据非常重要也非常需要技巧。\n",
    "\n",
    "　　你也要考虑到某类人群即使没有收到推送，也会购买的情况。从商业角度出发，如果顾客无论是否收到推送都打算花 10 美元，你并不希望给他发送满 10 美元减 2 美元的优惠券推送。所以你可能需要分析某类人群在没有任何推送的情况下会购买什么。\n",
    "\n",
    "### 最后一项建议\n",
    "\n",
    "　　因为这是一个毕业项目，你可以使用任何你认为合适的方法来分析数据。例如，你可以搭建一个机器学习模型来根据人口统计数据和推送的种类来预测某人会花费多少钱。或者，你也可以搭建一个模型来预测该顾客是否会对推送做出反应。或者，你也可以完全不用搭建机器学习模型。你可以开发一套启发式算法来决定你会给每个顾客发出什么样的消息（比如75% 的35 岁女性用户会对推送 A 做出反应，对推送 B 则只有 40% 会做出反应，那么应该向她们发送推送 A）。\n",
    "\n",
    "\n",
    "# 数据集\n",
    "\n",
    "一共有三个数据文件：\n",
    "\n",
    "* portfolio.json – 包括推送的 id 和每个推送的元数据（持续时间、种类等等）\n",
    "* profile.json – 每个顾客的人口统计数据\n",
    "* transcript.json – 交易、收到的推送、查看的推送和完成的推送的记录\n",
    "\n",
    "以下是文件中每个变量的类型和解释 ：\n",
    "\n",
    "**portfolio.json**\n",
    "* id (string) – 推送的id\n",
    "* offer_type (string) – 推送的种类，例如 BOGO、打折（discount）、信息（informational）\n",
    "* difficulty (int) – 满足推送的要求所需的最少花费\n",
    "* reward (int) – 满足推送的要求后给与的优惠\n",
    "* duration (int) – 推送持续的时间，单位是天\n",
    "* channels (字符串列表)\n",
    "\n",
    "**profile.json**\n",
    "* age (int) – 顾客的年龄 \n",
    "* became_member_on (int) – 该顾客第一次注册app的时间\n",
    "* gender (str) – 顾客的性别（注意除了表示男性的 M 和表示女性的 F 之外，还有表示其他的 O）\n",
    "* id (str) – 顾客id\n",
    "* income (float) – 顾客的收入\n",
    "\n",
    "**transcript.json**\n",
    "* event (str) – 记录的描述（比如交易记录、推送已收到、推送已阅）\n",
    "* person (str) – 顾客id\n",
    "* time (int) – 单位是小时，测试开始时计时。该数据从时间点 t=0 开始\n",
    "* value - (dict of strings) – 推送的id 或者交易的数额\n"
   ]
  },
  {
   "cell_type": "code",
   "execution_count": 91,
   "metadata": {},
   "outputs": [
    {
     "name": "stdout",
     "output_type": "stream",
     "text": [
      "The autoreload extension is already loaded. To reload it, use:\n",
      "  %reload_ext autoreload\n"
     ]
    }
   ],
   "source": [
    "import pandas as pd\n",
    "import numpy as np\n",
    "import math\n",
    "import json\n",
    "import seaborn as sns\n",
    "import matplotlib.pyplot as plt\n",
    "from tqdm import tqdm\n",
    "import datetime\n",
    "import pickle\n",
    "import os\n",
    "import re\n",
    "pd.set_option(\"display.max_columns\", 100)\n",
    "\n",
    "from sklearn.preprocessing import StandardScaler\n",
    "from sklearn.decomposition import PCA\n",
    "from IPython.core.interactiveshell import InteractiveShell\n",
    "from sklearn.model_selection import train_test_split\n",
    "from sklearn.metrics import accuracy_score, f1_score , classification_report\n",
    "from sklearn.metrics import fbeta_score, make_scorer\n",
    "from sklearn.linear_model import LogisticRegression\n",
    "from sklearn.model_selection import RandomizedSearchCV\n",
    "from joblib import dump, load\n",
    "from sklearn.ensemble import RandomForestClassifier\n",
    "from sklearn.ensemble import GradientBoostingClassifier\n",
    "from sklearn.model_selection import GridSearchCV\n",
    "from sklearn.model_selection import RandomizedSearchCV\n",
    "from sklearn.pipeline import Pipeline\n",
    "from sklearn.preprocessing import MinMaxScaler\n",
    "from sklearn.svm import LinearSVC\n",
    "from sklearn.neighbors import KNeighborsClassifier\n",
    "from sklearn.ensemble import RandomForestClassifier, AdaBoostClassifier\n",
    "from sklearn.pipeline import Pipeline, FeatureUnion\n",
    "from sklearn.model_selection import GridSearchCV\n",
    "InteractiveShell.ast_node_interactivity = \"all\"\n",
    "%matplotlib inline\n",
    "\n",
    "# read in the json files\n",
    "get_ipython().run_line_magic('matplotlib', 'inline')\n",
    "get_ipython().run_line_magic('load_ext', 'autoreload')\n",
    "get_ipython().run_line_magic('autoreload', '2')\n",
    "\n",
    "def pklsave(model, filename):\n",
    "    \"\"\"\n",
    "    This function is to save the sklearn object\n",
    "    INPUT :\n",
    "        model : sklearn object\n",
    "        filename : filepath to saved\n",
    "    RETURN : none\n",
    "    \"\"\"\n",
    "    pickle.dump(model, open(filename,'wb'))\n",
    "    \n",
    "def pklload(filename):\n",
    "    \"\"\"\n",
    "    This function is to load the saved sklearn object\n",
    "    INPUT : filename : filepath\n",
    "    RETURN : loaded sklearn object\n",
    "    \"\"\"\n",
    "    return pickle.load(open(filename, 'rb'))\n",
    "\n",
    "\n",
    "# read in the json files\n",
    "portfolio = pd.read_json('data/portfolio.json', orient='records', lines=True)\n",
    "profile = pd.read_json('data/profile.json', orient='records', lines=True)\n",
    "transcript = pd.read_json('data/transcript.json', orient='records', lines=True)"
   ]
  },
  {
   "cell_type": "markdown",
   "metadata": {},
   "source": [
    "## 概览portfolio"
   ]
  },
  {
   "cell_type": "code",
   "execution_count": 2,
   "metadata": {
    "lines_to_next_cell": 2
   },
   "outputs": [
    {
     "name": "stdout",
     "output_type": "stream",
     "text": [
      "<class 'pandas.core.frame.DataFrame'>\n",
      "RangeIndex: 10 entries, 0 to 9\n",
      "Data columns (total 6 columns):\n",
      " #   Column      Non-Null Count  Dtype \n",
      "---  ------      --------------  ----- \n",
      " 0   reward      10 non-null     int64 \n",
      " 1   channels    10 non-null     object\n",
      " 2   difficulty  10 non-null     int64 \n",
      " 3   duration    10 non-null     int64 \n",
      " 4   offer_type  10 non-null     object\n",
      " 5   id          10 non-null     object\n",
      "dtypes: int64(3), object(3)\n",
      "memory usage: 608.0+ bytes\n"
     ]
    }
   ],
   "source": [
    "portfolio.info()"
   ]
  },
  {
   "cell_type": "code",
   "execution_count": 3,
   "metadata": {},
   "outputs": [
    {
     "data": {
      "text/html": [
       "<div>\n",
       "<style scoped>\n",
       "    .dataframe tbody tr th:only-of-type {\n",
       "        vertical-align: middle;\n",
       "    }\n",
       "\n",
       "    .dataframe tbody tr th {\n",
       "        vertical-align: top;\n",
       "    }\n",
       "\n",
       "    .dataframe thead th {\n",
       "        text-align: right;\n",
       "    }\n",
       "</style>\n",
       "<table border=\"1\" class=\"dataframe\">\n",
       "  <thead>\n",
       "    <tr style=\"text-align: right;\">\n",
       "      <th></th>\n",
       "      <th>reward</th>\n",
       "      <th>channels</th>\n",
       "      <th>difficulty</th>\n",
       "      <th>duration</th>\n",
       "      <th>offer_type</th>\n",
       "      <th>id</th>\n",
       "    </tr>\n",
       "  </thead>\n",
       "  <tbody>\n",
       "    <tr>\n",
       "      <th>0</th>\n",
       "      <td>10</td>\n",
       "      <td>[email, mobile, social]</td>\n",
       "      <td>10</td>\n",
       "      <td>7</td>\n",
       "      <td>bogo</td>\n",
       "      <td>ae264e3637204a6fb9bb56bc8210ddfd</td>\n",
       "    </tr>\n",
       "    <tr>\n",
       "      <th>1</th>\n",
       "      <td>10</td>\n",
       "      <td>[web, email, mobile, social]</td>\n",
       "      <td>10</td>\n",
       "      <td>5</td>\n",
       "      <td>bogo</td>\n",
       "      <td>4d5c57ea9a6940dd891ad53e9dbe8da0</td>\n",
       "    </tr>\n",
       "    <tr>\n",
       "      <th>2</th>\n",
       "      <td>0</td>\n",
       "      <td>[web, email, mobile]</td>\n",
       "      <td>0</td>\n",
       "      <td>4</td>\n",
       "      <td>informational</td>\n",
       "      <td>3f207df678b143eea3cee63160fa8bed</td>\n",
       "    </tr>\n",
       "    <tr>\n",
       "      <th>3</th>\n",
       "      <td>5</td>\n",
       "      <td>[web, email, mobile]</td>\n",
       "      <td>5</td>\n",
       "      <td>7</td>\n",
       "      <td>bogo</td>\n",
       "      <td>9b98b8c7a33c4b65b9aebfe6a799e6d9</td>\n",
       "    </tr>\n",
       "    <tr>\n",
       "      <th>4</th>\n",
       "      <td>5</td>\n",
       "      <td>[web, email]</td>\n",
       "      <td>20</td>\n",
       "      <td>10</td>\n",
       "      <td>discount</td>\n",
       "      <td>0b1e1539f2cc45b7b9fa7c272da2e1d7</td>\n",
       "    </tr>\n",
       "    <tr>\n",
       "      <th>5</th>\n",
       "      <td>3</td>\n",
       "      <td>[web, email, mobile, social]</td>\n",
       "      <td>7</td>\n",
       "      <td>7</td>\n",
       "      <td>discount</td>\n",
       "      <td>2298d6c36e964ae4a3e7e9706d1fb8c2</td>\n",
       "    </tr>\n",
       "    <tr>\n",
       "      <th>6</th>\n",
       "      <td>2</td>\n",
       "      <td>[web, email, mobile, social]</td>\n",
       "      <td>10</td>\n",
       "      <td>10</td>\n",
       "      <td>discount</td>\n",
       "      <td>fafdcd668e3743c1bb461111dcafc2a4</td>\n",
       "    </tr>\n",
       "    <tr>\n",
       "      <th>7</th>\n",
       "      <td>0</td>\n",
       "      <td>[email, mobile, social]</td>\n",
       "      <td>0</td>\n",
       "      <td>3</td>\n",
       "      <td>informational</td>\n",
       "      <td>5a8bc65990b245e5a138643cd4eb9837</td>\n",
       "    </tr>\n",
       "    <tr>\n",
       "      <th>8</th>\n",
       "      <td>5</td>\n",
       "      <td>[web, email, mobile, social]</td>\n",
       "      <td>5</td>\n",
       "      <td>5</td>\n",
       "      <td>bogo</td>\n",
       "      <td>f19421c1d4aa40978ebb69ca19b0e20d</td>\n",
       "    </tr>\n",
       "    <tr>\n",
       "      <th>9</th>\n",
       "      <td>2</td>\n",
       "      <td>[web, email, mobile]</td>\n",
       "      <td>10</td>\n",
       "      <td>7</td>\n",
       "      <td>discount</td>\n",
       "      <td>2906b810c7d4411798c6938adc9daaa5</td>\n",
       "    </tr>\n",
       "  </tbody>\n",
       "</table>\n",
       "</div>"
      ],
      "text/plain": [
       "   reward                      channels  difficulty  duration     offer_type  \\\n",
       "0      10       [email, mobile, social]          10         7           bogo   \n",
       "1      10  [web, email, mobile, social]          10         5           bogo   \n",
       "2       0          [web, email, mobile]           0         4  informational   \n",
       "3       5          [web, email, mobile]           5         7           bogo   \n",
       "4       5                  [web, email]          20        10       discount   \n",
       "5       3  [web, email, mobile, social]           7         7       discount   \n",
       "6       2  [web, email, mobile, social]          10        10       discount   \n",
       "7       0       [email, mobile, social]           0         3  informational   \n",
       "8       5  [web, email, mobile, social]           5         5           bogo   \n",
       "9       2          [web, email, mobile]          10         7       discount   \n",
       "\n",
       "                                 id  \n",
       "0  ae264e3637204a6fb9bb56bc8210ddfd  \n",
       "1  4d5c57ea9a6940dd891ad53e9dbe8da0  \n",
       "2  3f207df678b143eea3cee63160fa8bed  \n",
       "3  9b98b8c7a33c4b65b9aebfe6a799e6d9  \n",
       "4  0b1e1539f2cc45b7b9fa7c272da2e1d7  \n",
       "5  2298d6c36e964ae4a3e7e9706d1fb8c2  \n",
       "6  fafdcd668e3743c1bb461111dcafc2a4  \n",
       "7  5a8bc65990b245e5a138643cd4eb9837  \n",
       "8  f19421c1d4aa40978ebb69ca19b0e20d  \n",
       "9  2906b810c7d4411798c6938adc9daaa5  "
      ]
     },
     "execution_count": 3,
     "metadata": {},
     "output_type": "execute_result"
    }
   ],
   "source": [
    "portfolio"
   ]
  },
  {
   "cell_type": "markdown",
   "metadata": {},
   "source": [
    "- 只有10个 offerid , 对应不同的推送活动 所以 ifficulty,duration, offer_type,reward可以合并起来 作为一个完整的推送活动名字 为 offername，后面处理的时候  offername 和 offerid 只留下一个就行\n",
    "- channels 列可以做成onehot编码\n",
    "    \n",
    "    \n",
    "- Only 10 data, so the information of 'offer_type', 'difficulty', 'duration', 'reward'  can all be seen as special content of one offer type, and can be added into one\n",
    "- The channels column needs to be one-hot encoded.\n"
   ]
  },
  {
   "cell_type": "code",
   "execution_count": 10,
   "metadata": {},
   "outputs": [],
   "source": [
    "# 函数: 对portfolio前处理，\n",
    "# 思路：\n",
    "# 1 onehot编码 , list_channels = ['web', 'email', 'mobile', 'social']\n",
    "# 2 offername  把 ['offer_type', 'difficulty', 'duration', 'reward'] 这四个合并成一个 offername，后面处理的时候 offername和 offerid 留一个就行\n",
    "\n",
    "def portfolio_prep(df):\n",
    "    # df = portfolio\n",
    "    # one hot encoded   channels 4 class\n",
    "    df = df.copy()\n",
    "    list_channels = ['web', 'email', 'mobile', 'social']\n",
    "\n",
    "    for ch in list_channels:\n",
    "        # ch = list_channels[0]\n",
    "        df[ch] = df.channels.apply(lambda x: 1 if ch in x else 0)\n",
    "\n",
    "    df = df.drop('channels', axis=1)\n",
    "\n",
    "    df['offername'] = df.offer_type.astype(str) +'_'+ df.difficulty.astype(str) +'_'+ \\\n",
    "        df.duration.astype(str) +'_'+  df.reward.astype(str)\n",
    "    \n",
    "    # df = df.drop( ['offer_type', 'difficulty', 'duration', 'reward']  , axis=1)\n",
    "   \n",
    "    return df"
   ]
  },
  {
   "cell_type": "code",
   "execution_count": 13,
   "metadata": {},
   "outputs": [
    {
     "data": {
      "text/html": [
       "<div>\n",
       "<style scoped>\n",
       "    .dataframe tbody tr th:only-of-type {\n",
       "        vertical-align: middle;\n",
       "    }\n",
       "\n",
       "    .dataframe tbody tr th {\n",
       "        vertical-align: top;\n",
       "    }\n",
       "\n",
       "    .dataframe thead th {\n",
       "        text-align: right;\n",
       "    }\n",
       "</style>\n",
       "<table border=\"1\" class=\"dataframe\">\n",
       "  <thead>\n",
       "    <tr style=\"text-align: right;\">\n",
       "      <th></th>\n",
       "      <th>reward</th>\n",
       "      <th>difficulty</th>\n",
       "      <th>duration</th>\n",
       "      <th>offer_type</th>\n",
       "      <th>id</th>\n",
       "      <th>web</th>\n",
       "      <th>email</th>\n",
       "      <th>mobile</th>\n",
       "      <th>social</th>\n",
       "      <th>offername</th>\n",
       "    </tr>\n",
       "  </thead>\n",
       "  <tbody>\n",
       "    <tr>\n",
       "      <th>0</th>\n",
       "      <td>10</td>\n",
       "      <td>10</td>\n",
       "      <td>7</td>\n",
       "      <td>bogo</td>\n",
       "      <td>ae264e3637204a6fb9bb56bc8210ddfd</td>\n",
       "      <td>0</td>\n",
       "      <td>1</td>\n",
       "      <td>1</td>\n",
       "      <td>1</td>\n",
       "      <td>bogo_10_7_10</td>\n",
       "    </tr>\n",
       "    <tr>\n",
       "      <th>1</th>\n",
       "      <td>10</td>\n",
       "      <td>10</td>\n",
       "      <td>5</td>\n",
       "      <td>bogo</td>\n",
       "      <td>4d5c57ea9a6940dd891ad53e9dbe8da0</td>\n",
       "      <td>1</td>\n",
       "      <td>1</td>\n",
       "      <td>1</td>\n",
       "      <td>1</td>\n",
       "      <td>bogo_10_5_10</td>\n",
       "    </tr>\n",
       "    <tr>\n",
       "      <th>2</th>\n",
       "      <td>0</td>\n",
       "      <td>0</td>\n",
       "      <td>4</td>\n",
       "      <td>informational</td>\n",
       "      <td>3f207df678b143eea3cee63160fa8bed</td>\n",
       "      <td>1</td>\n",
       "      <td>1</td>\n",
       "      <td>1</td>\n",
       "      <td>0</td>\n",
       "      <td>informational_0_4_0</td>\n",
       "    </tr>\n",
       "    <tr>\n",
       "      <th>3</th>\n",
       "      <td>5</td>\n",
       "      <td>5</td>\n",
       "      <td>7</td>\n",
       "      <td>bogo</td>\n",
       "      <td>9b98b8c7a33c4b65b9aebfe6a799e6d9</td>\n",
       "      <td>1</td>\n",
       "      <td>1</td>\n",
       "      <td>1</td>\n",
       "      <td>0</td>\n",
       "      <td>bogo_5_7_5</td>\n",
       "    </tr>\n",
       "    <tr>\n",
       "      <th>4</th>\n",
       "      <td>5</td>\n",
       "      <td>20</td>\n",
       "      <td>10</td>\n",
       "      <td>discount</td>\n",
       "      <td>0b1e1539f2cc45b7b9fa7c272da2e1d7</td>\n",
       "      <td>1</td>\n",
       "      <td>1</td>\n",
       "      <td>0</td>\n",
       "      <td>0</td>\n",
       "      <td>discount_20_10_5</td>\n",
       "    </tr>\n",
       "    <tr>\n",
       "      <th>5</th>\n",
       "      <td>3</td>\n",
       "      <td>7</td>\n",
       "      <td>7</td>\n",
       "      <td>discount</td>\n",
       "      <td>2298d6c36e964ae4a3e7e9706d1fb8c2</td>\n",
       "      <td>1</td>\n",
       "      <td>1</td>\n",
       "      <td>1</td>\n",
       "      <td>1</td>\n",
       "      <td>discount_7_7_3</td>\n",
       "    </tr>\n",
       "    <tr>\n",
       "      <th>6</th>\n",
       "      <td>2</td>\n",
       "      <td>10</td>\n",
       "      <td>10</td>\n",
       "      <td>discount</td>\n",
       "      <td>fafdcd668e3743c1bb461111dcafc2a4</td>\n",
       "      <td>1</td>\n",
       "      <td>1</td>\n",
       "      <td>1</td>\n",
       "      <td>1</td>\n",
       "      <td>discount_10_10_2</td>\n",
       "    </tr>\n",
       "    <tr>\n",
       "      <th>7</th>\n",
       "      <td>0</td>\n",
       "      <td>0</td>\n",
       "      <td>3</td>\n",
       "      <td>informational</td>\n",
       "      <td>5a8bc65990b245e5a138643cd4eb9837</td>\n",
       "      <td>0</td>\n",
       "      <td>1</td>\n",
       "      <td>1</td>\n",
       "      <td>1</td>\n",
       "      <td>informational_0_3_0</td>\n",
       "    </tr>\n",
       "    <tr>\n",
       "      <th>8</th>\n",
       "      <td>5</td>\n",
       "      <td>5</td>\n",
       "      <td>5</td>\n",
       "      <td>bogo</td>\n",
       "      <td>f19421c1d4aa40978ebb69ca19b0e20d</td>\n",
       "      <td>1</td>\n",
       "      <td>1</td>\n",
       "      <td>1</td>\n",
       "      <td>1</td>\n",
       "      <td>bogo_5_5_5</td>\n",
       "    </tr>\n",
       "    <tr>\n",
       "      <th>9</th>\n",
       "      <td>2</td>\n",
       "      <td>10</td>\n",
       "      <td>7</td>\n",
       "      <td>discount</td>\n",
       "      <td>2906b810c7d4411798c6938adc9daaa5</td>\n",
       "      <td>1</td>\n",
       "      <td>1</td>\n",
       "      <td>1</td>\n",
       "      <td>0</td>\n",
       "      <td>discount_10_7_2</td>\n",
       "    </tr>\n",
       "  </tbody>\n",
       "</table>\n",
       "</div>"
      ],
      "text/plain": [
       "   reward  difficulty  duration     offer_type  \\\n",
       "0      10          10         7           bogo   \n",
       "1      10          10         5           bogo   \n",
       "2       0           0         4  informational   \n",
       "3       5           5         7           bogo   \n",
       "4       5          20        10       discount   \n",
       "5       3           7         7       discount   \n",
       "6       2          10        10       discount   \n",
       "7       0           0         3  informational   \n",
       "8       5           5         5           bogo   \n",
       "9       2          10         7       discount   \n",
       "\n",
       "                                 id  web  email  mobile  social  \\\n",
       "0  ae264e3637204a6fb9bb56bc8210ddfd    0      1       1       1   \n",
       "1  4d5c57ea9a6940dd891ad53e9dbe8da0    1      1       1       1   \n",
       "2  3f207df678b143eea3cee63160fa8bed    1      1       1       0   \n",
       "3  9b98b8c7a33c4b65b9aebfe6a799e6d9    1      1       1       0   \n",
       "4  0b1e1539f2cc45b7b9fa7c272da2e1d7    1      1       0       0   \n",
       "5  2298d6c36e964ae4a3e7e9706d1fb8c2    1      1       1       1   \n",
       "6  fafdcd668e3743c1bb461111dcafc2a4    1      1       1       1   \n",
       "7  5a8bc65990b245e5a138643cd4eb9837    0      1       1       1   \n",
       "8  f19421c1d4aa40978ebb69ca19b0e20d    1      1       1       1   \n",
       "9  2906b810c7d4411798c6938adc9daaa5    1      1       1       0   \n",
       "\n",
       "             offername  \n",
       "0         bogo_10_7_10  \n",
       "1         bogo_10_5_10  \n",
       "2  informational_0_4_0  \n",
       "3           bogo_5_7_5  \n",
       "4     discount_20_10_5  \n",
       "5       discount_7_7_3  \n",
       "6     discount_10_10_2  \n",
       "7  informational_0_3_0  \n",
       "8           bogo_5_5_5  \n",
       "9      discount_10_7_2  "
      ]
     },
     "execution_count": 13,
     "metadata": {},
     "output_type": "execute_result"
    }
   ],
   "source": [
    "portfolio_clean = portfolio_prep( portfolio ) \n",
    "portfolio_clean"
   ]
  },
  {
   "cell_type": "markdown",
   "metadata": {},
   "source": [
    "## 概览profile"
   ]
  },
  {
   "cell_type": "code",
   "execution_count": 14,
   "metadata": {},
   "outputs": [
    {
     "data": {
      "text/html": [
       "<div>\n",
       "<style scoped>\n",
       "    .dataframe tbody tr th:only-of-type {\n",
       "        vertical-align: middle;\n",
       "    }\n",
       "\n",
       "    .dataframe tbody tr th {\n",
       "        vertical-align: top;\n",
       "    }\n",
       "\n",
       "    .dataframe thead th {\n",
       "        text-align: right;\n",
       "    }\n",
       "</style>\n",
       "<table border=\"1\" class=\"dataframe\">\n",
       "  <thead>\n",
       "    <tr style=\"text-align: right;\">\n",
       "      <th></th>\n",
       "      <th>gender</th>\n",
       "      <th>age</th>\n",
       "      <th>id</th>\n",
       "      <th>became_member_on</th>\n",
       "      <th>income</th>\n",
       "    </tr>\n",
       "  </thead>\n",
       "  <tbody>\n",
       "    <tr>\n",
       "      <th>0</th>\n",
       "      <td>None</td>\n",
       "      <td>118</td>\n",
       "      <td>68be06ca386d4c31939f3a4f0e3dd783</td>\n",
       "      <td>20170212</td>\n",
       "      <td>NaN</td>\n",
       "    </tr>\n",
       "    <tr>\n",
       "      <th>1</th>\n",
       "      <td>F</td>\n",
       "      <td>55</td>\n",
       "      <td>0610b486422d4921ae7d2bf64640c50b</td>\n",
       "      <td>20170715</td>\n",
       "      <td>112000.0</td>\n",
       "    </tr>\n",
       "    <tr>\n",
       "      <th>2</th>\n",
       "      <td>None</td>\n",
       "      <td>118</td>\n",
       "      <td>38fe809add3b4fcf9315a9694bb96ff5</td>\n",
       "      <td>20180712</td>\n",
       "      <td>NaN</td>\n",
       "    </tr>\n",
       "    <tr>\n",
       "      <th>3</th>\n",
       "      <td>F</td>\n",
       "      <td>75</td>\n",
       "      <td>78afa995795e4d85b5d9ceeca43f5fef</td>\n",
       "      <td>20170509</td>\n",
       "      <td>100000.0</td>\n",
       "    </tr>\n",
       "    <tr>\n",
       "      <th>4</th>\n",
       "      <td>None</td>\n",
       "      <td>118</td>\n",
       "      <td>a03223e636434f42ac4c3df47e8bac43</td>\n",
       "      <td>20170804</td>\n",
       "      <td>NaN</td>\n",
       "    </tr>\n",
       "  </tbody>\n",
       "</table>\n",
       "</div>"
      ],
      "text/plain": [
       "  gender  age                                id  became_member_on    income\n",
       "0   None  118  68be06ca386d4c31939f3a4f0e3dd783          20170212       NaN\n",
       "1      F   55  0610b486422d4921ae7d2bf64640c50b          20170715  112000.0\n",
       "2   None  118  38fe809add3b4fcf9315a9694bb96ff5          20180712       NaN\n",
       "3      F   75  78afa995795e4d85b5d9ceeca43f5fef          20170509  100000.0\n",
       "4   None  118  a03223e636434f42ac4c3df47e8bac43          20170804       NaN"
      ]
     },
     "execution_count": 14,
     "metadata": {},
     "output_type": "execute_result"
    }
   ],
   "source": [
    "profile.head()"
   ]
  },
  {
   "cell_type": "code",
   "execution_count": 15,
   "metadata": {},
   "outputs": [
    {
     "name": "stdout",
     "output_type": "stream",
     "text": [
      "<class 'pandas.core.frame.DataFrame'>\n",
      "RangeIndex: 17000 entries, 0 to 16999\n",
      "Data columns (total 5 columns):\n",
      " #   Column            Non-Null Count  Dtype  \n",
      "---  ------            --------------  -----  \n",
      " 0   gender            14825 non-null  object \n",
      " 1   age               17000 non-null  int64  \n",
      " 2   id                17000 non-null  object \n",
      " 3   became_member_on  17000 non-null  int64  \n",
      " 4   income            14825 non-null  float64\n",
      "dtypes: float64(1), int64(2), object(2)\n",
      "memory usage: 664.2+ KB\n"
     ]
    }
   ],
   "source": [
    "profile.info()\n",
    "# `became_member_on` data type is int64, need to parse to dates."
   ]
  },
  {
   "cell_type": "markdown",
   "metadata": {},
   "source": [
    "- gender 和 income存在缺失数据   \n",
    "- became_member_on 可以先转化为datetime, 在转化为用户的  became_member_year 和 member_days 特征 \n",
    "- 特征工程的时候 age最好转化为年龄分组数据 以10为间隔\n",
    "    \n",
    "- There are some missing data for gender and income\n",
    "- became_member_on can be converted to datetime first, and then converted to the user's became_member_year and member_days features\n",
    "- In feature engineering, age is best converted into age grouping data with 10 intervals"
   ]
  },
  {
   "cell_type": "markdown",
   "metadata": {},
   "source": [
    "### age 和 income"
   ]
  },
  {
   "cell_type": "code",
   "execution_count": 16,
   "metadata": {},
   "outputs": [
    {
     "data": {
      "text/html": [
       "<div>\n",
       "<style scoped>\n",
       "    .dataframe tbody tr th:only-of-type {\n",
       "        vertical-align: middle;\n",
       "    }\n",
       "\n",
       "    .dataframe tbody tr th {\n",
       "        vertical-align: top;\n",
       "    }\n",
       "\n",
       "    .dataframe thead th {\n",
       "        text-align: right;\n",
       "    }\n",
       "</style>\n",
       "<table border=\"1\" class=\"dataframe\">\n",
       "  <thead>\n",
       "    <tr style=\"text-align: right;\">\n",
       "      <th></th>\n",
       "      <th>age</th>\n",
       "      <th>income</th>\n",
       "    </tr>\n",
       "  </thead>\n",
       "  <tbody>\n",
       "    <tr>\n",
       "      <th>count</th>\n",
       "      <td>17000.000000</td>\n",
       "      <td>14825.000000</td>\n",
       "    </tr>\n",
       "    <tr>\n",
       "      <th>mean</th>\n",
       "      <td>62.531412</td>\n",
       "      <td>65404.991568</td>\n",
       "    </tr>\n",
       "    <tr>\n",
       "      <th>std</th>\n",
       "      <td>26.738580</td>\n",
       "      <td>21598.299410</td>\n",
       "    </tr>\n",
       "    <tr>\n",
       "      <th>min</th>\n",
       "      <td>18.000000</td>\n",
       "      <td>30000.000000</td>\n",
       "    </tr>\n",
       "    <tr>\n",
       "      <th>25%</th>\n",
       "      <td>45.000000</td>\n",
       "      <td>49000.000000</td>\n",
       "    </tr>\n",
       "    <tr>\n",
       "      <th>50%</th>\n",
       "      <td>58.000000</td>\n",
       "      <td>64000.000000</td>\n",
       "    </tr>\n",
       "    <tr>\n",
       "      <th>75%</th>\n",
       "      <td>73.000000</td>\n",
       "      <td>80000.000000</td>\n",
       "    </tr>\n",
       "    <tr>\n",
       "      <th>max</th>\n",
       "      <td>118.000000</td>\n",
       "      <td>120000.000000</td>\n",
       "    </tr>\n",
       "  </tbody>\n",
       "</table>\n",
       "</div>"
      ],
      "text/plain": [
       "                age         income\n",
       "count  17000.000000   14825.000000\n",
       "mean      62.531412   65404.991568\n",
       "std       26.738580   21598.299410\n",
       "min       18.000000   30000.000000\n",
       "25%       45.000000   49000.000000\n",
       "50%       58.000000   64000.000000\n",
       "75%       73.000000   80000.000000\n",
       "max      118.000000  120000.000000"
      ]
     },
     "execution_count": 16,
     "metadata": {},
     "output_type": "execute_result"
    }
   ],
   "source": [
    "profile[['age', 'income']].describe()"
   ]
  },
  {
   "cell_type": "code",
   "execution_count": 17,
   "metadata": {
    "lines_to_next_cell": 2
   },
   "outputs": [
    {
     "data": {
      "image/png": "[encoded data removed]",
      "text/plain": [
       "<Figure size 720x360 with 4 Axes>"
      ]
     },
     "metadata": {
      "needs_background": "light"
     },
     "output_type": "display_data"
    }
   ],
   "source": [
    "profile[['age', 'income', 'became_member_on']].hist(figsize=(10,5));"
   ]
  },
  {
   "cell_type": "markdown",
   "metadata": {},
   "source": [
    "- age数据里 有太多118岁的 看上去不正常,总共2175人\n",
    "- age和income 基本符合正态分布，became_member人数 每年逐渐增多\n",
    "    \n",
    "    \n",
    "- to much 118 years old people (2175) in age columns, seems abnormal\n",
    "- age and income basically conform to the normal distribution, the number of become_member gradually increases every year"
   ]
  },
  {
   "cell_type": "code",
   "execution_count": 18,
   "metadata": {
    "lines_to_next_cell": 2
   },
   "outputs": [
    {
     "data": {
      "text/plain": [
       "118    2175\n",
       "Name: age, dtype: int64"
      ]
     },
     "execution_count": 18,
     "metadata": {},
     "output_type": "execute_result"
    }
   ],
   "source": [
    "profile[profile.age == 118]['age'].value_counts()  # 2175"
   ]
  },
  {
   "cell_type": "markdown",
   "metadata": {},
   "source": [
    "### 列缺失"
   ]
  },
  {
   "cell_type": "code",
   "execution_count": 19,
   "metadata": {
    "lines_to_next_cell": 2
   },
   "outputs": [
    {
     "data": {
      "text/plain": [
       "gender              2175\n",
       "age                    0\n",
       "id                     0\n",
       "became_member_on       0\n",
       "income              2175\n",
       "dtype: int64"
      ]
     },
     "execution_count": 19,
     "metadata": {},
     "output_type": "execute_result"
    }
   ],
   "source": [
    "profile.isnull().sum()  #  gender 2175, income 2175"
   ]
  },
  {
   "cell_type": "code",
   "execution_count": 20,
   "metadata": {
    "lines_to_next_cell": 2
   },
   "outputs": [
    {
     "data": {
      "text/html": [
       "<div>\n",
       "<style scoped>\n",
       "    .dataframe tbody tr th:only-of-type {\n",
       "        vertical-align: middle;\n",
       "    }\n",
       "\n",
       "    .dataframe tbody tr th {\n",
       "        vertical-align: top;\n",
       "    }\n",
       "\n",
       "    .dataframe thead th {\n",
       "        text-align: right;\n",
       "    }\n",
       "</style>\n",
       "<table border=\"1\" class=\"dataframe\">\n",
       "  <thead>\n",
       "    <tr style=\"text-align: right;\">\n",
       "      <th></th>\n",
       "      <th>gender</th>\n",
       "      <th>income</th>\n",
       "    </tr>\n",
       "  </thead>\n",
       "  <tbody>\n",
       "    <tr>\n",
       "      <th>0</th>\n",
       "      <td>None</td>\n",
       "      <td>NaN</td>\n",
       "    </tr>\n",
       "    <tr>\n",
       "      <th>2</th>\n",
       "      <td>None</td>\n",
       "      <td>NaN</td>\n",
       "    </tr>\n",
       "    <tr>\n",
       "      <th>4</th>\n",
       "      <td>None</td>\n",
       "      <td>NaN</td>\n",
       "    </tr>\n",
       "    <tr>\n",
       "      <th>6</th>\n",
       "      <td>None</td>\n",
       "      <td>NaN</td>\n",
       "    </tr>\n",
       "    <tr>\n",
       "      <th>7</th>\n",
       "      <td>None</td>\n",
       "      <td>NaN</td>\n",
       "    </tr>\n",
       "    <tr>\n",
       "      <th>...</th>\n",
       "      <td>...</td>\n",
       "      <td>...</td>\n",
       "    </tr>\n",
       "    <tr>\n",
       "      <th>16980</th>\n",
       "      <td>None</td>\n",
       "      <td>NaN</td>\n",
       "    </tr>\n",
       "    <tr>\n",
       "      <th>16982</th>\n",
       "      <td>None</td>\n",
       "      <td>NaN</td>\n",
       "    </tr>\n",
       "    <tr>\n",
       "      <th>16989</th>\n",
       "      <td>None</td>\n",
       "      <td>NaN</td>\n",
       "    </tr>\n",
       "    <tr>\n",
       "      <th>16991</th>\n",
       "      <td>None</td>\n",
       "      <td>NaN</td>\n",
       "    </tr>\n",
       "    <tr>\n",
       "      <th>16994</th>\n",
       "      <td>None</td>\n",
       "      <td>NaN</td>\n",
       "    </tr>\n",
       "  </tbody>\n",
       "</table>\n",
       "<p>2175 rows × 2 columns</p>\n",
       "</div>"
      ],
      "text/plain": [
       "      gender  income\n",
       "0       None     NaN\n",
       "2       None     NaN\n",
       "4       None     NaN\n",
       "6       None     NaN\n",
       "7       None     NaN\n",
       "...      ...     ...\n",
       "16980   None     NaN\n",
       "16982   None     NaN\n",
       "16989   None     NaN\n",
       "16991   None     NaN\n",
       "16994   None     NaN\n",
       "\n",
       "[2175 rows x 2 columns]"
      ]
     },
     "execution_count": 20,
     "metadata": {},
     "output_type": "execute_result"
    }
   ],
   "source": [
    "profile[profile.age == 118][ ['gender', 'income'] ]"
   ]
  },
  {
   "cell_type": "markdown",
   "metadata": {},
   "source": [
    "- 118岁的用户 在income和gender上都缺失了信息 如果不影响整体特征分布 可以考虑删除。\n",
    "    \n",
    "    \n",
    "- Age at where 118 all missing values in income and gender columns. If it does not affect the overall feature distribution, consider delete these."
   ]
  },
  {
   "cell_type": "markdown",
   "metadata": {},
   "source": [
    "###  行缺失"
   ]
  },
  {
   "cell_type": "code",
   "execution_count": 21,
   "metadata": {
    "lines_to_next_cell": 2
   },
   "outputs": [
    {
     "data": {
      "text/plain": [
       "0    14825\n",
       "2     2175\n",
       "dtype: int64"
      ]
     },
     "execution_count": 21,
     "metadata": {},
     "output_type": "execute_result"
    }
   ],
   "source": [
    "# How much data is missing in each row of profiile  dataset?\n",
    "row_null = profile.isnull().sum(axis=1)\n",
    "row_null.value_counts()"
   ]
  },
  {
   "cell_type": "markdown",
   "metadata": {},
   "source": [
    "- 有2175行缺少了2个特征 占总数的14%\n",
    "- There are 2175 rows missing 2 features, 14% of the total"
   ]
  },
  {
   "cell_type": "code",
   "execution_count": 22,
   "metadata": {},
   "outputs": [
    {
     "data": {
      "text/plain": [
       "<AxesSubplot:>"
      ]
     },
     "execution_count": 22,
     "metadata": {},
     "output_type": "execute_result"
    },
    {
     "data": {
      "text/plain": [
       "<AxesSubplot:>"
      ]
     },
     "execution_count": 22,
     "metadata": {},
     "output_type": "execute_result"
    },
    {
     "data": {
      "text/plain": [
       "Text(0.5, 1.0, 'no missing value')"
      ]
     },
     "execution_count": 22,
     "metadata": {},
     "output_type": "execute_result"
    },
    {
     "data": {
      "text/plain": [
       "Text(0.5, 1.0, 'with missing value')"
      ]
     },
     "execution_count": 22,
     "metadata": {},
     "output_type": "execute_result"
    },
    {
     "data": {
      "text/plain": [
       "Text(0.5, 0.98, 'Feature: age')"
      ]
     },
     "execution_count": 22,
     "metadata": {},
     "output_type": "execute_result"
    },
    {
     "data": {
      "text/plain": [
       "<AxesSubplot:>"
      ]
     },
     "execution_count": 22,
     "metadata": {},
     "output_type": "execute_result"
    },
    {
     "data": {
      "text/plain": [
       "<AxesSubplot:>"
      ]
     },
     "execution_count": 22,
     "metadata": {},
     "output_type": "execute_result"
    },
    {
     "data": {
      "text/plain": [
       "Text(0.5, 1.0, 'no missing value')"
      ]
     },
     "execution_count": 22,
     "metadata": {},
     "output_type": "execute_result"
    },
    {
     "data": {
      "text/plain": [
       "Text(0.5, 1.0, 'with missing value')"
      ]
     },
     "execution_count": 22,
     "metadata": {},
     "output_type": "execute_result"
    },
    {
     "data": {
      "text/plain": [
       "Text(0.5, 0.98, 'Feature: became_member_on')"
      ]
     },
     "execution_count": 22,
     "metadata": {},
     "output_type": "execute_result"
    },
    {
     "data": {
      "text/plain": [
       "<AxesSubplot:>"
      ]
     },
     "execution_count": 22,
     "metadata": {},
     "output_type": "execute_result"
    },
    {
     "data": {
      "text/plain": [
       "[Text(0, 0, 'M'), Text(1, 0, 'F'), Text(2, 0, 'O')]"
      ]
     },
     "execution_count": 22,
     "metadata": {},
     "output_type": "execute_result"
    },
    {
     "data": {
      "text/plain": [
       "Text(0.5, 1.0, 'no missing value')"
      ]
     },
     "execution_count": 22,
     "metadata": {},
     "output_type": "execute_result"
    },
    {
     "data": {
      "text/plain": [
       "Text(0.5, 1.0, 'with missing value')"
      ]
     },
     "execution_count": 22,
     "metadata": {},
     "output_type": "execute_result"
    },
    {
     "data": {
      "text/plain": [
       "Text(0.5, 0.98, 'Feature: gender')"
      ]
     },
     "execution_count": 22,
     "metadata": {},
     "output_type": "execute_result"
    },
    {
     "data": {
      "text/plain": [
       "<AxesSubplot:>"
      ]
     },
     "execution_count": 22,
     "metadata": {},
     "output_type": "execute_result"
    },
    {
     "data": {
      "text/plain": [
       "<AxesSubplot:>"
      ]
     },
     "execution_count": 22,
     "metadata": {},
     "output_type": "execute_result"
    },
    {
     "data": {
      "text/plain": [
       "Text(0.5, 1.0, 'no missing value')"
      ]
     },
     "execution_count": 22,
     "metadata": {},
     "output_type": "execute_result"
    },
    {
     "data": {
      "text/plain": [
       "Text(0.5, 1.0, 'with missing value')"
      ]
     },
     "execution_count": 22,
     "metadata": {},
     "output_type": "execute_result"
    },
    {
     "data": {
      "text/plain": [
       "Text(0.5, 0.98, 'Feature: income')"
      ]
     },
     "execution_count": 22,
     "metadata": {},
     "output_type": "execute_result"
    },
    {
     "data": {
      "image/png": "[encoded data removed]",
      "text/plain": [
       "<Figure size 576x288 with 2 Axes>"
      ]
     },
     "metadata": {
      "needs_background": "light"
     },
     "output_type": "display_data"
    },
    {
     "data": {
      "image/png": "[encoded data removed]",
      "text/plain": [
       "<Figure size 576x288 with 2 Axes>"
      ]
     },
     "metadata": {
      "needs_background": "light"
     },
     "output_type": "display_data"
    },
    {
     "data": {
      "image/png": "[encoded data removed]",
      "text/plain": [
       "<Figure size 576x288 with 2 Axes>"
      ]
     },
     "metadata": {
      "needs_background": "light"
     },
     "output_type": "display_data"
    },
    {
     "data": {
      "image/png": "[encoded data removed]",
      "text/plain": [
       "<Figure size 576x288 with 2 Axes>"
      ]
     },
     "metadata": {
      "needs_background": "light"
     },
     "output_type": "display_data"
    }
   ],
   "source": [
    "#%%  比较 行缺失 vs 无缺失，在各列下的分布图  有无明显差别 \n",
    "\n",
    "profile_wonull = profile[row_null ==0]\n",
    "profile_winull = profile[row_null > 0]\n",
    "\n",
    "for col in ['age', 'became_member_on','gender', 'income']:\n",
    "    # col = 'became_member_on'\n",
    "    f, (ax1,ax2) = plt.subplots(1,2, figsize=(8,4))\n",
    "   \n",
    "    if col == 'gender':\n",
    "        # col = 'gender'\n",
    "        profile_wonull[col].value_counts().plot(kind='bar', ax=ax1)\n",
    "        ax1.set_xticklabels(ax1.xaxis.get_majorticklabels(),rotation=0)\n",
    "        try :\n",
    "            profile_winull[col].value_counts().plot(kind='bar', ax=ax2)\n",
    "        except:\n",
    "            pass\n",
    "    else:\n",
    "        profile_wonull[col].hist(ax=ax1)\n",
    "        profile_winull[col].hist(ax=ax2)\n",
    "    \n",
    "    ax1.grid(False)\n",
    "    ax2.grid(False)\n",
    "    ax1.set_title('no missing value' )\n",
    "    ax2.set_title('with missing value')\n",
    "    f.suptitle('Feature: ' + col)\n",
    "    f.tight_layout()\n",
    "    f.subplots_adjust(top=0.85)\n"
   ]
  },
  {
   "cell_type": "markdown",
   "metadata": {},
   "source": [
    "### 重复"
   ]
  },
  {
   "cell_type": "code",
   "execution_count": 23,
   "metadata": {},
   "outputs": [
    {
     "data": {
      "text/plain": [
       "0"
      ]
     },
     "execution_count": 23,
     "metadata": {},
     "output_type": "execute_result"
    }
   ],
   "source": [
    "profile.id.duplicated().sum()  # 无重复"
   ]
  },
  {
   "cell_type": "markdown",
   "metadata": {},
   "source": [
    "### income vs gender"
   ]
  },
  {
   "cell_type": "code",
   "execution_count": 24,
   "metadata": {
    "scrolled": true
   },
   "outputs": [
    {
     "data": {
      "text/plain": [
       "M    8484\n",
       "F    6129\n",
       "O     212\n",
       "Name: gender, dtype: int64"
      ]
     },
     "execution_count": 24,
     "metadata": {},
     "output_type": "execute_result"
    }
   ],
   "source": [
    "profile.gender.value_counts()"
   ]
  },
  {
   "cell_type": "code",
   "execution_count": 25,
   "metadata": {},
   "outputs": [
    {
     "data": {
      "text/plain": [
       "<AxesSubplot:>"
      ]
     },
     "execution_count": 25,
     "metadata": {},
     "output_type": "execute_result"
    },
    {
     "data": {
      "text/plain": [
       "[Text(0, 0, 'M'), Text(1, 0, 'F'), Text(2, 0, 'O')]"
      ]
     },
     "execution_count": 25,
     "metadata": {},
     "output_type": "execute_result"
    },
    {
     "data": {
      "text/plain": [
       "Text(0.5, 1.0, 'Gender Distribution')"
      ]
     },
     "execution_count": 25,
     "metadata": {},
     "output_type": "execute_result"
    },
    {
     "data": {
      "text/plain": [
       "Text(0, 0.5, 'Count')"
      ]
     },
     "execution_count": 25,
     "metadata": {},
     "output_type": "execute_result"
    },
    {
     "data": {
      "text/plain": [
       "(array([1206., 1204., 1443., 1344., 1386.,  637.,  536.,  417.,  153.,\n",
       "         158.]),\n",
       " array([ 30000.,  39000.,  48000.,  57000.,  66000.,  75000.,  84000.,\n",
       "         93000., 102000., 111000., 120000.]),\n",
       " <BarContainer object of 10 artists>)"
      ]
     },
     "execution_count": 25,
     "metadata": {},
     "output_type": "execute_result"
    },
    {
     "data": {
      "text/plain": [
       "(array([498., 485., 757., 824., 932., 776., 649., 561., 345., 302.]),\n",
       " array([ 30000.,  39000.,  48000.,  57000.,  66000.,  75000.,  84000.,\n",
       "         93000., 102000., 111000., 120000.]),\n",
       " <BarContainer object of 10 artists>)"
      ]
     },
     "execution_count": 25,
     "metadata": {},
     "output_type": "execute_result"
    },
    {
     "data": {
      "text/plain": [
       "(array([22., 16., 14., 37., 27., 24., 16., 21., 23., 12.]),\n",
       " array([ 30000.,  37000.,  44000.,  51000.,  58000.,  65000.,  72000.,\n",
       "         79000.,  86000.,  93000., 100000.]),\n",
       " <BarContainer object of 10 artists>)"
      ]
     },
     "execution_count": 25,
     "metadata": {},
     "output_type": "execute_result"
    },
    {
     "data": {
      "text/plain": [
       "Text(0.5, 0, '$ Income')"
      ]
     },
     "execution_count": 25,
     "metadata": {},
     "output_type": "execute_result"
    },
    {
     "data": {
      "text/plain": [
       "Text(0, 0.5, 'Count')"
      ]
     },
     "execution_count": 25,
     "metadata": {},
     "output_type": "execute_result"
    },
    {
     "data": {
      "text/plain": [
       "Text(0.5, 1.0, 'Income Distribution')"
      ]
     },
     "execution_count": 25,
     "metadata": {},
     "output_type": "execute_result"
    },
    {
     "data": {
      "text/plain": [
       "<matplotlib.legend.Legend at 0x14f36648>"
      ]
     },
     "execution_count": 25,
     "metadata": {},
     "output_type": "execute_result"
    },
    {
     "data": {
      "text/plain": [
       "<AxesSubplot:xlabel='gender', ylabel='income'>"
      ]
     },
     "execution_count": 25,
     "metadata": {},
     "output_type": "execute_result"
    },
    {
     "data": {
      "image/png": "[encoded data removed]",
      "text/plain": [
       "<Figure size 1080x360 with 3 Axes>"
      ]
     },
     "metadata": {
      "needs_background": "light"
     },
     "output_type": "display_data"
    }
   ],
   "source": [
    "# 分析性别 和 income， 作图 性别count， 不同性别-income hist分布，不同性别-income box图\n",
    "f, (ax1,ax2,ax3) = plt.subplots(1,3, figsize=(15,5))\n",
    "\n",
    "# gender distribution bar\n",
    "profile.gender.value_counts().plot(kind='bar', ax=ax1)\n",
    "ax1.set_xticklabels(ax1.get_xticklabels(), rotation=0)\n",
    "ax1.set_title('Gender Distribution')\n",
    "ax1.set_ylabel('Count')\n",
    "\n",
    "# different gender's income distribution histogram\n",
    "ax2.hist(profile[profile.gender == 'M']['income'], alpha=0.5, label='M')\n",
    "ax2.hist(profile[profile.gender == 'F']['income'], alpha=0.5, label='F')\n",
    "ax2.hist(profile[profile.gender == 'O']['income'], alpha=0.5, label='O')\n",
    "ax2.set_xlabel('$ Income')\n",
    "ax2.set_ylabel('Count')\n",
    "ax2.set_title('Income Distribution')\n",
    "ax2.legend()\n",
    "\n",
    "# different gender's income statics box\n",
    "sns.boxplot('gender', 'income', data=profile, ax=ax3, order=['M', 'F', 'O'])\n",
    "\n",
    "plt.tight_layout()\n"
   ]
  },
  {
   "cell_type": "markdown",
   "metadata": {},
   "source": [
    "- 男性人数较多 女性其次 还有212个没有性别的\n",
    "- 女性平均收入较高 其次是无性别的 \n",
    "  \n",
    "  \n",
    "- There are more men than women, and 212 people with no gender imfornation.\n",
    "- Women's average income is higher, followed by genderless"
   ]
  },
  {
   "cell_type": "markdown",
   "metadata": {},
   "source": [
    "- 对于缺失数据的行，在　became_member_on这个特征上和无缺失行　没有明显的分布规律差别,可以删除\n",
    "- For rows with missing data, there is no obvious difference in the distribution pattern of \"became_member_on\" with no missing rows. These rows can be deleted."
   ]
  },
  {
   "cell_type": "markdown",
   "metadata": {},
   "source": [
    "### 转换时间类型"
   ]
  },
  {
   "cell_type": "code",
   "execution_count": 26,
   "metadata": {},
   "outputs": [],
   "source": [
    "def profile_prep_dates(df):\n",
    "    # df = profile\n",
    "    df = df.copy()\n",
    "    #convert to string\n",
    "    df['became_member_on'] = pd.to_datetime( df.became_member_on.apply(lambda x: str(x)) )\n",
    "    return df\n",
    "\n",
    "profile_clean = profile_prep_dates( profile )"
   ]
  },
  {
   "cell_type": "markdown",
   "metadata": {},
   "source": [
    "## 概览 Transcript"
   ]
  },
  {
   "cell_type": "code",
   "execution_count": 27,
   "metadata": {
    "lines_to_next_cell": 2,
    "scrolled": true
   },
   "outputs": [
    {
     "data": {
      "text/html": [
       "<div>\n",
       "<style scoped>\n",
       "    .dataframe tbody tr th:only-of-type {\n",
       "        vertical-align: middle;\n",
       "    }\n",
       "\n",
       "    .dataframe tbody tr th {\n",
       "        vertical-align: top;\n",
       "    }\n",
       "\n",
       "    .dataframe thead th {\n",
       "        text-align: right;\n",
       "    }\n",
       "</style>\n",
       "<table border=\"1\" class=\"dataframe\">\n",
       "  <thead>\n",
       "    <tr style=\"text-align: right;\">\n",
       "      <th></th>\n",
       "      <th>person</th>\n",
       "      <th>event</th>\n",
       "      <th>value</th>\n",
       "      <th>time</th>\n",
       "    </tr>\n",
       "  </thead>\n",
       "  <tbody>\n",
       "    <tr>\n",
       "      <th>0</th>\n",
       "      <td>78afa995795e4d85b5d9ceeca43f5fef</td>\n",
       "      <td>offer received</td>\n",
       "      <td>{'offer id': '9b98b8c7a33c4b65b9aebfe6a799e6d9'}</td>\n",
       "      <td>0</td>\n",
       "    </tr>\n",
       "    <tr>\n",
       "      <th>1</th>\n",
       "      <td>a03223e636434f42ac4c3df47e8bac43</td>\n",
       "      <td>offer received</td>\n",
       "      <td>{'offer id': '0b1e1539f2cc45b7b9fa7c272da2e1d7'}</td>\n",
       "      <td>0</td>\n",
       "    </tr>\n",
       "    <tr>\n",
       "      <th>2</th>\n",
       "      <td>e2127556f4f64592b11af22de27a7932</td>\n",
       "      <td>offer received</td>\n",
       "      <td>{'offer id': '2906b810c7d4411798c6938adc9daaa5'}</td>\n",
       "      <td>0</td>\n",
       "    </tr>\n",
       "    <tr>\n",
       "      <th>3</th>\n",
       "      <td>8ec6ce2a7e7949b1bf142def7d0e0586</td>\n",
       "      <td>offer received</td>\n",
       "      <td>{'offer id': 'fafdcd668e3743c1bb461111dcafc2a4'}</td>\n",
       "      <td>0</td>\n",
       "    </tr>\n",
       "    <tr>\n",
       "      <th>4</th>\n",
       "      <td>68617ca6246f4fbc85e91a2a49552598</td>\n",
       "      <td>offer received</td>\n",
       "      <td>{'offer id': '4d5c57ea9a6940dd891ad53e9dbe8da0'}</td>\n",
       "      <td>0</td>\n",
       "    </tr>\n",
       "  </tbody>\n",
       "</table>\n",
       "</div>"
      ],
      "text/plain": [
       "                             person           event  \\\n",
       "0  78afa995795e4d85b5d9ceeca43f5fef  offer received   \n",
       "1  a03223e636434f42ac4c3df47e8bac43  offer received   \n",
       "2  e2127556f4f64592b11af22de27a7932  offer received   \n",
       "3  8ec6ce2a7e7949b1bf142def7d0e0586  offer received   \n",
       "4  68617ca6246f4fbc85e91a2a49552598  offer received   \n",
       "\n",
       "                                              value  time  \n",
       "0  {'offer id': '9b98b8c7a33c4b65b9aebfe6a799e6d9'}     0  \n",
       "1  {'offer id': '0b1e1539f2cc45b7b9fa7c272da2e1d7'}     0  \n",
       "2  {'offer id': '2906b810c7d4411798c6938adc9daaa5'}     0  \n",
       "3  {'offer id': 'fafdcd668e3743c1bb461111dcafc2a4'}     0  \n",
       "4  {'offer id': '4d5c57ea9a6940dd891ad53e9dbe8da0'}     0  "
      ]
     },
     "execution_count": 27,
     "metadata": {},
     "output_type": "execute_result"
    }
   ],
   "source": [
    "transcript.head()"
   ]
  },
  {
   "cell_type": "code",
   "execution_count": 28,
   "metadata": {
    "scrolled": true
   },
   "outputs": [
    {
     "data": {
      "text/html": [
       "<div>\n",
       "<style scoped>\n",
       "    .dataframe tbody tr th:only-of-type {\n",
       "        vertical-align: middle;\n",
       "    }\n",
       "\n",
       "    .dataframe tbody tr th {\n",
       "        vertical-align: top;\n",
       "    }\n",
       "\n",
       "    .dataframe thead th {\n",
       "        text-align: right;\n",
       "    }\n",
       "</style>\n",
       "<table border=\"1\" class=\"dataframe\">\n",
       "  <thead>\n",
       "    <tr style=\"text-align: right;\">\n",
       "      <th></th>\n",
       "      <th>person</th>\n",
       "      <th>event</th>\n",
       "      <th>value</th>\n",
       "      <th>time</th>\n",
       "    </tr>\n",
       "  </thead>\n",
       "  <tbody>\n",
       "    <tr>\n",
       "      <th>220005</th>\n",
       "      <td>445649ee453c4633a1e6af2b38d90881</td>\n",
       "      <td>offer viewed</td>\n",
       "      <td>{'offer id': 'ae264e3637204a6fb9bb56bc8210ddfd'}</td>\n",
       "      <td>510</td>\n",
       "    </tr>\n",
       "    <tr>\n",
       "      <th>159204</th>\n",
       "      <td>b56e747d7f6641c88cacc52c5eaebf57</td>\n",
       "      <td>offer received</td>\n",
       "      <td>{'offer id': 'f19421c1d4aa40978ebb69ca19b0e20d'}</td>\n",
       "      <td>408</td>\n",
       "    </tr>\n",
       "    <tr>\n",
       "      <th>162177</th>\n",
       "      <td>dc82a269318741b18aa62b0be37a155a</td>\n",
       "      <td>offer received</td>\n",
       "      <td>{'offer id': 'fafdcd668e3743c1bb461111dcafc2a4'}</td>\n",
       "      <td>408</td>\n",
       "    </tr>\n",
       "    <tr>\n",
       "      <th>202721</th>\n",
       "      <td>7a5f624f754d4fceb346887164425f1d</td>\n",
       "      <td>offer received</td>\n",
       "      <td>{'offer id': '2906b810c7d4411798c6938adc9daaa5'}</td>\n",
       "      <td>504</td>\n",
       "    </tr>\n",
       "    <tr>\n",
       "      <th>215927</th>\n",
       "      <td>388bda1fea454949abd8d927b04cbd6b</td>\n",
       "      <td>offer completed</td>\n",
       "      <td>{'offer_id': '0b1e1539f2cc45b7b9fa7c272da2e1d7...</td>\n",
       "      <td>504</td>\n",
       "    </tr>\n",
       "    <tr>\n",
       "      <th>14121</th>\n",
       "      <td>347a75e83b70480ba7b53c7f737ebb4a</td>\n",
       "      <td>transaction</td>\n",
       "      <td>{'amount': 7.44}</td>\n",
       "      <td>0</td>\n",
       "    </tr>\n",
       "    <tr>\n",
       "      <th>218410</th>\n",
       "      <td>3a1242dda16248728e350c4bdeb21972</td>\n",
       "      <td>transaction</td>\n",
       "      <td>{'amount': 31.41}</td>\n",
       "      <td>510</td>\n",
       "    </tr>\n",
       "    <tr>\n",
       "      <th>164272</th>\n",
       "      <td>28b3a891cbfa45b1b4f242a8ae561cca</td>\n",
       "      <td>transaction</td>\n",
       "      <td>{'amount': 2.98}</td>\n",
       "      <td>408</td>\n",
       "    </tr>\n",
       "    <tr>\n",
       "      <th>65228</th>\n",
       "      <td>fb0737a6629b4f5bade477a2f944543c</td>\n",
       "      <td>offer received</td>\n",
       "      <td>{'offer id': '3f207df678b143eea3cee63160fa8bed'}</td>\n",
       "      <td>168</td>\n",
       "    </tr>\n",
       "    <tr>\n",
       "      <th>10162</th>\n",
       "      <td>39932598278d4ebdbba91d6e0786aa07</td>\n",
       "      <td>offer received</td>\n",
       "      <td>{'offer id': '3f207df678b143eea3cee63160fa8bed'}</td>\n",
       "      <td>0</td>\n",
       "    </tr>\n",
       "    <tr>\n",
       "      <th>58977</th>\n",
       "      <td>1f8edcea5f434db3b9cb6fe79d80ce80</td>\n",
       "      <td>offer received</td>\n",
       "      <td>{'offer id': '0b1e1539f2cc45b7b9fa7c272da2e1d7'}</td>\n",
       "      <td>168</td>\n",
       "    </tr>\n",
       "    <tr>\n",
       "      <th>163963</th>\n",
       "      <td>f8e6f303728449f0a610f7fce625d1da</td>\n",
       "      <td>offer completed</td>\n",
       "      <td>{'offer_id': '2298d6c36e964ae4a3e7e9706d1fb8c2...</td>\n",
       "      <td>408</td>\n",
       "    </tr>\n",
       "    <tr>\n",
       "      <th>16548</th>\n",
       "      <td>2cef524a7be341e0b51ff1a3b1228a78</td>\n",
       "      <td>transaction</td>\n",
       "      <td>{'amount': 30.41}</td>\n",
       "      <td>6</td>\n",
       "    </tr>\n",
       "    <tr>\n",
       "      <th>288360</th>\n",
       "      <td>da84884d6b5e4eb3bb01142a4a645cb7</td>\n",
       "      <td>transaction</td>\n",
       "      <td>{'amount': 0.65}</td>\n",
       "      <td>642</td>\n",
       "    </tr>\n",
       "    <tr>\n",
       "      <th>209584</th>\n",
       "      <td>04ca68b26ef14fbc96eb01ab1f2d1fc2</td>\n",
       "      <td>offer received</td>\n",
       "      <td>{'offer id': 'f19421c1d4aa40978ebb69ca19b0e20d'}</td>\n",
       "      <td>504</td>\n",
       "    </tr>\n",
       "    <tr>\n",
       "      <th>246398</th>\n",
       "      <td>67ce1a3e90f748b2b21723186529bdc2</td>\n",
       "      <td>offer received</td>\n",
       "      <td>{'offer id': '3f207df678b143eea3cee63160fa8bed'}</td>\n",
       "      <td>576</td>\n",
       "    </tr>\n",
       "    <tr>\n",
       "      <th>136682</th>\n",
       "      <td>7d2f82de830043ceb3791cdd78bc2a31</td>\n",
       "      <td>offer completed</td>\n",
       "      <td>{'offer_id': 'ae264e3637204a6fb9bb56bc8210ddfd...</td>\n",
       "      <td>360</td>\n",
       "    </tr>\n",
       "    <tr>\n",
       "      <th>304203</th>\n",
       "      <td>9558179b943a42799dc4bd1465ef0f8c</td>\n",
       "      <td>transaction</td>\n",
       "      <td>{'amount': 16.87}</td>\n",
       "      <td>702</td>\n",
       "    </tr>\n",
       "    <tr>\n",
       "      <th>210356</th>\n",
       "      <td>b931aafabb314da6b06091b3d6313b7c</td>\n",
       "      <td>offer received</td>\n",
       "      <td>{'offer id': 'ae264e3637204a6fb9bb56bc8210ddfd'}</td>\n",
       "      <td>504</td>\n",
       "    </tr>\n",
       "    <tr>\n",
       "      <th>133810</th>\n",
       "      <td>3683407f9b804a4fbe4c1d861592d644</td>\n",
       "      <td>transaction</td>\n",
       "      <td>{'amount': 2.22}</td>\n",
       "      <td>354</td>\n",
       "    </tr>\n",
       "  </tbody>\n",
       "</table>\n",
       "</div>"
      ],
      "text/plain": [
       "                                  person            event  \\\n",
       "220005  445649ee453c4633a1e6af2b38d90881     offer viewed   \n",
       "159204  b56e747d7f6641c88cacc52c5eaebf57   offer received   \n",
       "162177  dc82a269318741b18aa62b0be37a155a   offer received   \n",
       "202721  7a5f624f754d4fceb346887164425f1d   offer received   \n",
       "215927  388bda1fea454949abd8d927b04cbd6b  offer completed   \n",
       "14121   347a75e83b70480ba7b53c7f737ebb4a      transaction   \n",
       "218410  3a1242dda16248728e350c4bdeb21972      transaction   \n",
       "164272  28b3a891cbfa45b1b4f242a8ae561cca      transaction   \n",
       "65228   fb0737a6629b4f5bade477a2f944543c   offer received   \n",
       "10162   39932598278d4ebdbba91d6e0786aa07   offer received   \n",
       "58977   1f8edcea5f434db3b9cb6fe79d80ce80   offer received   \n",
       "163963  f8e6f303728449f0a610f7fce625d1da  offer completed   \n",
       "16548   2cef524a7be341e0b51ff1a3b1228a78      transaction   \n",
       "288360  da84884d6b5e4eb3bb01142a4a645cb7      transaction   \n",
       "209584  04ca68b26ef14fbc96eb01ab1f2d1fc2   offer received   \n",
       "246398  67ce1a3e90f748b2b21723186529bdc2   offer received   \n",
       "136682  7d2f82de830043ceb3791cdd78bc2a31  offer completed   \n",
       "304203  9558179b943a42799dc4bd1465ef0f8c      transaction   \n",
       "210356  b931aafabb314da6b06091b3d6313b7c   offer received   \n",
       "133810  3683407f9b804a4fbe4c1d861592d644      transaction   \n",
       "\n",
       "                                                    value  time  \n",
       "220005   {'offer id': 'ae264e3637204a6fb9bb56bc8210ddfd'}   510  \n",
       "159204   {'offer id': 'f19421c1d4aa40978ebb69ca19b0e20d'}   408  \n",
       "162177   {'offer id': 'fafdcd668e3743c1bb461111dcafc2a4'}   408  \n",
       "202721   {'offer id': '2906b810c7d4411798c6938adc9daaa5'}   504  \n",
       "215927  {'offer_id': '0b1e1539f2cc45b7b9fa7c272da2e1d7...   504  \n",
       "14121                                    {'amount': 7.44}     0  \n",
       "218410                                  {'amount': 31.41}   510  \n",
       "164272                                   {'amount': 2.98}   408  \n",
       "65228    {'offer id': '3f207df678b143eea3cee63160fa8bed'}   168  \n",
       "10162    {'offer id': '3f207df678b143eea3cee63160fa8bed'}     0  \n",
       "58977    {'offer id': '0b1e1539f2cc45b7b9fa7c272da2e1d7'}   168  \n",
       "163963  {'offer_id': '2298d6c36e964ae4a3e7e9706d1fb8c2...   408  \n",
       "16548                                   {'amount': 30.41}     6  \n",
       "288360                                   {'amount': 0.65}   642  \n",
       "209584   {'offer id': 'f19421c1d4aa40978ebb69ca19b0e20d'}   504  \n",
       "246398   {'offer id': '3f207df678b143eea3cee63160fa8bed'}   576  \n",
       "136682  {'offer_id': 'ae264e3637204a6fb9bb56bc8210ddfd...   360  \n",
       "304203                                  {'amount': 16.87}   702  \n",
       "210356   {'offer id': 'ae264e3637204a6fb9bb56bc8210ddfd'}   504  \n",
       "133810                                   {'amount': 2.22}   354  "
      ]
     },
     "execution_count": 28,
     "metadata": {},
     "output_type": "execute_result"
    }
   ],
   "source": [
    "transcript.sample(20)"
   ]
  },
  {
   "cell_type": "code",
   "execution_count": 29,
   "metadata": {},
   "outputs": [
    {
     "name": "stdout",
     "output_type": "stream",
     "text": [
      "<class 'pandas.core.frame.DataFrame'>\n",
      "RangeIndex: 306534 entries, 0 to 306533\n",
      "Data columns (total 4 columns):\n",
      " #   Column  Non-Null Count   Dtype \n",
      "---  ------  --------------   ----- \n",
      " 0   person  306534 non-null  object\n",
      " 1   event   306534 non-null  object\n",
      " 2   value   306534 non-null  object\n",
      " 3   time    306534 non-null  int64 \n",
      "dtypes: int64(1), object(3)\n",
      "memory usage: 9.4+ MB\n"
     ]
    }
   ],
   "source": [
    "transcript.info()"
   ]
  },
  {
   "cell_type": "markdown",
   "metadata": {},
   "source": [
    "### 缺失"
   ]
  },
  {
   "cell_type": "code",
   "execution_count": 30,
   "metadata": {
    "lines_to_next_cell": 2
   },
   "outputs": [
    {
     "data": {
      "text/plain": [
       "person    0\n",
       "event     0\n",
       "value     0\n",
       "time      0\n",
       "dtype: int64"
      ]
     },
     "execution_count": 30,
     "metadata": {},
     "output_type": "execute_result"
    }
   ],
   "source": [
    "transcript.isnull().sum()  # no null"
   ]
  },
  {
   "cell_type": "markdown",
   "metadata": {},
   "source": [
    "###  event 和 value"
   ]
  },
  {
   "cell_type": "code",
   "execution_count": 31,
   "metadata": {
    "lines_to_next_cell": 2
   },
   "outputs": [
    {
     "data": {
      "text/plain": [
       "transaction        138953\n",
       "offer received      76277\n",
       "offer viewed        57725\n",
       "offer completed     33579\n",
       "Name: event, dtype: int64"
      ]
     },
     "execution_count": 31,
     "metadata": {},
     "output_type": "execute_result"
    }
   ],
   "source": [
    "transcript.event.value_counts()"
   ]
  },
  {
   "cell_type": "code",
   "execution_count": 32,
   "metadata": {
    "lines_to_next_cell": 2
   },
   "outputs": [
    {
     "data": {
      "text/plain": [
       "206197     {'offer id': '5a8bc65990b245e5a138643cd4eb9837'}\n",
       "279243    {'offer_id': 'fafdcd668e3743c1bb461111dcafc2a4...\n",
       "144980                                    {'amount': 22.63}\n",
       "13453      {'offer id': '5a8bc65990b245e5a138643cd4eb9837'}\n",
       "249268     {'offer id': '4d5c57ea9a6940dd891ad53e9dbe8da0'}\n",
       "260449     {'offer id': '5a8bc65990b245e5a138643cd4eb9837'}\n",
       "172279                                     {'amount': 3.03}\n",
       "39101                                     {'amount': 15.31}\n",
       "13468      {'offer id': '3f207df678b143eea3cee63160fa8bed'}\n",
       "290957     {'offer id': '4d5c57ea9a6940dd891ad53e9dbe8da0'}\n",
       "263097     {'offer id': 'fafdcd668e3743c1bb461111dcafc2a4'}\n",
       "199841    {'offer_id': 'ae264e3637204a6fb9bb56bc8210ddfd...\n",
       "306224                                     {'amount': 3.34}\n",
       "92001                        {'amount': 3.5700000000000003}\n",
       "155927     {'offer id': '0b1e1539f2cc45b7b9fa7c272da2e1d7'}\n",
       "146622                                    {'amount': 22.59}\n",
       "203692     {'offer id': '9b98b8c7a33c4b65b9aebfe6a799e6d9'}\n",
       "192887     {'offer id': '5a8bc65990b245e5a138643cd4eb9837'}\n",
       "184159                                     {'amount': 8.52}\n",
       "288261                                     {'amount': 6.79}\n",
       "Name: value, dtype: object"
      ]
     },
     "execution_count": 32,
     "metadata": {},
     "output_type": "execute_result"
    }
   ],
   "source": [
    "transcript.value.sample(20)"
   ]
  },
  {
   "cell_type": "markdown",
   "metadata": {},
   "source": [
    "- value 列有两种情况 'offer id' 或者'offer_id' 字典，值为offerid，'amount'字典，值为交易量，因此这一列需要拆成2列，分别用'offer_id'和'amount'作为列名，值为对应的字典值，注意需要把'offer id'变为'offer_id'\n",
    "\n",
    "- event 列有4种活动，其中 offer received, offer viewed and offer completed 都是和 offer 有关 对应了value列的'offer id'，transaction 对应了value列的'amount'\n",
    "\n",
    "    \n",
    "- value column has two types, one is dict of 'offer id' and 'offer_id'!!!!!!!!!!! the other is dict of 'amount'\n",
    "- event column has two types, one is offer received, viewed and completed, the other is transaction\n",
    "- event transaction corresponds to value amount, and other event offer actions corresponds to value offer_id.\n",
    "- dict of 'offer id'and 'offer_id' can get a new column named 'offer id' in the row of offer event\n",
    "- dict of 'amount' can get a new column named 'amount' in the row of transaction"
   ]
  },
  {
   "cell_type": "code",
   "execution_count": 33,
   "metadata": {
    "scrolled": true
   },
   "outputs": [
    {
     "data": {
      "text/plain": [
       "(17000,)"
      ]
     },
     "execution_count": 33,
     "metadata": {},
     "output_type": "execute_result"
    }
   ],
   "source": [
    "transcript.person.unique().shape"
   ]
  },
  {
   "cell_type": "markdown",
   "metadata": {},
   "source": [
    "### 增加两列 offer_id  and  amount "
   ]
  },
  {
   "cell_type": "code",
   "execution_count": 34,
   "metadata": {},
   "outputs": [],
   "source": [
    "\n",
    "def encode_offer_id(x):\n",
    "    try :\n",
    "        return x['offer id']\n",
    "    except:\n",
    "        return x['offer_id']\n",
    "\n",
    "def transcript_prep(df):\n",
    "    # df = transcript\n",
    "    trans_df = df.copy()\n",
    "    trans_df['offer_id'] = trans_df[~trans_df.event.isin(['transaction'])].value.apply(encode_offer_id)   # why can't lambda?\n",
    "    trans_df['amount'] =  trans_df[trans_df.event.isin(['transaction'])].value.apply(lambda x: x['amount'])\n",
    "    trans_df = trans_df.drop( 'value' , axis=1 )\n",
    "    return trans_df"
   ]
  },
  {
   "cell_type": "code",
   "execution_count": 35,
   "metadata": {},
   "outputs": [
    {
     "data": {
      "text/html": [
       "<div>\n",
       "<style scoped>\n",
       "    .dataframe tbody tr th:only-of-type {\n",
       "        vertical-align: middle;\n",
       "    }\n",
       "\n",
       "    .dataframe tbody tr th {\n",
       "        vertical-align: top;\n",
       "    }\n",
       "\n",
       "    .dataframe thead th {\n",
       "        text-align: right;\n",
       "    }\n",
       "</style>\n",
       "<table border=\"1\" class=\"dataframe\">\n",
       "  <thead>\n",
       "    <tr style=\"text-align: right;\">\n",
       "      <th></th>\n",
       "      <th>person</th>\n",
       "      <th>event</th>\n",
       "      <th>time</th>\n",
       "      <th>offer_id</th>\n",
       "      <th>amount</th>\n",
       "    </tr>\n",
       "  </thead>\n",
       "  <tbody>\n",
       "    <tr>\n",
       "      <th>303283</th>\n",
       "      <td>3a1747f3e741449387bb614da8e0171c</td>\n",
       "      <td>transaction</td>\n",
       "      <td>702</td>\n",
       "      <td>NaN</td>\n",
       "      <td>22.38</td>\n",
       "    </tr>\n",
       "    <tr>\n",
       "      <th>201703</th>\n",
       "      <td>348bdc19d65f49b8b98f72c59e64cd89</td>\n",
       "      <td>offer received</td>\n",
       "      <td>504</td>\n",
       "      <td>fafdcd668e3743c1bb461111dcafc2a4</td>\n",
       "      <td>NaN</td>\n",
       "    </tr>\n",
       "    <tr>\n",
       "      <th>204260</th>\n",
       "      <td>0eb51351d07c4bdba4ed8db8b3fb2392</td>\n",
       "      <td>offer received</td>\n",
       "      <td>504</td>\n",
       "      <td>fafdcd668e3743c1bb461111dcafc2a4</td>\n",
       "      <td>NaN</td>\n",
       "    </tr>\n",
       "    <tr>\n",
       "      <th>97035</th>\n",
       "      <td>a142691e2215486db5b56ec3bb5f91d7</td>\n",
       "      <td>transaction</td>\n",
       "      <td>258</td>\n",
       "      <td>NaN</td>\n",
       "      <td>28.09</td>\n",
       "    </tr>\n",
       "    <tr>\n",
       "      <th>110299</th>\n",
       "      <td>a86a6c3923a5435486301ed5033ee4dd</td>\n",
       "      <td>offer completed</td>\n",
       "      <td>330</td>\n",
       "      <td>9b98b8c7a33c4b65b9aebfe6a799e6d9</td>\n",
       "      <td>NaN</td>\n",
       "    </tr>\n",
       "    <tr>\n",
       "      <th>297061</th>\n",
       "      <td>ecb591a8efae462c9f24f5a36aa4a541</td>\n",
       "      <td>transaction</td>\n",
       "      <td>672</td>\n",
       "      <td>NaN</td>\n",
       "      <td>0.61</td>\n",
       "    </tr>\n",
       "    <tr>\n",
       "      <th>247032</th>\n",
       "      <td>34fe7c1f20874ccc81e2c4506407fa72</td>\n",
       "      <td>offer received</td>\n",
       "      <td>576</td>\n",
       "      <td>2298d6c36e964ae4a3e7e9706d1fb8c2</td>\n",
       "      <td>NaN</td>\n",
       "    </tr>\n",
       "    <tr>\n",
       "      <th>113276</th>\n",
       "      <td>8614aba093c549c9a9d38e212588763b</td>\n",
       "      <td>offer received</td>\n",
       "      <td>336</td>\n",
       "      <td>3f207df678b143eea3cee63160fa8bed</td>\n",
       "      <td>NaN</td>\n",
       "    </tr>\n",
       "    <tr>\n",
       "      <th>130364</th>\n",
       "      <td>932901765c30419a932442a4248f239c</td>\n",
       "      <td>transaction</td>\n",
       "      <td>348</td>\n",
       "      <td>NaN</td>\n",
       "      <td>13.09</td>\n",
       "    </tr>\n",
       "    <tr>\n",
       "      <th>265415</th>\n",
       "      <td>38ea624a365d479c8ddf28c5492ba136</td>\n",
       "      <td>transaction</td>\n",
       "      <td>582</td>\n",
       "      <td>NaN</td>\n",
       "      <td>2.69</td>\n",
       "    </tr>\n",
       "  </tbody>\n",
       "</table>\n",
       "</div>"
      ],
      "text/plain": [
       "                                  person            event  time  \\\n",
       "303283  3a1747f3e741449387bb614da8e0171c      transaction   702   \n",
       "201703  348bdc19d65f49b8b98f72c59e64cd89   offer received   504   \n",
       "204260  0eb51351d07c4bdba4ed8db8b3fb2392   offer received   504   \n",
       "97035   a142691e2215486db5b56ec3bb5f91d7      transaction   258   \n",
       "110299  a86a6c3923a5435486301ed5033ee4dd  offer completed   330   \n",
       "297061  ecb591a8efae462c9f24f5a36aa4a541      transaction   672   \n",
       "247032  34fe7c1f20874ccc81e2c4506407fa72   offer received   576   \n",
       "113276  8614aba093c549c9a9d38e212588763b   offer received   336   \n",
       "130364  932901765c30419a932442a4248f239c      transaction   348   \n",
       "265415  38ea624a365d479c8ddf28c5492ba136      transaction   582   \n",
       "\n",
       "                                offer_id  amount  \n",
       "303283                               NaN   22.38  \n",
       "201703  fafdcd668e3743c1bb461111dcafc2a4     NaN  \n",
       "204260  fafdcd668e3743c1bb461111dcafc2a4     NaN  \n",
       "97035                                NaN   28.09  \n",
       "110299  9b98b8c7a33c4b65b9aebfe6a799e6d9     NaN  \n",
       "297061                               NaN    0.61  \n",
       "247032  2298d6c36e964ae4a3e7e9706d1fb8c2     NaN  \n",
       "113276  3f207df678b143eea3cee63160fa8bed     NaN  \n",
       "130364                               NaN   13.09  \n",
       "265415                               NaN    2.69  "
      ]
     },
     "execution_count": 35,
     "metadata": {},
     "output_type": "execute_result"
    }
   ],
   "source": [
    "transcript_try = transcript_prep(transcript)\n",
    "transcript_try.sample(10)"
   ]
  },
  {
   "cell_type": "markdown",
   "metadata": {},
   "source": [
    "## 三个合并  profile， portfolio， transcript  \n"
   ]
  },
  {
   "cell_type": "code",
   "execution_count": 36,
   "metadata": {},
   "outputs": [
    {
     "name": "stdout",
     "output_type": "stream",
     "text": [
      "Index(['reward', 'difficulty', 'duration', 'offer_type', 'id', 'web', 'email',\n",
      "       'mobile', 'social', 'offername'],\n",
      "      dtype='object')\n",
      "Index(['gender', 'age', 'id', 'became_member_on', 'income'], dtype='object')\n",
      "Index(['person', 'event', 'value', 'time'], dtype='object')\n"
     ]
    }
   ],
   "source": [
    "print( portfolio_clean.columns) \n",
    "print( profile_clean.columns )\n",
    "print( transcript.columns )"
   ]
  },
  {
   "cell_type": "code",
   "execution_count": 37,
   "metadata": {},
   "outputs": [],
   "source": [
    "def merge_transcript_profile_portfolio(transcript_df, profile_df, portfolio_df):\n",
    "    # transcript_df= transcript ; profile_df = profile; portfolio_df = portfolio\n",
    "    portfolio_clean = portfolio_prep( portfolio_df ) \n",
    "    profile_clean = profile_prep_dates(profile_df)\n",
    "    transcript_clean = transcript_prep(transcript_df)\n",
    "    \n",
    "    dfmerge_tr_pr = pd.merge(transcript_clean, profile_clean, left_on=['person'], right_on = ['id'], how ='left')\n",
    "    dfmerge_tr_pr = dfmerge_tr_pr.drop(['id'], axis=1)\n",
    "    \n",
    "    dfmerge_trpr_po =  pd.merge(dfmerge_tr_pr, portfolio_clean, left_on = 'offer_id', right_on ='id', how='left')\n",
    "    dfmerge_trpr_po = dfmerge_trpr_po.drop(['id'], axis=1)\n",
    "    return dfmerge_trpr_po"
   ]
  },
  {
   "cell_type": "code",
   "execution_count": 38,
   "metadata": {},
   "outputs": [],
   "source": [
    "dfmerge_trprpo = merge_transcript_profile_portfolio(transcript, profile, portfolio)"
   ]
  },
  {
   "cell_type": "code",
   "execution_count": 39,
   "metadata": {},
   "outputs": [
    {
     "data": {
      "text/html": [
       "<div>\n",
       "<style scoped>\n",
       "    .dataframe tbody tr th:only-of-type {\n",
       "        vertical-align: middle;\n",
       "    }\n",
       "\n",
       "    .dataframe tbody tr th {\n",
       "        vertical-align: top;\n",
       "    }\n",
       "\n",
       "    .dataframe thead th {\n",
       "        text-align: right;\n",
       "    }\n",
       "</style>\n",
       "<table border=\"1\" class=\"dataframe\">\n",
       "  <thead>\n",
       "    <tr style=\"text-align: right;\">\n",
       "      <th></th>\n",
       "      <th>person</th>\n",
       "      <th>event</th>\n",
       "      <th>time</th>\n",
       "      <th>offer_id</th>\n",
       "      <th>amount</th>\n",
       "      <th>gender</th>\n",
       "      <th>age</th>\n",
       "      <th>became_member_on</th>\n",
       "      <th>income</th>\n",
       "      <th>reward</th>\n",
       "      <th>difficulty</th>\n",
       "      <th>duration</th>\n",
       "      <th>offer_type</th>\n",
       "      <th>web</th>\n",
       "      <th>email</th>\n",
       "      <th>mobile</th>\n",
       "      <th>social</th>\n",
       "      <th>offername</th>\n",
       "    </tr>\n",
       "  </thead>\n",
       "  <tbody>\n",
       "    <tr>\n",
       "      <th>0</th>\n",
       "      <td>78afa995795e4d85b5d9ceeca43f5fef</td>\n",
       "      <td>offer received</td>\n",
       "      <td>0</td>\n",
       "      <td>9b98b8c7a33c4b65b9aebfe6a799e6d9</td>\n",
       "      <td>NaN</td>\n",
       "      <td>F</td>\n",
       "      <td>75</td>\n",
       "      <td>2017-05-09</td>\n",
       "      <td>100000.0</td>\n",
       "      <td>5.0</td>\n",
       "      <td>5.0</td>\n",
       "      <td>7.0</td>\n",
       "      <td>bogo</td>\n",
       "      <td>1.0</td>\n",
       "      <td>1.0</td>\n",
       "      <td>1.0</td>\n",
       "      <td>0.0</td>\n",
       "      <td>bogo_5_7_5</td>\n",
       "    </tr>\n",
       "    <tr>\n",
       "      <th>1</th>\n",
       "      <td>a03223e636434f42ac4c3df47e8bac43</td>\n",
       "      <td>offer received</td>\n",
       "      <td>0</td>\n",
       "      <td>0b1e1539f2cc45b7b9fa7c272da2e1d7</td>\n",
       "      <td>NaN</td>\n",
       "      <td>None</td>\n",
       "      <td>118</td>\n",
       "      <td>2017-08-04</td>\n",
       "      <td>NaN</td>\n",
       "      <td>5.0</td>\n",
       "      <td>20.0</td>\n",
       "      <td>10.0</td>\n",
       "      <td>discount</td>\n",
       "      <td>1.0</td>\n",
       "      <td>1.0</td>\n",
       "      <td>0.0</td>\n",
       "      <td>0.0</td>\n",
       "      <td>discount_20_10_5</td>\n",
       "    </tr>\n",
       "    <tr>\n",
       "      <th>2</th>\n",
       "      <td>e2127556f4f64592b11af22de27a7932</td>\n",
       "      <td>offer received</td>\n",
       "      <td>0</td>\n",
       "      <td>2906b810c7d4411798c6938adc9daaa5</td>\n",
       "      <td>NaN</td>\n",
       "      <td>M</td>\n",
       "      <td>68</td>\n",
       "      <td>2018-04-26</td>\n",
       "      <td>70000.0</td>\n",
       "      <td>2.0</td>\n",
       "      <td>10.0</td>\n",
       "      <td>7.0</td>\n",
       "      <td>discount</td>\n",
       "      <td>1.0</td>\n",
       "      <td>1.0</td>\n",
       "      <td>1.0</td>\n",
       "      <td>0.0</td>\n",
       "      <td>discount_10_7_2</td>\n",
       "    </tr>\n",
       "    <tr>\n",
       "      <th>3</th>\n",
       "      <td>8ec6ce2a7e7949b1bf142def7d0e0586</td>\n",
       "      <td>offer received</td>\n",
       "      <td>0</td>\n",
       "      <td>fafdcd668e3743c1bb461111dcafc2a4</td>\n",
       "      <td>NaN</td>\n",
       "      <td>None</td>\n",
       "      <td>118</td>\n",
       "      <td>2017-09-25</td>\n",
       "      <td>NaN</td>\n",
       "      <td>2.0</td>\n",
       "      <td>10.0</td>\n",
       "      <td>10.0</td>\n",
       "      <td>discount</td>\n",
       "      <td>1.0</td>\n",
       "      <td>1.0</td>\n",
       "      <td>1.0</td>\n",
       "      <td>1.0</td>\n",
       "      <td>discount_10_10_2</td>\n",
       "    </tr>\n",
       "    <tr>\n",
       "      <th>4</th>\n",
       "      <td>68617ca6246f4fbc85e91a2a49552598</td>\n",
       "      <td>offer received</td>\n",
       "      <td>0</td>\n",
       "      <td>4d5c57ea9a6940dd891ad53e9dbe8da0</td>\n",
       "      <td>NaN</td>\n",
       "      <td>None</td>\n",
       "      <td>118</td>\n",
       "      <td>2017-10-02</td>\n",
       "      <td>NaN</td>\n",
       "      <td>10.0</td>\n",
       "      <td>10.0</td>\n",
       "      <td>5.0</td>\n",
       "      <td>bogo</td>\n",
       "      <td>1.0</td>\n",
       "      <td>1.0</td>\n",
       "      <td>1.0</td>\n",
       "      <td>1.0</td>\n",
       "      <td>bogo_10_5_10</td>\n",
       "    </tr>\n",
       "  </tbody>\n",
       "</table>\n",
       "</div>"
      ],
      "text/plain": [
       "                             person           event  time  \\\n",
       "0  78afa995795e4d85b5d9ceeca43f5fef  offer received     0   \n",
       "1  a03223e636434f42ac4c3df47e8bac43  offer received     0   \n",
       "2  e2127556f4f64592b11af22de27a7932  offer received     0   \n",
       "3  8ec6ce2a7e7949b1bf142def7d0e0586  offer received     0   \n",
       "4  68617ca6246f4fbc85e91a2a49552598  offer received     0   \n",
       "\n",
       "                           offer_id  amount gender  age became_member_on  \\\n",
       "0  9b98b8c7a33c4b65b9aebfe6a799e6d9     NaN      F   75       2017-05-09   \n",
       "1  0b1e1539f2cc45b7b9fa7c272da2e1d7     NaN   None  118       2017-08-04   \n",
       "2  2906b810c7d4411798c6938adc9daaa5     NaN      M   68       2018-04-26   \n",
       "3  fafdcd668e3743c1bb461111dcafc2a4     NaN   None  118       2017-09-25   \n",
       "4  4d5c57ea9a6940dd891ad53e9dbe8da0     NaN   None  118       2017-10-02   \n",
       "\n",
       "     income  reward  difficulty  duration offer_type  web  email  mobile  \\\n",
       "0  100000.0     5.0         5.0       7.0       bogo  1.0    1.0     1.0   \n",
       "1       NaN     5.0        20.0      10.0   discount  1.0    1.0     0.0   \n",
       "2   70000.0     2.0        10.0       7.0   discount  1.0    1.0     1.0   \n",
       "3       NaN     2.0        10.0      10.0   discount  1.0    1.0     1.0   \n",
       "4       NaN    10.0        10.0       5.0       bogo  1.0    1.0     1.0   \n",
       "\n",
       "   social         offername  \n",
       "0     0.0        bogo_5_7_5  \n",
       "1     0.0  discount_20_10_5  \n",
       "2     0.0   discount_10_7_2  \n",
       "3     1.0  discount_10_10_2  \n",
       "4     1.0      bogo_10_5_10  "
      ]
     },
     "execution_count": 39,
     "metadata": {},
     "output_type": "execute_result"
    }
   ],
   "source": [
    "dfmerge_trprpo.head()"
   ]
  },
  {
   "cell_type": "markdown",
   "metadata": {},
   "source": [
    "### 缺失"
   ]
  },
  {
   "cell_type": "code",
   "execution_count": 40,
   "metadata": {},
   "outputs": [
    {
     "data": {
      "text/plain": [
       "person                   0\n",
       "event                    0\n",
       "time                     0\n",
       "offer_id            138953\n",
       "amount              167581\n",
       "gender               33772\n",
       "age                      0\n",
       "became_member_on         0\n",
       "income               33772\n",
       "reward              138953\n",
       "difficulty          138953\n",
       "duration            138953\n",
       "offer_type          138953\n",
       "web                 138953\n",
       "email               138953\n",
       "mobile              138953\n",
       "social              138953\n",
       "offername           138953\n",
       "dtype: int64"
      ]
     },
     "execution_count": 40,
     "metadata": {},
     "output_type": "execute_result"
    }
   ],
   "source": [
    "dfmerge_trprpo.isnull().sum()"
   ]
  },
  {
   "cell_type": "markdown",
   "metadata": {},
   "source": [
    "## 数据探索"
   ]
  },
  {
   "cell_type": "markdown",
   "metadata": {},
   "source": [
    "### amount 平均，总数 ， 次数"
   ]
  },
  {
   "cell_type": "code",
   "execution_count": 41,
   "metadata": {},
   "outputs": [
    {
     "data": {
      "text/plain": [
       "<AxesSubplot:>"
      ]
     },
     "execution_count": 41,
     "metadata": {},
     "output_type": "execute_result"
    },
    {
     "data": {
      "text/plain": [
       "Text(0.5, 0, '$ Spending')"
      ]
     },
     "execution_count": 41,
     "metadata": {},
     "output_type": "execute_result"
    },
    {
     "data": {
      "text/plain": [
       "Text(0, 0.5, 'Count')"
      ]
     },
     "execution_count": 41,
     "metadata": {},
     "output_type": "execute_result"
    },
    {
     "data": {
      "text/plain": [
       "Text(0.5, 1.0, 'Average Spending per customer')"
      ]
     },
     "execution_count": 41,
     "metadata": {},
     "output_type": "execute_result"
    },
    {
     "data": {
      "text/plain": [
       "count    16578.000000\n",
       "mean        13.680266\n",
       "std         16.056763\n",
       "min          0.050000\n",
       "25%          3.181392\n",
       "50%         11.996607\n",
       "75%         20.469643\n",
       "max        451.470000\n",
       "Name: amount, dtype: float64"
      ]
     },
     "execution_count": 41,
     "metadata": {},
     "output_type": "execute_result"
    },
    {
     "data": {
      "image/png": "[encoded data removed]",
      "text/plain": [
       "<Figure size 432x288 with 1 Axes>"
      ]
     },
     "metadata": {
      "needs_background": "light"
     },
     "output_type": "display_data"
    }
   ],
   "source": [
    "# 所有用户用户的 交易情况 amount 平均值分布\n",
    "dfmerge_trprpo.groupby('person')['amount'].mean().hist(bins=50)\n",
    "plt.xlabel('$ Spending')\n",
    "plt.ylabel('Count')\n",
    "plt.title('Average Spending per customer')\n",
    "dfmerge_trprpo.groupby('person')['amount'].mean().describe()"
   ]
  },
  {
   "cell_type": "code",
   "execution_count": 42,
   "metadata": {},
   "outputs": [
    {
     "data": {
      "text/plain": [
       "<AxesSubplot:>"
      ]
     },
     "execution_count": 42,
     "metadata": {},
     "output_type": "execute_result"
    },
    {
     "data": {
      "text/plain": [
       "Text(0.5, 0, '$ Spending')"
      ]
     },
     "execution_count": 42,
     "metadata": {},
     "output_type": "execute_result"
    },
    {
     "data": {
      "text/plain": [
       "Text(0, 0.5, 'Count')"
      ]
     },
     "execution_count": 42,
     "metadata": {},
     "output_type": "execute_result"
    },
    {
     "data": {
      "text/plain": [
       "Text(0.5, 1.0, 'TOTAL Spending per customer')"
      ]
     },
     "execution_count": 42,
     "metadata": {},
     "output_type": "execute_result"
    },
    {
     "data": {
      "text/plain": [
       "count    17000.000000\n",
       "mean       104.438351\n",
       "std        125.922619\n",
       "min          0.000000\n",
       "25%         21.820000\n",
       "50%         69.405000\n",
       "75%        148.782500\n",
       "max       1608.690000\n",
       "Name: amount, dtype: float64"
      ]
     },
     "execution_count": 42,
     "metadata": {},
     "output_type": "execute_result"
    },
    {
     "data": {
      "image/png": "[encoded data removed]",
      "text/plain": [
       "<Figure size 432x288 with 1 Axes>"
      ]
     },
     "metadata": {
      "needs_background": "light"
     },
     "output_type": "display_data"
    }
   ],
   "source": [
    "# 所有用户的 交易情况 amount 总和分布\n",
    "\n",
    "dfmerge_trprpo.groupby('person')['amount'].sum().hist(bins=50)\n",
    "plt.xlabel('$ Spending')\n",
    "plt.ylabel('Count')\n",
    "plt.title('TOTAL Spending per customer')\n",
    "dfmerge_trprpo.groupby('person')['amount'].sum().describe()"
   ]
  },
  {
   "cell_type": "code",
   "execution_count": 43,
   "metadata": {},
   "outputs": [
    {
     "data": {
      "text/plain": [
       "<AxesSubplot:>"
      ]
     },
     "execution_count": 43,
     "metadata": {},
     "output_type": "execute_result"
    },
    {
     "data": {
      "text/plain": [
       "Text(0.5, 0, 'Number of transaction')"
      ]
     },
     "execution_count": 43,
     "metadata": {},
     "output_type": "execute_result"
    },
    {
     "data": {
      "text/plain": [
       "Text(0, 0.5, 'Count')"
      ]
     },
     "execution_count": 43,
     "metadata": {},
     "output_type": "execute_result"
    },
    {
     "data": {
      "text/plain": [
       "Text(0.5, 1.0, 'The distribution of Number of transaction per customer')"
      ]
     },
     "execution_count": 43,
     "metadata": {},
     "output_type": "execute_result"
    },
    {
     "data": {
      "text/plain": [
       "count    17000.000000\n",
       "mean         8.173706\n",
       "std          5.116250\n",
       "min          0.000000\n",
       "25%          4.000000\n",
       "50%          7.000000\n",
       "75%         11.000000\n",
       "max         36.000000\n",
       "Name: amount, dtype: float64"
      ]
     },
     "execution_count": 43,
     "metadata": {},
     "output_type": "execute_result"
    },
    {
     "data": {
      "image/png": "[encoded data removed]",
      "text/plain": [
       "<Figure size 432x288 with 1 Axes>"
      ]
     },
     "metadata": {
      "needs_background": "light"
     },
     "output_type": "display_data"
    }
   ],
   "source": [
    "# 所有用户的 交易情况 amount  count 分布\n",
    "\n",
    "dfmerge_trprpo.groupby('person')['amount'].count().hist()\n",
    "plt.xlabel('Number of transaction')\n",
    "plt.ylabel('Count')\n",
    "plt.title('The distribution of Number of transaction per customer')\n",
    "dfmerge_trprpo.groupby(['person'])['amount'].count().describe()\n"
   ]
  },
  {
   "cell_type": "markdown",
   "metadata": {},
   "source": [
    "- 用户单次交易的平均值是16元，大部分都在20元以下\n",
    "- 用户交易量的平均值是125元，大部分都在150元以下\n",
    "- 用户交易次数的平均值是8次，大部分都在11次以下\n",
    "    \n",
    "\n",
    "- The average value of a user's single transaction is 16 yuan, most of which are below 20 yuan\n",
    "- The average value of a user's total transaction is 125 yuan, most of which are below 150 yuan\n",
    "- The average value of a user's transactions count is 8, and most of them are below 11\n"
   ]
  },
  {
   "cell_type": "markdown",
   "metadata": {},
   "source": [
    "### amount vs gender"
   ]
  },
  {
   "cell_type": "code",
   "execution_count": 44,
   "metadata": {},
   "outputs": [],
   "source": [
    "# assign missing value in gender with 'U' value\n",
    "dfmerge_temp = dfmerge_trprpo.copy()\n",
    "dfmerge_temp.loc[dfmerge_temp.gender.isnull(), 'gender'] ='U'"
   ]
  },
  {
   "cell_type": "code",
   "execution_count": 45,
   "metadata": {},
   "outputs": [
    {
     "data": {
      "text/plain": [
       "' The number of transaction by GENDER '"
      ]
     },
     "execution_count": 45,
     "metadata": {},
     "output_type": "execute_result"
    },
    {
     "data": {
      "text/plain": [
       "<AxesSubplot:xlabel='gender'>"
      ]
     },
     "execution_count": 45,
     "metadata": {},
     "output_type": "execute_result"
    },
    {
     "data": {
      "text/plain": [
       "[Text(0, 0, 'M'), Text(1, 0, 'F'), Text(2, 0, 'O'), Text(3, 0, 'U')]"
      ]
     },
     "execution_count": 45,
     "metadata": {},
     "output_type": "execute_result"
    },
    {
     "data": {
      "text/plain": [
       "Text(0, 0.5, 'The average spending of transaction')"
      ]
     },
     "execution_count": 45,
     "metadata": {},
     "output_type": "execute_result"
    },
    {
     "data": {
      "text/plain": [
       "Text(0.5, 1.0, 'The avg spending of transaction')"
      ]
     },
     "execution_count": 45,
     "metadata": {},
     "output_type": "execute_result"
    },
    {
     "data": {
      "text/plain": [
       "<AxesSubplot:xlabel='gender'>"
      ]
     },
     "execution_count": 45,
     "metadata": {},
     "output_type": "execute_result"
    },
    {
     "data": {
      "text/plain": [
       "[Text(0, 0, 'M'), Text(1, 0, 'F'), Text(2, 0, 'O'), Text(3, 0, 'U')]"
      ]
     },
     "execution_count": 45,
     "metadata": {},
     "output_type": "execute_result"
    },
    {
     "data": {
      "text/plain": [
       "Text(0, 0.5, 'The average number of transaction')"
      ]
     },
     "execution_count": 45,
     "metadata": {},
     "output_type": "execute_result"
    },
    {
     "data": {
      "text/plain": [
       "Text(0.5, 1.0, 'The avg number of transaction')"
      ]
     },
     "execution_count": 45,
     "metadata": {},
     "output_type": "execute_result"
    },
    {
     "data": {
      "text/plain": [
       "<AxesSubplot:xlabel='gender'>"
      ]
     },
     "execution_count": 45,
     "metadata": {},
     "output_type": "execute_result"
    },
    {
     "data": {
      "text/plain": [
       "[Text(0, 0, 'M'), Text(1, 0, 'F'), Text(2, 0, 'O'), Text(3, 0, 'U')]"
      ]
     },
     "execution_count": 45,
     "metadata": {},
     "output_type": "execute_result"
    },
    {
     "data": {
      "text/plain": [
       "Text(0, 0.5, 'The total spending of transaction')"
      ]
     },
     "execution_count": 45,
     "metadata": {},
     "output_type": "execute_result"
    },
    {
     "data": {
      "text/plain": [
       "Text(0.5, 1.0, 'The total spending of transaction')"
      ]
     },
     "execution_count": 45,
     "metadata": {},
     "output_type": "execute_result"
    },
    {
     "data": {
      "text/plain": [
       "<AxesSubplot:>"
      ]
     },
     "execution_count": 45,
     "metadata": {},
     "output_type": "execute_result"
    },
    {
     "data": {
      "text/plain": [
       "[Text(0, 0, 'M'), Text(1, 0, 'F'), Text(2, 0, 'O'), Text(3, 0, 'U')]"
      ]
     },
     "execution_count": 45,
     "metadata": {},
     "output_type": "execute_result"
    },
    {
     "data": {
      "text/plain": [
       "Text(0.5, 1.0, 'Gender Distribution')"
      ]
     },
     "execution_count": 45,
     "metadata": {},
     "output_type": "execute_result"
    },
    {
     "data": {
      "text/plain": [
       "Text(0.5, 0, 'gender')"
      ]
     },
     "execution_count": 45,
     "metadata": {},
     "output_type": "execute_result"
    },
    {
     "data": {
      "image/png": "[encoded data removed]",
      "text/plain": [
       "<Figure size 1152x288 with 4 Axes>"
      ]
     },
     "metadata": {
      "needs_background": "light"
     },
     "output_type": "display_data"
    }
   ],
   "source": [
    "# 分析  不同性别-用户的 交易情况 amount 平均值 分布， 以及 不同性别-用户的  amount 计数，  不同性别-用户的  income box图\n",
    "\n",
    "\"\"\" The number of transaction by GENDER \"\"\"\n",
    "\n",
    "#plot avg spending\n",
    "f, (ax1, ax2, ax3 , ax4) = plt.subplots(1,4, figsize=(16,4))\n",
    "dfmerge_temp.groupby('gender')['amount'].mean()[['M', 'F', 'O', 'U']].plot(kind='bar', ax=ax1);\n",
    "ax1.set_xticklabels(ax1.get_xticklabels(), rotation=0)\n",
    "ax1.set_ylabel(\"The average spending of transaction\")\n",
    "ax1.set_title('The avg spending of transaction')\n",
    "\n",
    "# plot avg number of transaction\n",
    "\n",
    "dfmerge_temp.groupby(['gender', 'amount'])['amount'].count().mean(level=0)[['M', 'F', 'O', 'U']].plot(kind='bar', ax=ax2);\n",
    "ax2.set_xticklabels(ax1.get_xticklabels(), rotation=0);\n",
    "ax2.set_ylabel(\"The average number of transaction\");\n",
    "ax2.set_title(\"The avg number of transaction\");\n",
    "\n",
    "# boxplot income distribution\n",
    "dfmerge_temp.groupby('gender')['amount'].sum().plot(kind='bar', ax=ax3);\n",
    "ax3.set_xticklabels(ax1.get_xticklabels(), rotation=0);\n",
    "ax3.set_ylabel(\"The total spending of transaction\");\n",
    "ax3.set_title(\"The total spending of transaction\");\n",
    "\n",
    "#plot gender distribution\n",
    "profile.fillna('U').gender.value_counts()[['M', 'F', 'O', 'U']].plot(kind='bar', ax=ax4)\n",
    "ax4.set_xticklabels(ax4.get_xticklabels(), rotation=0)\n",
    "plt.title('Gender Distribution');\n",
    "ax4.set_xlabel('gender')\n",
    "\n",
    "plt.tight_layout()"
   ]
  },
  {
   "cell_type": "markdown",
   "metadata": {},
   "source": [
    "- 女性的平均交易量最多, 其次是其他性别和男性\n",
    "- 男性的交易次数最多, 其次是其他性别和女性\n",
    "- 男性女性的总交易量比较接近,可能是因为男性虽然单次交易量少,但是人数多.其他性别和unknown的总交易量都很少\n",
    "    \n",
    "    \n",
    "- Women have the most average spending, followed by other genders and men\n",
    "- Men have the most average transaction count, followed by other genders and women\n",
    "- The total spending of males and females is relatively close, which may be due to the fact that although the males' single transaction spending is small, the number of males is large.The total spending of other genders and unknown is very small"
   ]
  },
  {
   "cell_type": "markdown",
   "metadata": {},
   "source": [
    "### offer event count"
   ]
  },
  {
   "cell_type": "code",
   "execution_count": 46,
   "metadata": {},
   "outputs": [
    {
     "data": {
      "text/plain": [
       "'\\nPortfolio Distribution by event\\n'"
      ]
     },
     "execution_count": 46,
     "metadata": {},
     "output_type": "execute_result"
    },
    {
     "data": {
      "text/plain": [
       "<Figure size 432x432 with 0 Axes>"
      ]
     },
     "execution_count": 46,
     "metadata": {},
     "output_type": "execute_result"
    },
    {
     "data": {
      "text/plain": [
       "<AxesSubplot:xlabel='count', ylabel='offername'>"
      ]
     },
     "execution_count": 46,
     "metadata": {},
     "output_type": "execute_result"
    },
    {
     "data": {
      "text/plain": [
       "<matplotlib.legend.Legend at 0x1c647888>"
      ]
     },
     "execution_count": 46,
     "metadata": {},
     "output_type": "execute_result"
    },
    {
     "data": {
      "text/plain": [
       "(array([   0., 1000., 2000., 3000., 4000., 5000., 6000., 7000., 8000.,\n",
       "        9000.]),\n",
       " [Text(0, 0, ''),\n",
       "  Text(0, 0, ''),\n",
       "  Text(0, 0, ''),\n",
       "  Text(0, 0, ''),\n",
       "  Text(0, 0, ''),\n",
       "  Text(0, 0, ''),\n",
       "  Text(0, 0, ''),\n",
       "  Text(0, 0, ''),\n",
       "  Text(0, 0, ''),\n",
       "  Text(0, 0, '')])"
      ]
     },
     "execution_count": 46,
     "metadata": {},
     "output_type": "execute_result"
    },
    {
     "data": {
      "text/plain": [
       "Text(0, 0.5, 'Portfolio Name')"
      ]
     },
     "execution_count": 46,
     "metadata": {},
     "output_type": "execute_result"
    },
    {
     "data": {
      "text/plain": [
       "Text(0.5, 1.0, 'Portfolio Distribution by Event')"
      ]
     },
     "execution_count": 46,
     "metadata": {},
     "output_type": "execute_result"
    },
    {
     "data": {
      "image/png": "[encoded data removed]",
      "text/plain": [
       "<Figure size 432x432 with 1 Axes>"
      ]
     },
     "metadata": {
      "needs_background": "light"
     },
     "output_type": "display_data"
    }
   ],
   "source": [
    "# 分析 查看不同offer 的 receive view 和 complete 数量，水平图\n",
    "\n",
    "\"\"\"\n",
    "Portfolio Distribution by event\n",
    "\"\"\"\n",
    "df_offerevent = dfmerge_trprpo[~dfmerge_trprpo.event.isin(['transaction'])]\n",
    "plt.figure(figsize=(6,6))\n",
    "sns.countplot(y='offername', hue='event', data= df_offerevent);\n",
    "plt.legend(loc='center left', bbox_to_anchor=(1, 0.5))\n",
    "plt.xticks(rotation=90)\n",
    "plt.ylabel(\"Portfolio Name\")\n",
    "plt.title(\"Portfolio Distribution by Event\")\n",
    "\n",
    "# 发现 complete 竟然比 view还多 说明有的人 complete 和推荐无关 属于无效记录\n"
   ]
  },
  {
   "cell_type": "markdown",
   "metadata": {},
   "source": [
    "-  对于bogo_5_7_5和discount_20_10_5这两种推送，complete 竟然比 view还多 说明有的人 complete 和推送无关, 属于无效记录\n",
    "    \n",
    "    \n",
    "- For push offers bogo_5_7_5 and discount_20_10_5, complete count is even more than view count, indicating that some complete event has nothing to do with push offers,these are invalid records\n"
   ]
  },
  {
   "cell_type": "code",
   "execution_count": 47,
   "metadata": {
    "scrolled": true
   },
   "outputs": [
    {
     "data": {
      "text/plain": [
       "<Figure size 720x432 with 0 Axes>"
      ]
     },
     "execution_count": 47,
     "metadata": {},
     "output_type": "execute_result"
    },
    {
     "data": {
      "text/plain": [
       "<AxesSubplot:xlabel='0', ylabel='offername'>"
      ]
     },
     "execution_count": 47,
     "metadata": {},
     "output_type": "execute_result"
    },
    {
     "data": {
      "text/plain": [
       "<matplotlib.legend.Legend at 0x14e6a088>"
      ]
     },
     "execution_count": 47,
     "metadata": {},
     "output_type": "execute_result"
    },
    {
     "data": {
      "text/plain": [
       "Text(0.5, 1.0, 'Before Cleaning : Offer Received, Viewed, and Completed (fraction)')"
      ]
     },
     "execution_count": 47,
     "metadata": {},
     "output_type": "execute_result"
    },
    {
     "data": {
      "text/plain": [
       "Text(0, 0.5, '')"
      ]
     },
     "execution_count": 47,
     "metadata": {},
     "output_type": "execute_result"
    },
    {
     "data": {
      "text/plain": [
       "Text(0.5, 0, 'Fraction')"
      ]
     },
     "execution_count": 47,
     "metadata": {},
     "output_type": "execute_result"
    },
    {
     "data": {
      "image/png": "[encoded data removed]",
      "text/plain": [
       "<Figure size 720x432 with 1 Axes>"
      ]
     },
     "metadata": {
      "needs_background": "light"
     },
     "output_type": "display_data"
    }
   ],
   "source": [
    "# 分析 查看不同offer的比例  receive view 和 complete 数量 / receive数量，水平图\n",
    "\n",
    "event_count = dfmerge_trprpo[~dfmerge_trprpo.event.isin(['transaction'])].groupby(['offername', 'event']).offer_id.count().unstack()\n",
    "event_count['offer_received_frac'] = event_count['offer received']/ event_count['offer received']\n",
    "event_count['offer_viewed_frac'] = event_count['offer viewed']/ event_count['offer received']\n",
    "event_count['offer_completed_frac'] =  event_count['offer completed']/ event_count['offer received']\n",
    "\n",
    "event_count_frac = event_count[['offer_received_frac','offer_viewed_frac', 'offer_completed_frac']]\n",
    "\n",
    "event_count_stack = event_count_frac.stack().reset_index()\n",
    "\n",
    "plt.figure(figsize=(10,6))\n",
    "sns.barplot(x=0,y='offername', hue='event', data=event_count_stack)\n",
    "plt.legend(loc='center left', bbox_to_anchor=(1, 0.5))\n",
    "plt.subplots_adjust(top=0.8)\n",
    "plt.title(\"Before Cleaning : Offer Received, Viewed, and Completed (fraction)\")\n",
    "plt.ylabel('')\n",
    "plt.xlabel('Fraction')\n",
    "\n",
    "plt.tight_layout()"
   ]
  },
  {
   "cell_type": "markdown",
   "metadata": {},
   "source": [
    "### find invalid transaction "
   ]
  },
  {
   "cell_type": "markdown",
   "metadata": {},
   "source": [
    "#### 函数 find_invalid 找到有效. 无效完成\n"
   ]
  },
  {
   "cell_type": "code",
   "execution_count": 48,
   "metadata": {},
   "outputs": [
    {
     "name": "stderr",
     "output_type": "stream",
     "text": [
      "100%|████████████████████████████████████| 17000/17000 [09:28<00:00, 29.90it/s]\n"
     ]
    }
   ],
   "source": [
    "# 测试\n",
    "df_merg = dfmerge_trprpo.copy()\n",
    "portfolio_df = portfolio\n",
    "\n",
    "# \n",
    "# 思路：\n",
    "#  对买个用于进行迭代，看看用户有哪些offer活动 \n",
    "# 然后对每个用户 每个offer活动迭代，看看这个offer是否有 revieve view 以及 complete\n",
    "#  有view同时 ， complete 又在活动 receive 时间范围内，标记为 valid complete\n",
    "# 对于其他complete 标记为 invalid complete\n",
    "\n",
    "list_person = df_merg.person.unique()\n",
    "list_validcomp = [];  list_invalidcomp = [] ; \n",
    "\n",
    "for person_id in tqdm( list_person ) :\n",
    "    # person_id= list_person[0]\n",
    "    # person_id = '88baa20c29a94178a43a7d68e5f039d4'\n",
    "    df_sub_person = dfmerge_trprpo[dfmerge_trprpo.person == person_id]\n",
    "    list_psn_ofr = df_sub_person.offer_id.unique()\n",
    "    list_psn_ofr = list_psn_ofr[ ~pd.isna(list_psn_ofr) ] \n",
    "    \n",
    "    for psn_ofr_id in list_psn_ofr:\n",
    "#         psn_ofr_id  = list_psn_ofr[0]\n",
    "#  psn_ofr_id = '0b1e1539f2cc45b7b9fa7c272da2e1d7'\n",
    "        df_sub_psn_ofr  = df_sub_person[df_sub_person.offer_id == psn_ofr_id ]\n",
    "        tj_rec =  'offer received'  in df_sub_psn_ofr.event.values\n",
    "        tj_view =  'offer viewed'  in df_sub_psn_ofr.event.values\n",
    "        tj_comp =  'offer completed'  in df_sub_psn_ofr.event.values\n",
    "        # 对于每个收到的\n",
    "        if tj_rec == True:\n",
    "            starttime = df_sub_psn_ofr[ df_sub_psn_ofr.event ==  'offer received' ].time.values.min()\n",
    "            duringtime  = portfolio_df[ portfolio_df.id ==  psn_ofr_id ].duration.values[0] *24\n",
    "            endtime = starttime+ duringtime\n",
    "            index_rec =  df_sub_psn_ofr[ df_sub_psn_ofr.event ==  'offer received' ].time.idxmin()\n",
    "            # 对于收到且完成了的\n",
    "            if tj_comp ==True:\n",
    "                comptime = df_sub_psn_ofr[ df_sub_psn_ofr.event ==  'offer completed' ].time.values.min()\n",
    "                # 记录这个行号\n",
    "                index_comp = df_sub_psn_ofr[ df_sub_psn_ofr.event ==  'offer completed' ].time.index.values\n",
    "                \n",
    "                # 对于收到完成  且在规定时间 且已经查看了的\n",
    "                if comptime <= endtime and tj_view == True:\n",
    "                    list_validcomp.extend( index_comp)\n",
    "                else:\n",
    "                    list_invalidcomp.extend( index_comp)\n",
    "#             # 对于收到且没完成的\n",
    "#             else :\n",
    "#                     df_valid_1.loc[ 0 ,:]  =     [ person_id, psn_ofr_id, 'no_complete' , index_rec ]   \n"
   ]
  },
  {
   "cell_type": "code",
   "execution_count": 49,
   "metadata": {},
   "outputs": [],
   "source": [
    "# 输入 ； 合并后的数据 df_merg，以及合并前包含offer持续时间的offer数据  portfolio_df\n",
    "# 输出 ：  df_merg 中所有有效offer完成 （单个用户 某个offer 看过的前提下 完成了）\n",
    "# 和无效offer完成的 index （单个用户 某个offer 没看过就完成了）， \n",
    "# 分别为 list_validcomp 和 list_invalidcomp\n",
    "def find_valid( df_merg , portfolio_df ):\n",
    "\n",
    "    list_person = df_merg.person.unique()\n",
    "    list_validcomp = [];  list_invalidcomp = [] ; list_validrec = []\n",
    "\n",
    "    for person_id in tqdm( list_person ) :\n",
    "        # person_id= list_person[0] ; person_id = '88baa20c29a94178a43a7d68e5f039d4'\n",
    "        df_sub_person = dfmerge_trprpo[dfmerge_trprpo.person == person_id]\n",
    "        list_psn_ofr = df_sub_person.offer_id.unique()\n",
    "        list_psn_ofr = list_psn_ofr[ ~pd.isna(list_psn_ofr) ] \n",
    "\n",
    "        for psn_ofr_id in list_psn_ofr:\n",
    "    #       psn_ofr_id  = list_psn_ofr[1] ; psn_ofr_id = '0b1e1539f2cc45b7b9fa7c272da2e1d7'\n",
    "            df_sub_psn_ofr  = df_sub_person[df_sub_person.offer_id == psn_ofr_id ]\n",
    "            tj_rec =  'offer received'  in df_sub_psn_ofr.event.values\n",
    "            tj_view =  'offer viewed'  in df_sub_psn_ofr.event.values\n",
    "            tj_comp =  'offer completed'  in df_sub_psn_ofr.event.values\n",
    "            # 对于每个收到的\n",
    "            if tj_rec == True:\n",
    "                starttime = df_sub_psn_ofr[ df_sub_psn_ofr.event ==  'offer received' ].time.values.min()\n",
    "                duringtime  = portfolio_df[ portfolio_df.id ==  psn_ofr_id ].duration.values[0] *24\n",
    "                endtime = starttime+ duringtime\n",
    "                # 最早收到offer的行号\n",
    "                index_rec =  df_sub_psn_ofr[ df_sub_psn_ofr.event ==  'offer received' ].time.idxmin()\n",
    "                # 对于收到且完成了的\n",
    "                if tj_comp ==True:\n",
    "                    # 完成时间\n",
    "                    comptime = df_sub_psn_ofr[ df_sub_psn_ofr.event ==  'offer completed' ].time.values.min()\n",
    "                    # 完成offer的行号\n",
    "                    index_comp = df_sub_psn_ofr[ df_sub_psn_ofr.event ==  'offer completed' ].index.values\n",
    "                    # 对于在规定时间内完成的 且已经查看了的\n",
    "                    if comptime <= endtime and tj_view == True:\n",
    "                        # 记录 完成offer的行号\n",
    "                        list_validcomp.extend( index_comp)\n",
    "                        # 记录 完成时间之前的所有receive的行号\n",
    "                        list_validrec.append( index_rec )\n",
    "                    else:\n",
    "                        list_invalidcomp.extend( index_comp )\n",
    "\n",
    "    return list_validcomp, list_invalidcomp, list_validrec"
   ]
  },
  {
   "cell_type": "code",
   "execution_count": 50,
   "metadata": {},
   "outputs": [],
   "source": [
    "\n",
    "if  os.path.exists('sav/list_validcomp.pkl') and os.path.exists('sav/list_validcomp.pkl') and os.path.exists('sav/list_validrec.pkl'):\n",
    "    list_validcomp =  pklload('sav/list_validcomp.pkl')\n",
    "    list_invalidcomp =  pklload('sav/list_invalidcomp.pkl')\n",
    "    list_validrec =  pklload('sav/list_validrec.pkl')\n",
    "\n",
    "else:    \n",
    "    list_validcomp, list_invalidcomp ,list_validrec =   find_valid( dfmerge_trprpo , portfolio )\n",
    "#     list_validcomp\n",
    "    pklsave(list_validcomp, 'sav/list_validcomp.pkl')\n",
    "    pklsave(list_invalidcomp, 'sav/list_invalidcomp.pkl')\n",
    "    pklsave(list_validrec, 'sav/list_validrec.pkl')"
   ]
  },
  {
   "cell_type": "code",
   "execution_count": 51,
   "metadata": {},
   "outputs": [
    {
     "data": {
      "text/plain": [
       "27601"
      ]
     },
     "execution_count": 51,
     "metadata": {},
     "output_type": "execute_result"
    },
    {
     "data": {
      "text/plain": [
       "23421"
      ]
     },
     "execution_count": 51,
     "metadata": {},
     "output_type": "execute_result"
    }
   ],
   "source": [
    "# list_validcomp 和 list_validrec是不是长度一样？\n",
    "len( list_validcomp ) \n",
    "len( list_validrec ) \n",
    "# list_validcomp比较多 说明有的人 有效完成次数不止一次"
   ]
  },
  {
   "cell_type": "code",
   "execution_count": 52,
   "metadata": {},
   "outputs": [
    {
     "data": {
      "text/html": [
       "<div>\n",
       "<style scoped>\n",
       "    .dataframe tbody tr th:only-of-type {\n",
       "        vertical-align: middle;\n",
       "    }\n",
       "\n",
       "    .dataframe tbody tr th {\n",
       "        vertical-align: top;\n",
       "    }\n",
       "\n",
       "    .dataframe thead th {\n",
       "        text-align: right;\n",
       "    }\n",
       "</style>\n",
       "<table border=\"1\" class=\"dataframe\">\n",
       "  <thead>\n",
       "    <tr style=\"text-align: right;\">\n",
       "      <th></th>\n",
       "      <th>person</th>\n",
       "      <th>event</th>\n",
       "      <th>time</th>\n",
       "      <th>offer_id</th>\n",
       "      <th>amount</th>\n",
       "      <th>gender</th>\n",
       "      <th>age</th>\n",
       "      <th>became_member_on</th>\n",
       "      <th>income</th>\n",
       "      <th>reward</th>\n",
       "      <th>difficulty</th>\n",
       "      <th>duration</th>\n",
       "      <th>offer_type</th>\n",
       "      <th>web</th>\n",
       "      <th>email</th>\n",
       "      <th>mobile</th>\n",
       "      <th>social</th>\n",
       "      <th>offername</th>\n",
       "      <th>valid</th>\n",
       "      <th>invalid</th>\n",
       "    </tr>\n",
       "  </thead>\n",
       "  <tbody>\n",
       "    <tr>\n",
       "      <th>0</th>\n",
       "      <td>78afa995795e4d85b5d9ceeca43f5fef</td>\n",
       "      <td>offer received</td>\n",
       "      <td>0</td>\n",
       "      <td>9b98b8c7a33c4b65b9aebfe6a799e6d9</td>\n",
       "      <td>NaN</td>\n",
       "      <td>F</td>\n",
       "      <td>75</td>\n",
       "      <td>2017-05-09</td>\n",
       "      <td>100000.0</td>\n",
       "      <td>5.0</td>\n",
       "      <td>5.0</td>\n",
       "      <td>7.0</td>\n",
       "      <td>bogo</td>\n",
       "      <td>1.0</td>\n",
       "      <td>1.0</td>\n",
       "      <td>1.0</td>\n",
       "      <td>0.0</td>\n",
       "      <td>bogo_5_7_5</td>\n",
       "      <td>0</td>\n",
       "      <td>0</td>\n",
       "    </tr>\n",
       "    <tr>\n",
       "      <th>1</th>\n",
       "      <td>a03223e636434f42ac4c3df47e8bac43</td>\n",
       "      <td>offer received</td>\n",
       "      <td>0</td>\n",
       "      <td>0b1e1539f2cc45b7b9fa7c272da2e1d7</td>\n",
       "      <td>NaN</td>\n",
       "      <td>None</td>\n",
       "      <td>118</td>\n",
       "      <td>2017-08-04</td>\n",
       "      <td>NaN</td>\n",
       "      <td>5.0</td>\n",
       "      <td>20.0</td>\n",
       "      <td>10.0</td>\n",
       "      <td>discount</td>\n",
       "      <td>1.0</td>\n",
       "      <td>1.0</td>\n",
       "      <td>0.0</td>\n",
       "      <td>0.0</td>\n",
       "      <td>discount_20_10_5</td>\n",
       "      <td>0</td>\n",
       "      <td>0</td>\n",
       "    </tr>\n",
       "    <tr>\n",
       "      <th>2</th>\n",
       "      <td>e2127556f4f64592b11af22de27a7932</td>\n",
       "      <td>offer received</td>\n",
       "      <td>0</td>\n",
       "      <td>2906b810c7d4411798c6938adc9daaa5</td>\n",
       "      <td>NaN</td>\n",
       "      <td>M</td>\n",
       "      <td>68</td>\n",
       "      <td>2018-04-26</td>\n",
       "      <td>70000.0</td>\n",
       "      <td>2.0</td>\n",
       "      <td>10.0</td>\n",
       "      <td>7.0</td>\n",
       "      <td>discount</td>\n",
       "      <td>1.0</td>\n",
       "      <td>1.0</td>\n",
       "      <td>1.0</td>\n",
       "      <td>0.0</td>\n",
       "      <td>discount_10_7_2</td>\n",
       "      <td>0</td>\n",
       "      <td>0</td>\n",
       "    </tr>\n",
       "    <tr>\n",
       "      <th>3</th>\n",
       "      <td>8ec6ce2a7e7949b1bf142def7d0e0586</td>\n",
       "      <td>offer received</td>\n",
       "      <td>0</td>\n",
       "      <td>fafdcd668e3743c1bb461111dcafc2a4</td>\n",
       "      <td>NaN</td>\n",
       "      <td>None</td>\n",
       "      <td>118</td>\n",
       "      <td>2017-09-25</td>\n",
       "      <td>NaN</td>\n",
       "      <td>2.0</td>\n",
       "      <td>10.0</td>\n",
       "      <td>10.0</td>\n",
       "      <td>discount</td>\n",
       "      <td>1.0</td>\n",
       "      <td>1.0</td>\n",
       "      <td>1.0</td>\n",
       "      <td>1.0</td>\n",
       "      <td>discount_10_10_2</td>\n",
       "      <td>0</td>\n",
       "      <td>0</td>\n",
       "    </tr>\n",
       "    <tr>\n",
       "      <th>4</th>\n",
       "      <td>68617ca6246f4fbc85e91a2a49552598</td>\n",
       "      <td>offer received</td>\n",
       "      <td>0</td>\n",
       "      <td>4d5c57ea9a6940dd891ad53e9dbe8da0</td>\n",
       "      <td>NaN</td>\n",
       "      <td>None</td>\n",
       "      <td>118</td>\n",
       "      <td>2017-10-02</td>\n",
       "      <td>NaN</td>\n",
       "      <td>10.0</td>\n",
       "      <td>10.0</td>\n",
       "      <td>5.0</td>\n",
       "      <td>bogo</td>\n",
       "      <td>1.0</td>\n",
       "      <td>1.0</td>\n",
       "      <td>1.0</td>\n",
       "      <td>1.0</td>\n",
       "      <td>bogo_10_5_10</td>\n",
       "      <td>0</td>\n",
       "      <td>0</td>\n",
       "    </tr>\n",
       "    <tr>\n",
       "      <th>...</th>\n",
       "      <td>...</td>\n",
       "      <td>...</td>\n",
       "      <td>...</td>\n",
       "      <td>...</td>\n",
       "      <td>...</td>\n",
       "      <td>...</td>\n",
       "      <td>...</td>\n",
       "      <td>...</td>\n",
       "      <td>...</td>\n",
       "      <td>...</td>\n",
       "      <td>...</td>\n",
       "      <td>...</td>\n",
       "      <td>...</td>\n",
       "      <td>...</td>\n",
       "      <td>...</td>\n",
       "      <td>...</td>\n",
       "      <td>...</td>\n",
       "      <td>...</td>\n",
       "      <td>...</td>\n",
       "      <td>...</td>\n",
       "    </tr>\n",
       "    <tr>\n",
       "      <th>306529</th>\n",
       "      <td>b3a1272bc9904337b331bf348c3e8c17</td>\n",
       "      <td>transaction</td>\n",
       "      <td>714</td>\n",
       "      <td>NaN</td>\n",
       "      <td>1.59</td>\n",
       "      <td>M</td>\n",
       "      <td>66</td>\n",
       "      <td>2018-01-01</td>\n",
       "      <td>47000.0</td>\n",
       "      <td>NaN</td>\n",
       "      <td>NaN</td>\n",
       "      <td>NaN</td>\n",
       "      <td>NaN</td>\n",
       "      <td>NaN</td>\n",
       "      <td>NaN</td>\n",
       "      <td>NaN</td>\n",
       "      <td>NaN</td>\n",
       "      <td>NaN</td>\n",
       "      <td>0</td>\n",
       "      <td>0</td>\n",
       "    </tr>\n",
       "    <tr>\n",
       "      <th>306530</th>\n",
       "      <td>68213b08d99a4ae1b0dcb72aebd9aa35</td>\n",
       "      <td>transaction</td>\n",
       "      <td>714</td>\n",
       "      <td>NaN</td>\n",
       "      <td>9.53</td>\n",
       "      <td>M</td>\n",
       "      <td>52</td>\n",
       "      <td>2018-04-08</td>\n",
       "      <td>62000.0</td>\n",
       "      <td>NaN</td>\n",
       "      <td>NaN</td>\n",
       "      <td>NaN</td>\n",
       "      <td>NaN</td>\n",
       "      <td>NaN</td>\n",
       "      <td>NaN</td>\n",
       "      <td>NaN</td>\n",
       "      <td>NaN</td>\n",
       "      <td>NaN</td>\n",
       "      <td>0</td>\n",
       "      <td>0</td>\n",
       "    </tr>\n",
       "    <tr>\n",
       "      <th>306531</th>\n",
       "      <td>a00058cf10334a308c68e7631c529907</td>\n",
       "      <td>transaction</td>\n",
       "      <td>714</td>\n",
       "      <td>NaN</td>\n",
       "      <td>3.61</td>\n",
       "      <td>F</td>\n",
       "      <td>63</td>\n",
       "      <td>2013-09-22</td>\n",
       "      <td>52000.0</td>\n",
       "      <td>NaN</td>\n",
       "      <td>NaN</td>\n",
       "      <td>NaN</td>\n",
       "      <td>NaN</td>\n",
       "      <td>NaN</td>\n",
       "      <td>NaN</td>\n",
       "      <td>NaN</td>\n",
       "      <td>NaN</td>\n",
       "      <td>NaN</td>\n",
       "      <td>0</td>\n",
       "      <td>0</td>\n",
       "    </tr>\n",
       "    <tr>\n",
       "      <th>306532</th>\n",
       "      <td>76ddbd6576844afe811f1a3c0fbb5bec</td>\n",
       "      <td>transaction</td>\n",
       "      <td>714</td>\n",
       "      <td>NaN</td>\n",
       "      <td>3.53</td>\n",
       "      <td>M</td>\n",
       "      <td>57</td>\n",
       "      <td>2016-07-09</td>\n",
       "      <td>40000.0</td>\n",
       "      <td>NaN</td>\n",
       "      <td>NaN</td>\n",
       "      <td>NaN</td>\n",
       "      <td>NaN</td>\n",
       "      <td>NaN</td>\n",
       "      <td>NaN</td>\n",
       "      <td>NaN</td>\n",
       "      <td>NaN</td>\n",
       "      <td>NaN</td>\n",
       "      <td>0</td>\n",
       "      <td>0</td>\n",
       "    </tr>\n",
       "    <tr>\n",
       "      <th>306533</th>\n",
       "      <td>c02b10e8752c4d8e9b73f918558531f7</td>\n",
       "      <td>transaction</td>\n",
       "      <td>714</td>\n",
       "      <td>NaN</td>\n",
       "      <td>4.05</td>\n",
       "      <td>None</td>\n",
       "      <td>118</td>\n",
       "      <td>2015-12-11</td>\n",
       "      <td>NaN</td>\n",
       "      <td>NaN</td>\n",
       "      <td>NaN</td>\n",
       "      <td>NaN</td>\n",
       "      <td>NaN</td>\n",
       "      <td>NaN</td>\n",
       "      <td>NaN</td>\n",
       "      <td>NaN</td>\n",
       "      <td>NaN</td>\n",
       "      <td>NaN</td>\n",
       "      <td>0</td>\n",
       "      <td>0</td>\n",
       "    </tr>\n",
       "  </tbody>\n",
       "</table>\n",
       "<p>306534 rows × 20 columns</p>\n",
       "</div>"
      ],
      "text/plain": [
       "                                  person           event  time  \\\n",
       "0       78afa995795e4d85b5d9ceeca43f5fef  offer received     0   \n",
       "1       a03223e636434f42ac4c3df47e8bac43  offer received     0   \n",
       "2       e2127556f4f64592b11af22de27a7932  offer received     0   \n",
       "3       8ec6ce2a7e7949b1bf142def7d0e0586  offer received     0   \n",
       "4       68617ca6246f4fbc85e91a2a49552598  offer received     0   \n",
       "...                                  ...             ...   ...   \n",
       "306529  b3a1272bc9904337b331bf348c3e8c17     transaction   714   \n",
       "306530  68213b08d99a4ae1b0dcb72aebd9aa35     transaction   714   \n",
       "306531  a00058cf10334a308c68e7631c529907     transaction   714   \n",
       "306532  76ddbd6576844afe811f1a3c0fbb5bec     transaction   714   \n",
       "306533  c02b10e8752c4d8e9b73f918558531f7     transaction   714   \n",
       "\n",
       "                                offer_id  amount gender  age became_member_on  \\\n",
       "0       9b98b8c7a33c4b65b9aebfe6a799e6d9     NaN      F   75       2017-05-09   \n",
       "1       0b1e1539f2cc45b7b9fa7c272da2e1d7     NaN   None  118       2017-08-04   \n",
       "2       2906b810c7d4411798c6938adc9daaa5     NaN      M   68       2018-04-26   \n",
       "3       fafdcd668e3743c1bb461111dcafc2a4     NaN   None  118       2017-09-25   \n",
       "4       4d5c57ea9a6940dd891ad53e9dbe8da0     NaN   None  118       2017-10-02   \n",
       "...                                  ...     ...    ...  ...              ...   \n",
       "306529                               NaN    1.59      M   66       2018-01-01   \n",
       "306530                               NaN    9.53      M   52       2018-04-08   \n",
       "306531                               NaN    3.61      F   63       2013-09-22   \n",
       "306532                               NaN    3.53      M   57       2016-07-09   \n",
       "306533                               NaN    4.05   None  118       2015-12-11   \n",
       "\n",
       "          income  reward  difficulty  duration offer_type  web  email  mobile  \\\n",
       "0       100000.0     5.0         5.0       7.0       bogo  1.0    1.0     1.0   \n",
       "1            NaN     5.0        20.0      10.0   discount  1.0    1.0     0.0   \n",
       "2        70000.0     2.0        10.0       7.0   discount  1.0    1.0     1.0   \n",
       "3            NaN     2.0        10.0      10.0   discount  1.0    1.0     1.0   \n",
       "4            NaN    10.0        10.0       5.0       bogo  1.0    1.0     1.0   \n",
       "...          ...     ...         ...       ...        ...  ...    ...     ...   \n",
       "306529   47000.0     NaN         NaN       NaN        NaN  NaN    NaN     NaN   \n",
       "306530   62000.0     NaN         NaN       NaN        NaN  NaN    NaN     NaN   \n",
       "306531   52000.0     NaN         NaN       NaN        NaN  NaN    NaN     NaN   \n",
       "306532   40000.0     NaN         NaN       NaN        NaN  NaN    NaN     NaN   \n",
       "306533       NaN     NaN         NaN       NaN        NaN  NaN    NaN     NaN   \n",
       "\n",
       "        social         offername  valid  invalid  \n",
       "0          0.0        bogo_5_7_5      0        0  \n",
       "1          0.0  discount_20_10_5      0        0  \n",
       "2          0.0   discount_10_7_2      0        0  \n",
       "3          1.0  discount_10_10_2      0        0  \n",
       "4          1.0      bogo_10_5_10      0        0  \n",
       "...        ...               ...    ...      ...  \n",
       "306529     NaN               NaN      0        0  \n",
       "306530     NaN               NaN      0        0  \n",
       "306531     NaN               NaN      0        0  \n",
       "306532     NaN               NaN      0        0  \n",
       "306533     NaN               NaN      0        0  \n",
       "\n",
       "[306534 rows x 20 columns]"
      ]
     },
     "execution_count": 52,
     "metadata": {},
     "output_type": "execute_result"
    }
   ],
   "source": [
    "# 给 dfmerge_trprpo 增加一列  valid_complete,  valid为1 ，invalid 和 no_complete都为0\n",
    "dfmerge_trprpo.loc[ : ,'valid'] = 0\n",
    "dfmerge_trprpo.loc[ list_validcomp ,'valid'] =1\n",
    "dfmerge_trprpo.loc[ : ,'invalid'] = 0\n",
    "dfmerge_trprpo.loc[ list_invalidcomp ,'invalid'] =1\n",
    "dfmerge_trprpo"
   ]
  },
  {
   "cell_type": "markdown",
   "metadata": {},
   "source": [
    "### 去掉 invalid_complete以后  再对offer_event count进行作图"
   ]
  },
  {
   "cell_type": "code",
   "execution_count": 53,
   "metadata": {},
   "outputs": [
    {
     "data": {
      "text/plain": [
       "<Figure size 720x432 with 0 Axes>"
      ]
     },
     "execution_count": 53,
     "metadata": {},
     "output_type": "execute_result"
    },
    {
     "data": {
      "text/plain": [
       "<AxesSubplot:xlabel='0', ylabel='offername'>"
      ]
     },
     "execution_count": 53,
     "metadata": {},
     "output_type": "execute_result"
    },
    {
     "data": {
      "text/plain": [
       "<matplotlib.legend.Legend at 0x1c5ed388>"
      ]
     },
     "execution_count": 53,
     "metadata": {},
     "output_type": "execute_result"
    },
    {
     "data": {
      "text/plain": [
       "Text(0.5, 1.0, 'Before Cleaning : Offer Received, Viewed, and Completed (fraction)')"
      ]
     },
     "execution_count": 53,
     "metadata": {},
     "output_type": "execute_result"
    },
    {
     "data": {
      "text/plain": [
       "Text(0, 0.5, '')"
      ]
     },
     "execution_count": 53,
     "metadata": {},
     "output_type": "execute_result"
    },
    {
     "data": {
      "text/plain": [
       "Text(0.5, 0, 'Fraction')"
      ]
     },
     "execution_count": 53,
     "metadata": {},
     "output_type": "execute_result"
    },
    {
     "data": {
      "image/png": "[encoded data removed]",
      "text/plain": [
       "<Figure size 720x432 with 1 Axes>"
      ]
     },
     "metadata": {
      "needs_background": "light"
     },
     "output_type": "display_data"
    }
   ],
   "source": [
    "#%% 去掉无效行以后 重新统计  不同offer- receive view 和 complete 比例，水平图\n",
    "\n",
    "df_trprpo_valid = dfmerge_trprpo[ dfmerge_trprpo.invalid == 0 ]\n",
    "\n",
    "event_count = df_trprpo_valid[~df_trprpo_valid.event.isin(['transaction'])].groupby(['offername', 'event']).offer_id.count().unstack()\n",
    "event_count['offer_received_frac'] = event_count['offer received']/ event_count['offer received']\n",
    "event_count['offer_viewed_frac'] = event_count['offer viewed']/ event_count['offer received']\n",
    "event_count['offer_completed_frac'] =  event_count['offer completed']/ event_count['offer received']\n",
    "\n",
    "event_count_frac = event_count[['offer_received_frac','offer_viewed_frac', 'offer_completed_frac']]\n",
    "\n",
    "event_count_stack = event_count_frac.stack().reset_index()\n",
    "\n",
    "plt.figure(figsize=(10,6))\n",
    "sns.barplot(x=0,y='offername', hue='event', data=event_count_stack)\n",
    "plt.legend(loc='center left', bbox_to_anchor=(1, 0.5))\n",
    "plt.subplots_adjust(top=0.8)\n",
    "plt.title(\"Before Cleaning : Offer Received, Viewed, and Completed (fraction)\")\n",
    "plt.ylabel('')\n",
    "plt.xlabel('Fraction')\n",
    "\n",
    "plt.tight_layout()"
   ]
  },
  {
   "cell_type": "markdown",
   "metadata": {},
   "source": [
    "- 对于所有推送offer 发现 complete 比 view 少，说明只剩下了有效记录\n",
    "    \n",
    "    \n",
    "- For all push offers, it is found that complete is less than view, indicating that only valid records are left"
   ]
  },
  {
   "cell_type": "markdown",
   "metadata": {},
   "source": [
    "# 函数集合"
   ]
  },
  {
   "cell_type": "markdown",
   "metadata": {},
   "source": [
    "## 清理信息， 合并"
   ]
  },
  {
   "cell_type": "code",
   "execution_count": 54,
   "metadata": {},
   "outputs": [],
   "source": [
    "# 函数 portfolio_prep \n",
    "# 输入 没有清洗以前的 portfolio\n",
    "# 输出  处理后的 portfolio\n",
    "# 对 channels onehot, \n",
    "# 把 offer_type difficulty duration reward 合并为一个offername，\n",
    "def portfolio_prep(df):\n",
    "    # df = portfolio\n",
    "    # one hot encoded   channels 4 class\n",
    "    df = df.copy()\n",
    "    list_channels = ['web', 'email', 'mobile', 'social']\n",
    "\n",
    "    for ch in list_channels:\n",
    "        # ch = list_channels[0]\n",
    "        df[ch] = df.channels.apply(lambda x: 1 if ch in x else 0)\n",
    "\n",
    "    df = df.drop('channels', axis=1)\n",
    "\n",
    "    df['offername'] = df.offer_type.astype(str) +'_'+ df.difficulty.astype(str) +'_'+ \\\n",
    "        df.duration.astype(str) +'_'+  df.reward.astype(str)\n",
    "    \n",
    "#     df = df.drop( ['offer_type', 'difficulty', 'duration', 'reward']  , axis=1)\n",
    "    return df\n",
    "\n",
    "\n",
    "# 输入 原始 profile\n",
    "# 输出  处理后的 profile\n",
    "# 1 对 became_member_on 转化为时间类型，然后提取 year ，转化onehot\n",
    "# 2 用户年龄分组  10为一组\n",
    "def profile_prep(df):\n",
    "    # df = profile\n",
    "    df = df.copy()\n",
    "    #convert to string\n",
    "    df['became_member_on'] = pd.to_datetime( df.became_member_on.apply(lambda x: str(x)) )\n",
    "    df[ 'member_year'] = df['became_member_on'].apply(lambda x: 'mbyr_'+ str(x.year) )\n",
    "    df = pd.concat( [ df , pd.get_dummies(df['member_year'])] ,axis= 1 ) \n",
    "    \n",
    "    min_age_limit = np.int(np.floor(np.min(df['age'])/10)*10)\n",
    "    max_age_limit = np.int(np.ceil(np.max(df['age'])/10)*10)\n",
    "\n",
    "    df['agerange'] =pd.cut(df['age'], (range(min_age_limit,max_age_limit + 10, 10)),right=False)\n",
    "\n",
    "    df['agerange'] = df['agerange'].astype('str')\n",
    "\n",
    "    df = pd.concat( [ df , pd.get_dummies(df['agerange'])] ,axis= 1 ) \n",
    "    df =df.drop(columns=['agerange'])\n",
    "    return df\n",
    "\n",
    "def encode_offer_id(x):\n",
    "    try :\n",
    "        return x['offer id']\n",
    "    except:\n",
    "        return x['offer_id']\n",
    "\n",
    "# 输入 没有处理以前的  transcript\n",
    "# 输出 处理以后的 transcript， value列转化为另外两列 offer_id  amount\n",
    "# 思路\n",
    "# 1  把 event列中 transaction以外的 对应的字典，要么是 x['offer id']  或者x['offer_id']  放到 offer_id这一列里\n",
    "# 2  把 event列中 transaction 对应的字典，x['amount'] 放到 amount 这一列里\n",
    "# 3 删除原来的value\n",
    "def transcript_prep(df):\n",
    "    # df = transcript\n",
    "    trans_df = df.copy()\n",
    "    trans_df['offer_id'] = trans_df[~trans_df.event.isin(['transaction'])].value.apply(encode_offer_id)   # why can't lambda?\n",
    "    trans_df['amount'] =  trans_df[trans_df.event.isin(['transaction'])].value.apply(lambda x: x['amount'])\n",
    "    trans_df = trans_df.drop( 'value' , axis=1 )\n",
    "    return trans_df\n",
    "\n",
    "# 输入 3个原始df\n",
    "# 输出 清洗后的3个df ，根据用户id和offerid  合并起来\n",
    "def merge_transcript_profile_portfolio(transcript_df, profile_df, portfolio_df):\n",
    "    # transcript_df= transcript ; profile_df = profile; portfolio_df = portfolio\n",
    "    portfolio_clean = portfolio_prep( portfolio_df ) \n",
    "    profile_clean = profile_prep(profile_df)\n",
    "    transcript_clean = transcript_prep(transcript_df)\n",
    "    \n",
    "    dfmerge_tr_pr = pd.merge(transcript_clean, profile_clean, left_on=['person'], right_on = ['id'], how ='left')\n",
    "    dfmerge_tr_pr = dfmerge_tr_pr.drop(['id'], axis=1)\n",
    "    \n",
    "    dfmerge_trpr_po =  pd.merge(dfmerge_tr_pr, portfolio_clean, left_on = 'offer_id', right_on ='id', how='left')\n",
    "    dfmerge_trpr_po = dfmerge_trpr_po.drop(['id'], axis=1)\n",
    "    return dfmerge_trpr_po\n",
    "\n",
    "\n",
    "\n"
   ]
  },
  {
   "cell_type": "markdown",
   "metadata": {},
   "source": [
    "##  特征提取"
   ]
  },
  {
   "cell_type": "code",
   "execution_count": 55,
   "metadata": {},
   "outputs": [],
   "source": [
    "#%% 函数  根据amount提取消费信息\n",
    "# 输入 某个用户的 id 和 用户子df\n",
    "# 输出  这个用户名 命名的ser 消费的 关于平均 计数 总值\n",
    "def addfeat_spending(df, profile_id):\n",
    "    # profile_id = dfmerge_trprpo.person.unique()[0] ; \n",
    "    # df = dfmerge_trprpo[ dfmerge_trprpo.person ==  profile_id]  ; \n",
    "    avg_spending = df.amount.mean()\n",
    "    transaction_count = df.amount.count()\n",
    "    sum_spending = df.amount.sum()\n",
    "\n",
    "    spending_series = pd.Series([avg_spending, transaction_count, sum_spending], \\\n",
    "                                index=[\"avg_spending\", \"transaction_count\", 'sum_spending'], name=profile_id)\n",
    "    return spending_series\n",
    "\n",
    "# 输入 某个用户的 id 和 用户子df\n",
    "# 输出 这个用户 有效完成和无效完成  对于两种 offer_type ：bogo  discount ，的次数\n",
    "def addfeat_invalid( df , profile_id):\n",
    "    # profile_id = dfmerge_trprpo.person.unique()[0] ; \n",
    "    # df = dfmerge_trprpo[ dfmerge_trprpo.person ==  profile_id]  ; \n",
    "    #  df  = subset_df.copy()\n",
    "    valid_bogo_count = len(df[ (df.valid == 1) &  (df.offer_type == 'bogo')])\n",
    "    invalid_bogo_count = len(df[ (df.invalid == 1 ) &  (df.offer_type == 'bogo')])\n",
    "    valid_dscut_count = len(df[ (df.valid == 1) &  (df.offer_type == 'discount')])\n",
    "    invalid_dscut_count = len(df[ ( df.invalid == 1)  &  (df.offer_type == 'discount') ])\n",
    "    valid_series = pd.Series([valid_bogo_count , invalid_bogo_count , valid_dscut_count ,invalid_dscut_count], \n",
    "                             index=[ 'valid_bogo_count','invalid_bogo_count',\n",
    "                                    'valid_dscut_count' , 'invalid_dscut_count'], \n",
    "                             name=profile_id)\n",
    "    return valid_series\n",
    "\n",
    "\n",
    "def load_file(filepath):\n",
    "    \"\"\"Load file csv\"\"\"\n",
    "    df_clean = pd.read_csv(filepath)\n",
    "    df_clean = df_clean.set_index(df_clean.columns[0])\n",
    "    df_clean = profile_parse_dates(df_clean)\n",
    "    return df_clean\n",
    "\n",
    "# 函数，特征提取\n",
    "# 输入   合并后的信息 df_merge。 以及 处理以后的用户信息 df_prof_clean\n",
    "# 输出  给用户信息增加更多特征\n",
    "# 思路 1 对 df_merge里 每个用户遍历，得到用户子df\n",
    "# 2 用之前的函数 建立用户特征 series\n",
    "# 3 Ser转置为一行 和原来的 df_prof_clean 通过id 连接到一起\n",
    "# 4 更新后的用户 profile_updated 存起来\n",
    "def feature_extraction( df_merge, df_prof_clean):\n",
    "\n",
    "    # df_merge = dfmerge_trprpo ; profile_df = profile\n",
    "    try:\n",
    "        profile_updated = load_file('data/profile_updated.csv')\n",
    "        print(\"The profile_updated.csv file is available at local folder.\")\n",
    "    except:\n",
    "        \n",
    "        list_addfeat = [\"avg_spending\", \"transaction_count\", 'sum_spending',\n",
    "                       'valid_bogo_count','invalid_bogo_count','valid_dscut_count' , 'invalid_dscut_count']\n",
    "        allfeat_df = pd.DataFrame(index=list_addfeat)\n",
    "\n",
    "        ar_personid = df_merge.person.unique()\n",
    "        for profile_id in tqdm( ar_personid ):\n",
    "            # profile_id = ar_personid[0]\n",
    "            subset_df = df_merge[df_merge.person == profile_id]\n",
    "            \n",
    "            # 特征提取 消费信息 和无效完成信息\n",
    "            spending_series = addfeat_spending( subset_df, profile_id )\n",
    "            allfeat_df.loc[ spending_series.index , profile_id ] = spending_series.values\n",
    "            invalid_series  = addfeat_invalid(  subset_df, profile_id ) \n",
    "            allfeat_df.loc[ invalid_series.index , profile_id] = invalid_series.values     \n",
    "            \n",
    "        # df concatenation\n",
    "        profile_updated = pd.concat([df_prof_clean.set_index('id'),allfeat_df.T ], axis=1, sort=False)\n",
    "\n",
    "    return profile_updated\n",
    "\n",
    "\n"
   ]
  },
  {
   "cell_type": "markdown",
   "metadata": {},
   "source": [
    "# 特征工程"
   ]
  },
  {
   "cell_type": "markdown",
   "metadata": {},
   "source": [
    "## 增加特征"
   ]
  },
  {
   "cell_type": "code",
   "execution_count": 56,
   "metadata": {
    "lines_to_next_cell": 2
   },
   "outputs": [
    {
     "data": {
      "text/html": [
       "<div>\n",
       "<style scoped>\n",
       "    .dataframe tbody tr th:only-of-type {\n",
       "        vertical-align: middle;\n",
       "    }\n",
       "\n",
       "    .dataframe tbody tr th {\n",
       "        vertical-align: top;\n",
       "    }\n",
       "\n",
       "    .dataframe thead th {\n",
       "        text-align: right;\n",
       "    }\n",
       "</style>\n",
       "<table border=\"1\" class=\"dataframe\">\n",
       "  <thead>\n",
       "    <tr style=\"text-align: right;\">\n",
       "      <th></th>\n",
       "      <th>person</th>\n",
       "      <th>event</th>\n",
       "      <th>time</th>\n",
       "      <th>offer_id</th>\n",
       "      <th>amount</th>\n",
       "      <th>gender</th>\n",
       "      <th>age</th>\n",
       "      <th>became_member_on</th>\n",
       "      <th>income</th>\n",
       "      <th>member_year</th>\n",
       "      <th>mbyr_2013</th>\n",
       "      <th>mbyr_2014</th>\n",
       "      <th>mbyr_2015</th>\n",
       "      <th>mbyr_2016</th>\n",
       "      <th>mbyr_2017</th>\n",
       "      <th>mbyr_2018</th>\n",
       "      <th>[10, 20)</th>\n",
       "      <th>[100, 110)</th>\n",
       "      <th>[110, 120)</th>\n",
       "      <th>[20, 30)</th>\n",
       "      <th>[30, 40)</th>\n",
       "      <th>[40, 50)</th>\n",
       "      <th>[50, 60)</th>\n",
       "      <th>[60, 70)</th>\n",
       "      <th>[70, 80)</th>\n",
       "      <th>[80, 90)</th>\n",
       "      <th>[90, 100)</th>\n",
       "      <th>reward</th>\n",
       "      <th>difficulty</th>\n",
       "      <th>duration</th>\n",
       "      <th>offer_type</th>\n",
       "      <th>web</th>\n",
       "      <th>email</th>\n",
       "      <th>mobile</th>\n",
       "      <th>social</th>\n",
       "      <th>offername</th>\n",
       "      <th>valid</th>\n",
       "      <th>invalid</th>\n",
       "    </tr>\n",
       "  </thead>\n",
       "  <tbody>\n",
       "    <tr>\n",
       "      <th>0</th>\n",
       "      <td>78afa995795e4d85b5d9ceeca43f5fef</td>\n",
       "      <td>offer received</td>\n",
       "      <td>0</td>\n",
       "      <td>9b98b8c7a33c4b65b9aebfe6a799e6d9</td>\n",
       "      <td>NaN</td>\n",
       "      <td>F</td>\n",
       "      <td>75</td>\n",
       "      <td>2017-05-09</td>\n",
       "      <td>100000.0</td>\n",
       "      <td>mbyr_2017</td>\n",
       "      <td>0</td>\n",
       "      <td>0</td>\n",
       "      <td>0</td>\n",
       "      <td>0</td>\n",
       "      <td>1</td>\n",
       "      <td>0</td>\n",
       "      <td>0</td>\n",
       "      <td>0</td>\n",
       "      <td>0</td>\n",
       "      <td>0</td>\n",
       "      <td>0</td>\n",
       "      <td>0</td>\n",
       "      <td>0</td>\n",
       "      <td>0</td>\n",
       "      <td>1</td>\n",
       "      <td>0</td>\n",
       "      <td>0</td>\n",
       "      <td>5.0</td>\n",
       "      <td>5.0</td>\n",
       "      <td>7.0</td>\n",
       "      <td>bogo</td>\n",
       "      <td>1.0</td>\n",
       "      <td>1.0</td>\n",
       "      <td>1.0</td>\n",
       "      <td>0.0</td>\n",
       "      <td>bogo_5_7_5</td>\n",
       "      <td>0</td>\n",
       "      <td>0</td>\n",
       "    </tr>\n",
       "    <tr>\n",
       "      <th>1</th>\n",
       "      <td>a03223e636434f42ac4c3df47e8bac43</td>\n",
       "      <td>offer received</td>\n",
       "      <td>0</td>\n",
       "      <td>0b1e1539f2cc45b7b9fa7c272da2e1d7</td>\n",
       "      <td>NaN</td>\n",
       "      <td>None</td>\n",
       "      <td>118</td>\n",
       "      <td>2017-08-04</td>\n",
       "      <td>NaN</td>\n",
       "      <td>mbyr_2017</td>\n",
       "      <td>0</td>\n",
       "      <td>0</td>\n",
       "      <td>0</td>\n",
       "      <td>0</td>\n",
       "      <td>1</td>\n",
       "      <td>0</td>\n",
       "      <td>0</td>\n",
       "      <td>0</td>\n",
       "      <td>1</td>\n",
       "      <td>0</td>\n",
       "      <td>0</td>\n",
       "      <td>0</td>\n",
       "      <td>0</td>\n",
       "      <td>0</td>\n",
       "      <td>0</td>\n",
       "      <td>0</td>\n",
       "      <td>0</td>\n",
       "      <td>5.0</td>\n",
       "      <td>20.0</td>\n",
       "      <td>10.0</td>\n",
       "      <td>discount</td>\n",
       "      <td>1.0</td>\n",
       "      <td>1.0</td>\n",
       "      <td>0.0</td>\n",
       "      <td>0.0</td>\n",
       "      <td>discount_20_10_5</td>\n",
       "      <td>0</td>\n",
       "      <td>0</td>\n",
       "    </tr>\n",
       "    <tr>\n",
       "      <th>2</th>\n",
       "      <td>e2127556f4f64592b11af22de27a7932</td>\n",
       "      <td>offer received</td>\n",
       "      <td>0</td>\n",
       "      <td>2906b810c7d4411798c6938adc9daaa5</td>\n",
       "      <td>NaN</td>\n",
       "      <td>M</td>\n",
       "      <td>68</td>\n",
       "      <td>2018-04-26</td>\n",
       "      <td>70000.0</td>\n",
       "      <td>mbyr_2018</td>\n",
       "      <td>0</td>\n",
       "      <td>0</td>\n",
       "      <td>0</td>\n",
       "      <td>0</td>\n",
       "      <td>0</td>\n",
       "      <td>1</td>\n",
       "      <td>0</td>\n",
       "      <td>0</td>\n",
       "      <td>0</td>\n",
       "      <td>0</td>\n",
       "      <td>0</td>\n",
       "      <td>0</td>\n",
       "      <td>0</td>\n",
       "      <td>1</td>\n",
       "      <td>0</td>\n",
       "      <td>0</td>\n",
       "      <td>0</td>\n",
       "      <td>2.0</td>\n",
       "      <td>10.0</td>\n",
       "      <td>7.0</td>\n",
       "      <td>discount</td>\n",
       "      <td>1.0</td>\n",
       "      <td>1.0</td>\n",
       "      <td>1.0</td>\n",
       "      <td>0.0</td>\n",
       "      <td>discount_10_7_2</td>\n",
       "      <td>0</td>\n",
       "      <td>0</td>\n",
       "    </tr>\n",
       "    <tr>\n",
       "      <th>3</th>\n",
       "      <td>8ec6ce2a7e7949b1bf142def7d0e0586</td>\n",
       "      <td>offer received</td>\n",
       "      <td>0</td>\n",
       "      <td>fafdcd668e3743c1bb461111dcafc2a4</td>\n",
       "      <td>NaN</td>\n",
       "      <td>None</td>\n",
       "      <td>118</td>\n",
       "      <td>2017-09-25</td>\n",
       "      <td>NaN</td>\n",
       "      <td>mbyr_2017</td>\n",
       "      <td>0</td>\n",
       "      <td>0</td>\n",
       "      <td>0</td>\n",
       "      <td>0</td>\n",
       "      <td>1</td>\n",
       "      <td>0</td>\n",
       "      <td>0</td>\n",
       "      <td>0</td>\n",
       "      <td>1</td>\n",
       "      <td>0</td>\n",
       "      <td>0</td>\n",
       "      <td>0</td>\n",
       "      <td>0</td>\n",
       "      <td>0</td>\n",
       "      <td>0</td>\n",
       "      <td>0</td>\n",
       "      <td>0</td>\n",
       "      <td>2.0</td>\n",
       "      <td>10.0</td>\n",
       "      <td>10.0</td>\n",
       "      <td>discount</td>\n",
       "      <td>1.0</td>\n",
       "      <td>1.0</td>\n",
       "      <td>1.0</td>\n",
       "      <td>1.0</td>\n",
       "      <td>discount_10_10_2</td>\n",
       "      <td>0</td>\n",
       "      <td>0</td>\n",
       "    </tr>\n",
       "    <tr>\n",
       "      <th>4</th>\n",
       "      <td>68617ca6246f4fbc85e91a2a49552598</td>\n",
       "      <td>offer received</td>\n",
       "      <td>0</td>\n",
       "      <td>4d5c57ea9a6940dd891ad53e9dbe8da0</td>\n",
       "      <td>NaN</td>\n",
       "      <td>None</td>\n",
       "      <td>118</td>\n",
       "      <td>2017-10-02</td>\n",
       "      <td>NaN</td>\n",
       "      <td>mbyr_2017</td>\n",
       "      <td>0</td>\n",
       "      <td>0</td>\n",
       "      <td>0</td>\n",
       "      <td>0</td>\n",
       "      <td>1</td>\n",
       "      <td>0</td>\n",
       "      <td>0</td>\n",
       "      <td>0</td>\n",
       "      <td>1</td>\n",
       "      <td>0</td>\n",
       "      <td>0</td>\n",
       "      <td>0</td>\n",
       "      <td>0</td>\n",
       "      <td>0</td>\n",
       "      <td>0</td>\n",
       "      <td>0</td>\n",
       "      <td>0</td>\n",
       "      <td>10.0</td>\n",
       "      <td>10.0</td>\n",
       "      <td>5.0</td>\n",
       "      <td>bogo</td>\n",
       "      <td>1.0</td>\n",
       "      <td>1.0</td>\n",
       "      <td>1.0</td>\n",
       "      <td>1.0</td>\n",
       "      <td>bogo_10_5_10</td>\n",
       "      <td>0</td>\n",
       "      <td>0</td>\n",
       "    </tr>\n",
       "    <tr>\n",
       "      <th>...</th>\n",
       "      <td>...</td>\n",
       "      <td>...</td>\n",
       "      <td>...</td>\n",
       "      <td>...</td>\n",
       "      <td>...</td>\n",
       "      <td>...</td>\n",
       "      <td>...</td>\n",
       "      <td>...</td>\n",
       "      <td>...</td>\n",
       "      <td>...</td>\n",
       "      <td>...</td>\n",
       "      <td>...</td>\n",
       "      <td>...</td>\n",
       "      <td>...</td>\n",
       "      <td>...</td>\n",
       "      <td>...</td>\n",
       "      <td>...</td>\n",
       "      <td>...</td>\n",
       "      <td>...</td>\n",
       "      <td>...</td>\n",
       "      <td>...</td>\n",
       "      <td>...</td>\n",
       "      <td>...</td>\n",
       "      <td>...</td>\n",
       "      <td>...</td>\n",
       "      <td>...</td>\n",
       "      <td>...</td>\n",
       "      <td>...</td>\n",
       "      <td>...</td>\n",
       "      <td>...</td>\n",
       "      <td>...</td>\n",
       "      <td>...</td>\n",
       "      <td>...</td>\n",
       "      <td>...</td>\n",
       "      <td>...</td>\n",
       "      <td>...</td>\n",
       "      <td>...</td>\n",
       "      <td>...</td>\n",
       "    </tr>\n",
       "    <tr>\n",
       "      <th>306529</th>\n",
       "      <td>b3a1272bc9904337b331bf348c3e8c17</td>\n",
       "      <td>transaction</td>\n",
       "      <td>714</td>\n",
       "      <td>NaN</td>\n",
       "      <td>1.59</td>\n",
       "      <td>M</td>\n",
       "      <td>66</td>\n",
       "      <td>2018-01-01</td>\n",
       "      <td>47000.0</td>\n",
       "      <td>mbyr_2018</td>\n",
       "      <td>0</td>\n",
       "      <td>0</td>\n",
       "      <td>0</td>\n",
       "      <td>0</td>\n",
       "      <td>0</td>\n",
       "      <td>1</td>\n",
       "      <td>0</td>\n",
       "      <td>0</td>\n",
       "      <td>0</td>\n",
       "      <td>0</td>\n",
       "      <td>0</td>\n",
       "      <td>0</td>\n",
       "      <td>0</td>\n",
       "      <td>1</td>\n",
       "      <td>0</td>\n",
       "      <td>0</td>\n",
       "      <td>0</td>\n",
       "      <td>NaN</td>\n",
       "      <td>NaN</td>\n",
       "      <td>NaN</td>\n",
       "      <td>NaN</td>\n",
       "      <td>NaN</td>\n",
       "      <td>NaN</td>\n",
       "      <td>NaN</td>\n",
       "      <td>NaN</td>\n",
       "      <td>NaN</td>\n",
       "      <td>0</td>\n",
       "      <td>0</td>\n",
       "    </tr>\n",
       "    <tr>\n",
       "      <th>306530</th>\n",
       "      <td>68213b08d99a4ae1b0dcb72aebd9aa35</td>\n",
       "      <td>transaction</td>\n",
       "      <td>714</td>\n",
       "      <td>NaN</td>\n",
       "      <td>9.53</td>\n",
       "      <td>M</td>\n",
       "      <td>52</td>\n",
       "      <td>2018-04-08</td>\n",
       "      <td>62000.0</td>\n",
       "      <td>mbyr_2018</td>\n",
       "      <td>0</td>\n",
       "      <td>0</td>\n",
       "      <td>0</td>\n",
       "      <td>0</td>\n",
       "      <td>0</td>\n",
       "      <td>1</td>\n",
       "      <td>0</td>\n",
       "      <td>0</td>\n",
       "      <td>0</td>\n",
       "      <td>0</td>\n",
       "      <td>0</td>\n",
       "      <td>0</td>\n",
       "      <td>1</td>\n",
       "      <td>0</td>\n",
       "      <td>0</td>\n",
       "      <td>0</td>\n",
       "      <td>0</td>\n",
       "      <td>NaN</td>\n",
       "      <td>NaN</td>\n",
       "      <td>NaN</td>\n",
       "      <td>NaN</td>\n",
       "      <td>NaN</td>\n",
       "      <td>NaN</td>\n",
       "      <td>NaN</td>\n",
       "      <td>NaN</td>\n",
       "      <td>NaN</td>\n",
       "      <td>0</td>\n",
       "      <td>0</td>\n",
       "    </tr>\n",
       "    <tr>\n",
       "      <th>306531</th>\n",
       "      <td>a00058cf10334a308c68e7631c529907</td>\n",
       "      <td>transaction</td>\n",
       "      <td>714</td>\n",
       "      <td>NaN</td>\n",
       "      <td>3.61</td>\n",
       "      <td>F</td>\n",
       "      <td>63</td>\n",
       "      <td>2013-09-22</td>\n",
       "      <td>52000.0</td>\n",
       "      <td>mbyr_2013</td>\n",
       "      <td>1</td>\n",
       "      <td>0</td>\n",
       "      <td>0</td>\n",
       "      <td>0</td>\n",
       "      <td>0</td>\n",
       "      <td>0</td>\n",
       "      <td>0</td>\n",
       "      <td>0</td>\n",
       "      <td>0</td>\n",
       "      <td>0</td>\n",
       "      <td>0</td>\n",
       "      <td>0</td>\n",
       "      <td>0</td>\n",
       "      <td>1</td>\n",
       "      <td>0</td>\n",
       "      <td>0</td>\n",
       "      <td>0</td>\n",
       "      <td>NaN</td>\n",
       "      <td>NaN</td>\n",
       "      <td>NaN</td>\n",
       "      <td>NaN</td>\n",
       "      <td>NaN</td>\n",
       "      <td>NaN</td>\n",
       "      <td>NaN</td>\n",
       "      <td>NaN</td>\n",
       "      <td>NaN</td>\n",
       "      <td>0</td>\n",
       "      <td>0</td>\n",
       "    </tr>\n",
       "    <tr>\n",
       "      <th>306532</th>\n",
       "      <td>76ddbd6576844afe811f1a3c0fbb5bec</td>\n",
       "      <td>transaction</td>\n",
       "      <td>714</td>\n",
       "      <td>NaN</td>\n",
       "      <td>3.53</td>\n",
       "      <td>M</td>\n",
       "      <td>57</td>\n",
       "      <td>2016-07-09</td>\n",
       "      <td>40000.0</td>\n",
       "      <td>mbyr_2016</td>\n",
       "      <td>0</td>\n",
       "      <td>0</td>\n",
       "      <td>0</td>\n",
       "      <td>1</td>\n",
       "      <td>0</td>\n",
       "      <td>0</td>\n",
       "      <td>0</td>\n",
       "      <td>0</td>\n",
       "      <td>0</td>\n",
       "      <td>0</td>\n",
       "      <td>0</td>\n",
       "      <td>0</td>\n",
       "      <td>1</td>\n",
       "      <td>0</td>\n",
       "      <td>0</td>\n",
       "      <td>0</td>\n",
       "      <td>0</td>\n",
       "      <td>NaN</td>\n",
       "      <td>NaN</td>\n",
       "      <td>NaN</td>\n",
       "      <td>NaN</td>\n",
       "      <td>NaN</td>\n",
       "      <td>NaN</td>\n",
       "      <td>NaN</td>\n",
       "      <td>NaN</td>\n",
       "      <td>NaN</td>\n",
       "      <td>0</td>\n",
       "      <td>0</td>\n",
       "    </tr>\n",
       "    <tr>\n",
       "      <th>306533</th>\n",
       "      <td>c02b10e8752c4d8e9b73f918558531f7</td>\n",
       "      <td>transaction</td>\n",
       "      <td>714</td>\n",
       "      <td>NaN</td>\n",
       "      <td>4.05</td>\n",
       "      <td>None</td>\n",
       "      <td>118</td>\n",
       "      <td>2015-12-11</td>\n",
       "      <td>NaN</td>\n",
       "      <td>mbyr_2015</td>\n",
       "      <td>0</td>\n",
       "      <td>0</td>\n",
       "      <td>1</td>\n",
       "      <td>0</td>\n",
       "      <td>0</td>\n",
       "      <td>0</td>\n",
       "      <td>0</td>\n",
       "      <td>0</td>\n",
       "      <td>1</td>\n",
       "      <td>0</td>\n",
       "      <td>0</td>\n",
       "      <td>0</td>\n",
       "      <td>0</td>\n",
       "      <td>0</td>\n",
       "      <td>0</td>\n",
       "      <td>0</td>\n",
       "      <td>0</td>\n",
       "      <td>NaN</td>\n",
       "      <td>NaN</td>\n",
       "      <td>NaN</td>\n",
       "      <td>NaN</td>\n",
       "      <td>NaN</td>\n",
       "      <td>NaN</td>\n",
       "      <td>NaN</td>\n",
       "      <td>NaN</td>\n",
       "      <td>NaN</td>\n",
       "      <td>0</td>\n",
       "      <td>0</td>\n",
       "    </tr>\n",
       "  </tbody>\n",
       "</table>\n",
       "<p>306534 rows × 38 columns</p>\n",
       "</div>"
      ],
      "text/plain": [
       "                                  person           event  time  \\\n",
       "0       78afa995795e4d85b5d9ceeca43f5fef  offer received     0   \n",
       "1       a03223e636434f42ac4c3df47e8bac43  offer received     0   \n",
       "2       e2127556f4f64592b11af22de27a7932  offer received     0   \n",
       "3       8ec6ce2a7e7949b1bf142def7d0e0586  offer received     0   \n",
       "4       68617ca6246f4fbc85e91a2a49552598  offer received     0   \n",
       "...                                  ...             ...   ...   \n",
       "306529  b3a1272bc9904337b331bf348c3e8c17     transaction   714   \n",
       "306530  68213b08d99a4ae1b0dcb72aebd9aa35     transaction   714   \n",
       "306531  a00058cf10334a308c68e7631c529907     transaction   714   \n",
       "306532  76ddbd6576844afe811f1a3c0fbb5bec     transaction   714   \n",
       "306533  c02b10e8752c4d8e9b73f918558531f7     transaction   714   \n",
       "\n",
       "                                offer_id  amount gender  age became_member_on  \\\n",
       "0       9b98b8c7a33c4b65b9aebfe6a799e6d9     NaN      F   75       2017-05-09   \n",
       "1       0b1e1539f2cc45b7b9fa7c272da2e1d7     NaN   None  118       2017-08-04   \n",
       "2       2906b810c7d4411798c6938adc9daaa5     NaN      M   68       2018-04-26   \n",
       "3       fafdcd668e3743c1bb461111dcafc2a4     NaN   None  118       2017-09-25   \n",
       "4       4d5c57ea9a6940dd891ad53e9dbe8da0     NaN   None  118       2017-10-02   \n",
       "...                                  ...     ...    ...  ...              ...   \n",
       "306529                               NaN    1.59      M   66       2018-01-01   \n",
       "306530                               NaN    9.53      M   52       2018-04-08   \n",
       "306531                               NaN    3.61      F   63       2013-09-22   \n",
       "306532                               NaN    3.53      M   57       2016-07-09   \n",
       "306533                               NaN    4.05   None  118       2015-12-11   \n",
       "\n",
       "          income member_year  mbyr_2013  mbyr_2014  mbyr_2015  mbyr_2016  \\\n",
       "0       100000.0   mbyr_2017          0          0          0          0   \n",
       "1            NaN   mbyr_2017          0          0          0          0   \n",
       "2        70000.0   mbyr_2018          0          0          0          0   \n",
       "3            NaN   mbyr_2017          0          0          0          0   \n",
       "4            NaN   mbyr_2017          0          0          0          0   \n",
       "...          ...         ...        ...        ...        ...        ...   \n",
       "306529   47000.0   mbyr_2018          0          0          0          0   \n",
       "306530   62000.0   mbyr_2018          0          0          0          0   \n",
       "306531   52000.0   mbyr_2013          1          0          0          0   \n",
       "306532   40000.0   mbyr_2016          0          0          0          1   \n",
       "306533       NaN   mbyr_2015          0          0          1          0   \n",
       "\n",
       "        mbyr_2017  mbyr_2018  [10, 20)  [100, 110)  [110, 120)  [20, 30)  \\\n",
       "0               1          0         0           0           0         0   \n",
       "1               1          0         0           0           1         0   \n",
       "2               0          1         0           0           0         0   \n",
       "3               1          0         0           0           1         0   \n",
       "4               1          0         0           0           1         0   \n",
       "...           ...        ...       ...         ...         ...       ...   \n",
       "306529          0          1         0           0           0         0   \n",
       "306530          0          1         0           0           0         0   \n",
       "306531          0          0         0           0           0         0   \n",
       "306532          0          0         0           0           0         0   \n",
       "306533          0          0         0           0           1         0   \n",
       "\n",
       "        [30, 40)  [40, 50)  [50, 60)  [60, 70)  [70, 80)  [80, 90)  [90, 100)  \\\n",
       "0              0         0         0         0         1         0          0   \n",
       "1              0         0         0         0         0         0          0   \n",
       "2              0         0         0         1         0         0          0   \n",
       "3              0         0         0         0         0         0          0   \n",
       "4              0         0         0         0         0         0          0   \n",
       "...          ...       ...       ...       ...       ...       ...        ...   \n",
       "306529         0         0         0         1         0         0          0   \n",
       "306530         0         0         1         0         0         0          0   \n",
       "306531         0         0         0         1         0         0          0   \n",
       "306532         0         0         1         0         0         0          0   \n",
       "306533         0         0         0         0         0         0          0   \n",
       "\n",
       "        reward  difficulty  duration offer_type  web  email  mobile  social  \\\n",
       "0          5.0         5.0       7.0       bogo  1.0    1.0     1.0     0.0   \n",
       "1          5.0        20.0      10.0   discount  1.0    1.0     0.0     0.0   \n",
       "2          2.0        10.0       7.0   discount  1.0    1.0     1.0     0.0   \n",
       "3          2.0        10.0      10.0   discount  1.0    1.0     1.0     1.0   \n",
       "4         10.0        10.0       5.0       bogo  1.0    1.0     1.0     1.0   \n",
       "...        ...         ...       ...        ...  ...    ...     ...     ...   \n",
       "306529     NaN         NaN       NaN        NaN  NaN    NaN     NaN     NaN   \n",
       "306530     NaN         NaN       NaN        NaN  NaN    NaN     NaN     NaN   \n",
       "306531     NaN         NaN       NaN        NaN  NaN    NaN     NaN     NaN   \n",
       "306532     NaN         NaN       NaN        NaN  NaN    NaN     NaN     NaN   \n",
       "306533     NaN         NaN       NaN        NaN  NaN    NaN     NaN     NaN   \n",
       "\n",
       "               offername  valid  invalid  \n",
       "0             bogo_5_7_5      0        0  \n",
       "1       discount_20_10_5      0        0  \n",
       "2        discount_10_7_2      0        0  \n",
       "3       discount_10_10_2      0        0  \n",
       "4           bogo_10_5_10      0        0  \n",
       "...                  ...    ...      ...  \n",
       "306529               NaN      0        0  \n",
       "306530               NaN      0        0  \n",
       "306531               NaN      0        0  \n",
       "306532               NaN      0        0  \n",
       "306533               NaN      0        0  \n",
       "\n",
       "[306534 rows x 38 columns]"
      ]
     },
     "execution_count": 56,
     "metadata": {},
     "output_type": "execute_result"
    }
   ],
   "source": [
    "\n",
    "# 合并\n",
    "dfmerge_trprpo = merge_transcript_profile_portfolio(transcript, profile, portfolio)\n",
    "# 找到并排除 invalid\n",
    "dfmerge_trprpo.loc[ : ,'valid'] = 0\n",
    "dfmerge_trprpo.loc[ list_validcomp ,'valid'] =1\n",
    "dfmerge_trprpo.loc[ : ,'invalid'] = 0\n",
    "dfmerge_trprpo.loc[ list_invalidcomp ,'invalid'] =1\n",
    "dfmerge_trprpo.loc[ list_invalidcomp ,'invalid'] =1\n",
    "\n",
    "dfmerge_trprpo\n",
    "\n"
   ]
  },
  {
   "cell_type": "code",
   "execution_count": 57,
   "metadata": {},
   "outputs": [],
   "source": [
    "\n",
    "if  os.path.exists('sav/profile_updated.pkl') :\n",
    "    profile_updated =  pklload('sav/profile_updated.pkl')\n",
    "\n",
    "else:    \n",
    "    # 利用 valid 数据做特征提取\n",
    "    df_prof_clean  = profile_prep(profile)\n",
    "    profile_updated = feature_extraction( dfmerge_trprpo, df_prof_clean )    \n",
    "    # saving\n",
    "    profile_updated.to_csv('data/profile_updated.csv')\n"
   ]
  },
  {
   "cell_type": "code",
   "execution_count": 58,
   "metadata": {},
   "outputs": [
    {
     "data": {
      "text/html": [
       "<div>\n",
       "<style scoped>\n",
       "    .dataframe tbody tr th:only-of-type {\n",
       "        vertical-align: middle;\n",
       "    }\n",
       "\n",
       "    .dataframe tbody tr th {\n",
       "        vertical-align: top;\n",
       "    }\n",
       "\n",
       "    .dataframe thead th {\n",
       "        text-align: right;\n",
       "    }\n",
       "</style>\n",
       "<table border=\"1\" class=\"dataframe\">\n",
       "  <thead>\n",
       "    <tr style=\"text-align: right;\">\n",
       "      <th></th>\n",
       "      <th>gender</th>\n",
       "      <th>age</th>\n",
       "      <th>became_member_on</th>\n",
       "      <th>income</th>\n",
       "      <th>member_year</th>\n",
       "      <th>mbyr_2013</th>\n",
       "      <th>mbyr_2014</th>\n",
       "      <th>mbyr_2015</th>\n",
       "      <th>mbyr_2016</th>\n",
       "      <th>mbyr_2017</th>\n",
       "      <th>mbyr_2018</th>\n",
       "      <th>[10, 20)</th>\n",
       "      <th>[100, 110)</th>\n",
       "      <th>[110, 120)</th>\n",
       "      <th>[20, 30)</th>\n",
       "      <th>[30, 40)</th>\n",
       "      <th>[40, 50)</th>\n",
       "      <th>[50, 60)</th>\n",
       "      <th>[60, 70)</th>\n",
       "      <th>[70, 80)</th>\n",
       "      <th>[80, 90)</th>\n",
       "      <th>[90, 100)</th>\n",
       "      <th>avg_spending</th>\n",
       "      <th>transaction_count</th>\n",
       "      <th>sum_spending</th>\n",
       "      <th>valid_bogo_count</th>\n",
       "      <th>invalid_bogo_count</th>\n",
       "      <th>valid_dscut_count</th>\n",
       "      <th>invalid_dscut_count</th>\n",
       "    </tr>\n",
       "  </thead>\n",
       "  <tbody>\n",
       "    <tr>\n",
       "      <th>68be06ca386d4c31939f3a4f0e3dd783</th>\n",
       "      <td>None</td>\n",
       "      <td>118</td>\n",
       "      <td>2017-02-12</td>\n",
       "      <td>NaN</td>\n",
       "      <td>mbyr_2017</td>\n",
       "      <td>0</td>\n",
       "      <td>0</td>\n",
       "      <td>0</td>\n",
       "      <td>0</td>\n",
       "      <td>1</td>\n",
       "      <td>0</td>\n",
       "      <td>0</td>\n",
       "      <td>0</td>\n",
       "      <td>1</td>\n",
       "      <td>0</td>\n",
       "      <td>0</td>\n",
       "      <td>0</td>\n",
       "      <td>0</td>\n",
       "      <td>0</td>\n",
       "      <td>0</td>\n",
       "      <td>0</td>\n",
       "      <td>0</td>\n",
       "      <td>2.266667</td>\n",
       "      <td>9.0</td>\n",
       "      <td>20.40</td>\n",
       "      <td>0.0</td>\n",
       "      <td>0.0</td>\n",
       "      <td>2.0</td>\n",
       "      <td>0.0</td>\n",
       "    </tr>\n",
       "    <tr>\n",
       "      <th>0610b486422d4921ae7d2bf64640c50b</th>\n",
       "      <td>F</td>\n",
       "      <td>55</td>\n",
       "      <td>2017-07-15</td>\n",
       "      <td>112000.0</td>\n",
       "      <td>mbyr_2017</td>\n",
       "      <td>0</td>\n",
       "      <td>0</td>\n",
       "      <td>0</td>\n",
       "      <td>0</td>\n",
       "      <td>1</td>\n",
       "      <td>0</td>\n",
       "      <td>0</td>\n",
       "      <td>0</td>\n",
       "      <td>0</td>\n",
       "      <td>0</td>\n",
       "      <td>0</td>\n",
       "      <td>0</td>\n",
       "      <td>1</td>\n",
       "      <td>0</td>\n",
       "      <td>0</td>\n",
       "      <td>0</td>\n",
       "      <td>0</td>\n",
       "      <td>25.670000</td>\n",
       "      <td>3.0</td>\n",
       "      <td>77.01</td>\n",
       "      <td>0.0</td>\n",
       "      <td>1.0</td>\n",
       "      <td>0.0</td>\n",
       "      <td>0.0</td>\n",
       "    </tr>\n",
       "    <tr>\n",
       "      <th>38fe809add3b4fcf9315a9694bb96ff5</th>\n",
       "      <td>None</td>\n",
       "      <td>118</td>\n",
       "      <td>2018-07-12</td>\n",
       "      <td>NaN</td>\n",
       "      <td>mbyr_2018</td>\n",
       "      <td>0</td>\n",
       "      <td>0</td>\n",
       "      <td>0</td>\n",
       "      <td>0</td>\n",
       "      <td>0</td>\n",
       "      <td>1</td>\n",
       "      <td>0</td>\n",
       "      <td>0</td>\n",
       "      <td>1</td>\n",
       "      <td>0</td>\n",
       "      <td>0</td>\n",
       "      <td>0</td>\n",
       "      <td>0</td>\n",
       "      <td>0</td>\n",
       "      <td>0</td>\n",
       "      <td>0</td>\n",
       "      <td>0</td>\n",
       "      <td>2.383333</td>\n",
       "      <td>6.0</td>\n",
       "      <td>14.30</td>\n",
       "      <td>0.0</td>\n",
       "      <td>0.0</td>\n",
       "      <td>0.0</td>\n",
       "      <td>0.0</td>\n",
       "    </tr>\n",
       "    <tr>\n",
       "      <th>78afa995795e4d85b5d9ceeca43f5fef</th>\n",
       "      <td>F</td>\n",
       "      <td>75</td>\n",
       "      <td>2017-05-09</td>\n",
       "      <td>100000.0</td>\n",
       "      <td>mbyr_2017</td>\n",
       "      <td>0</td>\n",
       "      <td>0</td>\n",
       "      <td>0</td>\n",
       "      <td>0</td>\n",
       "      <td>1</td>\n",
       "      <td>0</td>\n",
       "      <td>0</td>\n",
       "      <td>0</td>\n",
       "      <td>0</td>\n",
       "      <td>0</td>\n",
       "      <td>0</td>\n",
       "      <td>0</td>\n",
       "      <td>0</td>\n",
       "      <td>0</td>\n",
       "      <td>1</td>\n",
       "      <td>0</td>\n",
       "      <td>0</td>\n",
       "      <td>22.752857</td>\n",
       "      <td>7.0</td>\n",
       "      <td>159.27</td>\n",
       "      <td>3.0</td>\n",
       "      <td>0.0</td>\n",
       "      <td>0.0</td>\n",
       "      <td>0.0</td>\n",
       "    </tr>\n",
       "    <tr>\n",
       "      <th>a03223e636434f42ac4c3df47e8bac43</th>\n",
       "      <td>None</td>\n",
       "      <td>118</td>\n",
       "      <td>2017-08-04</td>\n",
       "      <td>NaN</td>\n",
       "      <td>mbyr_2017</td>\n",
       "      <td>0</td>\n",
       "      <td>0</td>\n",
       "      <td>0</td>\n",
       "      <td>0</td>\n",
       "      <td>1</td>\n",
       "      <td>0</td>\n",
       "      <td>0</td>\n",
       "      <td>0</td>\n",
       "      <td>1</td>\n",
       "      <td>0</td>\n",
       "      <td>0</td>\n",
       "      <td>0</td>\n",
       "      <td>0</td>\n",
       "      <td>0</td>\n",
       "      <td>0</td>\n",
       "      <td>0</td>\n",
       "      <td>0</td>\n",
       "      <td>1.550000</td>\n",
       "      <td>3.0</td>\n",
       "      <td>4.65</td>\n",
       "      <td>0.0</td>\n",
       "      <td>0.0</td>\n",
       "      <td>0.0</td>\n",
       "      <td>0.0</td>\n",
       "    </tr>\n",
       "    <tr>\n",
       "      <th>...</th>\n",
       "      <td>...</td>\n",
       "      <td>...</td>\n",
       "      <td>...</td>\n",
       "      <td>...</td>\n",
       "      <td>...</td>\n",
       "      <td>...</td>\n",
       "      <td>...</td>\n",
       "      <td>...</td>\n",
       "      <td>...</td>\n",
       "      <td>...</td>\n",
       "      <td>...</td>\n",
       "      <td>...</td>\n",
       "      <td>...</td>\n",
       "      <td>...</td>\n",
       "      <td>...</td>\n",
       "      <td>...</td>\n",
       "      <td>...</td>\n",
       "      <td>...</td>\n",
       "      <td>...</td>\n",
       "      <td>...</td>\n",
       "      <td>...</td>\n",
       "      <td>...</td>\n",
       "      <td>...</td>\n",
       "      <td>...</td>\n",
       "      <td>...</td>\n",
       "      <td>...</td>\n",
       "      <td>...</td>\n",
       "      <td>...</td>\n",
       "      <td>...</td>\n",
       "    </tr>\n",
       "    <tr>\n",
       "      <th>6d5f3a774f3d4714ab0c092238f3a1d7</th>\n",
       "      <td>F</td>\n",
       "      <td>45</td>\n",
       "      <td>2018-06-04</td>\n",
       "      <td>54000.0</td>\n",
       "      <td>mbyr_2018</td>\n",
       "      <td>0</td>\n",
       "      <td>0</td>\n",
       "      <td>0</td>\n",
       "      <td>0</td>\n",
       "      <td>0</td>\n",
       "      <td>1</td>\n",
       "      <td>0</td>\n",
       "      <td>0</td>\n",
       "      <td>0</td>\n",
       "      <td>0</td>\n",
       "      <td>0</td>\n",
       "      <td>1</td>\n",
       "      <td>0</td>\n",
       "      <td>0</td>\n",
       "      <td>0</td>\n",
       "      <td>0</td>\n",
       "      <td>0</td>\n",
       "      <td>2.861429</td>\n",
       "      <td>7.0</td>\n",
       "      <td>20.03</td>\n",
       "      <td>0.0</td>\n",
       "      <td>0.0</td>\n",
       "      <td>0.0</td>\n",
       "      <td>0.0</td>\n",
       "    </tr>\n",
       "    <tr>\n",
       "      <th>2cb4f97358b841b9a9773a7aa05a9d77</th>\n",
       "      <td>M</td>\n",
       "      <td>61</td>\n",
       "      <td>2018-07-13</td>\n",
       "      <td>72000.0</td>\n",
       "      <td>mbyr_2018</td>\n",
       "      <td>0</td>\n",
       "      <td>0</td>\n",
       "      <td>0</td>\n",
       "      <td>0</td>\n",
       "      <td>0</td>\n",
       "      <td>1</td>\n",
       "      <td>0</td>\n",
       "      <td>0</td>\n",
       "      <td>0</td>\n",
       "      <td>0</td>\n",
       "      <td>0</td>\n",
       "      <td>0</td>\n",
       "      <td>0</td>\n",
       "      <td>1</td>\n",
       "      <td>0</td>\n",
       "      <td>0</td>\n",
       "      <td>0</td>\n",
       "      <td>3.710000</td>\n",
       "      <td>7.0</td>\n",
       "      <td>25.97</td>\n",
       "      <td>0.0</td>\n",
       "      <td>1.0</td>\n",
       "      <td>0.0</td>\n",
       "      <td>0.0</td>\n",
       "    </tr>\n",
       "    <tr>\n",
       "      <th>01d26f638c274aa0b965d24cefe3183f</th>\n",
       "      <td>M</td>\n",
       "      <td>49</td>\n",
       "      <td>2017-01-26</td>\n",
       "      <td>73000.0</td>\n",
       "      <td>mbyr_2017</td>\n",
       "      <td>0</td>\n",
       "      <td>0</td>\n",
       "      <td>0</td>\n",
       "      <td>0</td>\n",
       "      <td>1</td>\n",
       "      <td>0</td>\n",
       "      <td>0</td>\n",
       "      <td>0</td>\n",
       "      <td>0</td>\n",
       "      <td>0</td>\n",
       "      <td>0</td>\n",
       "      <td>1</td>\n",
       "      <td>0</td>\n",
       "      <td>0</td>\n",
       "      <td>0</td>\n",
       "      <td>0</td>\n",
       "      <td>0</td>\n",
       "      <td>4.967500</td>\n",
       "      <td>8.0</td>\n",
       "      <td>39.74</td>\n",
       "      <td>0.0</td>\n",
       "      <td>0.0</td>\n",
       "      <td>0.0</td>\n",
       "      <td>0.0</td>\n",
       "    </tr>\n",
       "    <tr>\n",
       "      <th>9dc1421481194dcd9400aec7c9ae6366</th>\n",
       "      <td>F</td>\n",
       "      <td>83</td>\n",
       "      <td>2016-03-07</td>\n",
       "      <td>50000.0</td>\n",
       "      <td>mbyr_2016</td>\n",
       "      <td>0</td>\n",
       "      <td>0</td>\n",
       "      <td>0</td>\n",
       "      <td>1</td>\n",
       "      <td>0</td>\n",
       "      <td>0</td>\n",
       "      <td>0</td>\n",
       "      <td>0</td>\n",
       "      <td>0</td>\n",
       "      <td>0</td>\n",
       "      <td>0</td>\n",
       "      <td>0</td>\n",
       "      <td>0</td>\n",
       "      <td>0</td>\n",
       "      <td>0</td>\n",
       "      <td>1</td>\n",
       "      <td>0</td>\n",
       "      <td>13.547857</td>\n",
       "      <td>14.0</td>\n",
       "      <td>189.67</td>\n",
       "      <td>3.0</td>\n",
       "      <td>0.0</td>\n",
       "      <td>0.0</td>\n",
       "      <td>0.0</td>\n",
       "    </tr>\n",
       "    <tr>\n",
       "      <th>e4052622e5ba45a8b96b59aba68cf068</th>\n",
       "      <td>F</td>\n",
       "      <td>62</td>\n",
       "      <td>2017-07-22</td>\n",
       "      <td>82000.0</td>\n",
       "      <td>mbyr_2017</td>\n",
       "      <td>0</td>\n",
       "      <td>0</td>\n",
       "      <td>0</td>\n",
       "      <td>0</td>\n",
       "      <td>1</td>\n",
       "      <td>0</td>\n",
       "      <td>0</td>\n",
       "      <td>0</td>\n",
       "      <td>0</td>\n",
       "      <td>0</td>\n",
       "      <td>0</td>\n",
       "      <td>0</td>\n",
       "      <td>0</td>\n",
       "      <td>1</td>\n",
       "      <td>0</td>\n",
       "      <td>0</td>\n",
       "      <td>0</td>\n",
       "      <td>23.836667</td>\n",
       "      <td>6.0</td>\n",
       "      <td>143.02</td>\n",
       "      <td>1.0</td>\n",
       "      <td>0.0</td>\n",
       "      <td>1.0</td>\n",
       "      <td>0.0</td>\n",
       "    </tr>\n",
       "  </tbody>\n",
       "</table>\n",
       "<p>17000 rows × 29 columns</p>\n",
       "</div>"
      ],
      "text/plain": [
       "                                 gender  age became_member_on    income  \\\n",
       "68be06ca386d4c31939f3a4f0e3dd783   None  118       2017-02-12       NaN   \n",
       "0610b486422d4921ae7d2bf64640c50b      F   55       2017-07-15  112000.0   \n",
       "38fe809add3b4fcf9315a9694bb96ff5   None  118       2018-07-12       NaN   \n",
       "78afa995795e4d85b5d9ceeca43f5fef      F   75       2017-05-09  100000.0   \n",
       "a03223e636434f42ac4c3df47e8bac43   None  118       2017-08-04       NaN   \n",
       "...                                 ...  ...              ...       ...   \n",
       "6d5f3a774f3d4714ab0c092238f3a1d7      F   45       2018-06-04   54000.0   \n",
       "2cb4f97358b841b9a9773a7aa05a9d77      M   61       2018-07-13   72000.0   \n",
       "01d26f638c274aa0b965d24cefe3183f      M   49       2017-01-26   73000.0   \n",
       "9dc1421481194dcd9400aec7c9ae6366      F   83       2016-03-07   50000.0   \n",
       "e4052622e5ba45a8b96b59aba68cf068      F   62       2017-07-22   82000.0   \n",
       "\n",
       "                                 member_year  mbyr_2013  mbyr_2014  mbyr_2015  \\\n",
       "68be06ca386d4c31939f3a4f0e3dd783   mbyr_2017          0          0          0   \n",
       "0610b486422d4921ae7d2bf64640c50b   mbyr_2017          0          0          0   \n",
       "38fe809add3b4fcf9315a9694bb96ff5   mbyr_2018          0          0          0   \n",
       "78afa995795e4d85b5d9ceeca43f5fef   mbyr_2017          0          0          0   \n",
       "a03223e636434f42ac4c3df47e8bac43   mbyr_2017          0          0          0   \n",
       "...                                      ...        ...        ...        ...   \n",
       "6d5f3a774f3d4714ab0c092238f3a1d7   mbyr_2018          0          0          0   \n",
       "2cb4f97358b841b9a9773a7aa05a9d77   mbyr_2018          0          0          0   \n",
       "01d26f638c274aa0b965d24cefe3183f   mbyr_2017          0          0          0   \n",
       "9dc1421481194dcd9400aec7c9ae6366   mbyr_2016          0          0          0   \n",
       "e4052622e5ba45a8b96b59aba68cf068   mbyr_2017          0          0          0   \n",
       "\n",
       "                                  mbyr_2016  mbyr_2017  mbyr_2018  [10, 20)  \\\n",
       "68be06ca386d4c31939f3a4f0e3dd783          0          1          0         0   \n",
       "0610b486422d4921ae7d2bf64640c50b          0          1          0         0   \n",
       "38fe809add3b4fcf9315a9694bb96ff5          0          0          1         0   \n",
       "78afa995795e4d85b5d9ceeca43f5fef          0          1          0         0   \n",
       "a03223e636434f42ac4c3df47e8bac43          0          1          0         0   \n",
       "...                                     ...        ...        ...       ...   \n",
       "6d5f3a774f3d4714ab0c092238f3a1d7          0          0          1         0   \n",
       "2cb4f97358b841b9a9773a7aa05a9d77          0          0          1         0   \n",
       "01d26f638c274aa0b965d24cefe3183f          0          1          0         0   \n",
       "9dc1421481194dcd9400aec7c9ae6366          1          0          0         0   \n",
       "e4052622e5ba45a8b96b59aba68cf068          0          1          0         0   \n",
       "\n",
       "                                  [100, 110)  [110, 120)  [20, 30)  [30, 40)  \\\n",
       "68be06ca386d4c31939f3a4f0e3dd783           0           1         0         0   \n",
       "0610b486422d4921ae7d2bf64640c50b           0           0         0         0   \n",
       "38fe809add3b4fcf9315a9694bb96ff5           0           1         0         0   \n",
       "78afa995795e4d85b5d9ceeca43f5fef           0           0         0         0   \n",
       "a03223e636434f42ac4c3df47e8bac43           0           1         0         0   \n",
       "...                                      ...         ...       ...       ...   \n",
       "6d5f3a774f3d4714ab0c092238f3a1d7           0           0         0         0   \n",
       "2cb4f97358b841b9a9773a7aa05a9d77           0           0         0         0   \n",
       "01d26f638c274aa0b965d24cefe3183f           0           0         0         0   \n",
       "9dc1421481194dcd9400aec7c9ae6366           0           0         0         0   \n",
       "e4052622e5ba45a8b96b59aba68cf068           0           0         0         0   \n",
       "\n",
       "                                  [40, 50)  [50, 60)  [60, 70)  [70, 80)  \\\n",
       "68be06ca386d4c31939f3a4f0e3dd783         0         0         0         0   \n",
       "0610b486422d4921ae7d2bf64640c50b         0         1         0         0   \n",
       "38fe809add3b4fcf9315a9694bb96ff5         0         0         0         0   \n",
       "78afa995795e4d85b5d9ceeca43f5fef         0         0         0         1   \n",
       "a03223e636434f42ac4c3df47e8bac43         0         0         0         0   \n",
       "...                                    ...       ...       ...       ...   \n",
       "6d5f3a774f3d4714ab0c092238f3a1d7         1         0         0         0   \n",
       "2cb4f97358b841b9a9773a7aa05a9d77         0         0         1         0   \n",
       "01d26f638c274aa0b965d24cefe3183f         1         0         0         0   \n",
       "9dc1421481194dcd9400aec7c9ae6366         0         0         0         0   \n",
       "e4052622e5ba45a8b96b59aba68cf068         0         0         1         0   \n",
       "\n",
       "                                  [80, 90)  [90, 100)  avg_spending  \\\n",
       "68be06ca386d4c31939f3a4f0e3dd783         0          0      2.266667   \n",
       "0610b486422d4921ae7d2bf64640c50b         0          0     25.670000   \n",
       "38fe809add3b4fcf9315a9694bb96ff5         0          0      2.383333   \n",
       "78afa995795e4d85b5d9ceeca43f5fef         0          0     22.752857   \n",
       "a03223e636434f42ac4c3df47e8bac43         0          0      1.550000   \n",
       "...                                    ...        ...           ...   \n",
       "6d5f3a774f3d4714ab0c092238f3a1d7         0          0      2.861429   \n",
       "2cb4f97358b841b9a9773a7aa05a9d77         0          0      3.710000   \n",
       "01d26f638c274aa0b965d24cefe3183f         0          0      4.967500   \n",
       "9dc1421481194dcd9400aec7c9ae6366         1          0     13.547857   \n",
       "e4052622e5ba45a8b96b59aba68cf068         0          0     23.836667   \n",
       "\n",
       "                                  transaction_count  sum_spending  \\\n",
       "68be06ca386d4c31939f3a4f0e3dd783                9.0         20.40   \n",
       "0610b486422d4921ae7d2bf64640c50b                3.0         77.01   \n",
       "38fe809add3b4fcf9315a9694bb96ff5                6.0         14.30   \n",
       "78afa995795e4d85b5d9ceeca43f5fef                7.0        159.27   \n",
       "a03223e636434f42ac4c3df47e8bac43                3.0          4.65   \n",
       "...                                             ...           ...   \n",
       "6d5f3a774f3d4714ab0c092238f3a1d7                7.0         20.03   \n",
       "2cb4f97358b841b9a9773a7aa05a9d77                7.0         25.97   \n",
       "01d26f638c274aa0b965d24cefe3183f                8.0         39.74   \n",
       "9dc1421481194dcd9400aec7c9ae6366               14.0        189.67   \n",
       "e4052622e5ba45a8b96b59aba68cf068                6.0        143.02   \n",
       "\n",
       "                                  valid_bogo_count  invalid_bogo_count  \\\n",
       "68be06ca386d4c31939f3a4f0e3dd783               0.0                 0.0   \n",
       "0610b486422d4921ae7d2bf64640c50b               0.0                 1.0   \n",
       "38fe809add3b4fcf9315a9694bb96ff5               0.0                 0.0   \n",
       "78afa995795e4d85b5d9ceeca43f5fef               3.0                 0.0   \n",
       "a03223e636434f42ac4c3df47e8bac43               0.0                 0.0   \n",
       "...                                            ...                 ...   \n",
       "6d5f3a774f3d4714ab0c092238f3a1d7               0.0                 0.0   \n",
       "2cb4f97358b841b9a9773a7aa05a9d77               0.0                 1.0   \n",
       "01d26f638c274aa0b965d24cefe3183f               0.0                 0.0   \n",
       "9dc1421481194dcd9400aec7c9ae6366               3.0                 0.0   \n",
       "e4052622e5ba45a8b96b59aba68cf068               1.0                 0.0   \n",
       "\n",
       "                                  valid_dscut_count  invalid_dscut_count  \n",
       "68be06ca386d4c31939f3a4f0e3dd783                2.0                  0.0  \n",
       "0610b486422d4921ae7d2bf64640c50b                0.0                  0.0  \n",
       "38fe809add3b4fcf9315a9694bb96ff5                0.0                  0.0  \n",
       "78afa995795e4d85b5d9ceeca43f5fef                0.0                  0.0  \n",
       "a03223e636434f42ac4c3df47e8bac43                0.0                  0.0  \n",
       "...                                             ...                  ...  \n",
       "6d5f3a774f3d4714ab0c092238f3a1d7                0.0                  0.0  \n",
       "2cb4f97358b841b9a9773a7aa05a9d77                0.0                  0.0  \n",
       "01d26f638c274aa0b965d24cefe3183f                0.0                  0.0  \n",
       "9dc1421481194dcd9400aec7c9ae6366                0.0                  0.0  \n",
       "e4052622e5ba45a8b96b59aba68cf068                1.0                  0.0  \n",
       "\n",
       "[17000 rows x 29 columns]"
      ]
     },
     "execution_count": 58,
     "metadata": {},
     "output_type": "execute_result"
    }
   ],
   "source": [
    "profile_updated"
   ]
  },
  {
   "cell_type": "markdown",
   "metadata": {},
   "source": [
    "## 缺失"
   ]
  },
  {
   "cell_type": "code",
   "execution_count": 59,
   "metadata": {},
   "outputs": [
    {
     "data": {
      "text/plain": [
       "<Figure size 720x360 with 0 Axes>"
      ]
     },
     "execution_count": 59,
     "metadata": {},
     "output_type": "execute_result"
    },
    {
     "data": {
      "text/plain": [
       "<AxesSubplot:>"
      ]
     },
     "execution_count": 59,
     "metadata": {},
     "output_type": "execute_result"
    },
    {
     "data": {
      "image/png": "[encoded data removed]",
      "text/plain": [
       "<Figure size 720x360 with 1 Axes>"
      ]
     },
     "metadata": {
      "needs_background": "light"
     },
     "output_type": "display_data"
    }
   ],
   "source": [
    "#%% 看看每列缺失多少   Assess missing data in columns\n",
    "\n",
    "col_null = profile_updated.isnull().sum()\n",
    "\n",
    "col_null_frac = col_null / profile_updated.shape[0]\n",
    "plt.figure(figsize= (10,5))\n",
    "col_null_frac.plot(kind='bar')"
   ]
  },
  {
   "cell_type": "code",
   "execution_count": 60,
   "metadata": {},
   "outputs": [
    {
     "data": {
      "text/plain": [
       "[]"
      ]
     },
     "execution_count": 60,
     "metadata": {},
     "output_type": "execute_result"
    }
   ],
   "source": [
    "#%%  找到并删除 超过0.3比例的空缺列\n",
    "\n",
    "# cols to drop that have more than 30% missing values\n",
    "cols_to_drop = col_null_frac[col_null_frac > 0.3].index.tolist()\n",
    "cols_to_drop\n",
    "\n",
    "# drop columns in cols_to_drop\n",
    "profile_up_nomiss = profile_updated.drop(cols_to_drop, axis=1)"
   ]
  },
  {
   "cell_type": "code",
   "execution_count": 61,
   "metadata": {},
   "outputs": [
    {
     "data": {
      "text/plain": [
       "<AxesSubplot:>"
      ]
     },
     "execution_count": 61,
     "metadata": {},
     "output_type": "execute_result"
    },
    {
     "data": {
      "image/png": "[encoded data removed]",
      "text/plain": [
       "<Figure size 432x288 with 1 Axes>"
      ]
     },
     "metadata": {
      "needs_background": "light"
     },
     "output_type": "display_data"
    }
   ],
   "source": [
    "#%% 看看各行 缺失 多少\n",
    "\n",
    "row_null = profile_up_nomiss.isnull().sum(axis=1)\n",
    "row_null.hist()"
   ]
  },
  {
   "cell_type": "code",
   "execution_count": 62,
   "metadata": {},
   "outputs": [
    {
     "data": {
      "image/png": "[encoded data removed]",
      "text/plain": [
       "<Figure size 576x216 with 2 Axes>"
      ]
     },
     "metadata": {
      "needs_background": "light"
     },
     "output_type": "display_data"
    },
    {
     "data": {
      "image/png": "[encoded data removed]",
      "text/plain": [
       "<Figure size 576x216 with 2 Axes>"
      ]
     },
     "metadata": {
      "needs_background": "light"
     },
     "output_type": "display_data"
    },
    {
     "data": {
      "image/png": "[encoded data removed]",
      "text/plain": [
       "<Figure size 576x216 with 2 Axes>"
      ]
     },
     "metadata": {
      "needs_background": "light"
     },
     "output_type": "display_data"
    },
    {
     "data": {
      "image/png": "[encoded data removed]",
      "text/plain": [
       "<Figure size 576x216 with 2 Axes>"
      ]
     },
     "metadata": {
      "needs_background": "light"
     },
     "output_type": "display_data"
    }
   ],
   "source": [
    "# 观察有缺失行和没缺失行 关心的预测列 hist分布\n",
    "  \n",
    "def dist_compare_cont(attribute, data):\n",
    "    \"\"\"\n",
    "    input : \n",
    "        attribute: feature / attribute\n",
    "        data : dataframe\n",
    "    return : None, only plot the histogram\n",
    "    \"\"\"\n",
    "    # data = profile_updated_  ;  attribute = 'avg_spending'\n",
    "    row_null = data.isnull().sum(axis=1)\n",
    "    f, (ax1,ax2) = plt.subplots(1,2, sharex=True, figsize=(8,3))\n",
    "    ax1 = data[row_null==0][attribute].hist(ax=ax1, bins=20)\n",
    "    ax2 = data[row_null > 0][attribute].hist( ax=ax2, bins=20)\n",
    "    ax1.set_title('No missing value')\n",
    "    ax2.set_title('With missing value')\n",
    "    f.suptitle('Feature: ' + attribute)\n",
    "    f.tight_layout()\n",
    "    f.subplots_adjust(top=0.8)\n",
    "\n",
    "\n",
    "cols_to_compare = ['became_member_on', 'avg_spending', 'transaction_count', 'sum_spending']\n",
    "\n",
    "for col in cols_to_compare:\n",
    "    dist_compare_cont(col, profile_up_nomiss)"
   ]
  },
  {
   "cell_type": "markdown",
   "metadata": {},
   "source": [
    "- 发现 No missing 和 With missing 两者相比 没有明显差别 可以考虑删除\n",
    "    \n",
    "    \n",
    "- It is found that data with missing and without missing have no obvious difference, the missing rows can be deleted"
   ]
  },
  {
   "cell_type": "code",
   "execution_count": 63,
   "metadata": {},
   "outputs": [
    {
     "data": {
      "text/plain": [
       "0"
      ]
     },
     "execution_count": 63,
     "metadata": {},
     "output_type": "execute_result"
    }
   ],
   "source": [
    "#%% 删除这部分缺失的行 \n",
    "profile_up_nomiss = profile_up_nomiss.drop( profile_up_nomiss[row_null > 0].index  , axis=0)\n",
    "profile_up_nomiss.isnull().sum().sum()"
   ]
  },
  {
   "cell_type": "markdown",
   "metadata": {},
   "source": [
    "## one hot: gender, member_year"
   ]
  },
  {
   "cell_type": "code",
   "execution_count": 64,
   "metadata": {},
   "outputs": [
    {
     "data": {
      "text/plain": [
       "array([[<AxesSubplot:title={'center':'income'}>,\n",
       "        <AxesSubplot:title={'center':'mbyr_2013'}>,\n",
       "        <AxesSubplot:title={'center':'mbyr_2014'}>,\n",
       "        <AxesSubplot:title={'center':'mbyr_2015'}>,\n",
       "        <AxesSubplot:title={'center':'mbyr_2016'}>],\n",
       "       [<AxesSubplot:title={'center':'mbyr_2017'}>,\n",
       "        <AxesSubplot:title={'center':'mbyr_2018'}>,\n",
       "        <AxesSubplot:title={'center':'[10, 20)'}>,\n",
       "        <AxesSubplot:title={'center':'[100, 110)'}>,\n",
       "        <AxesSubplot:title={'center':'[110, 120)'}>],\n",
       "       [<AxesSubplot:title={'center':'[20, 30)'}>,\n",
       "        <AxesSubplot:title={'center':'[30, 40)'}>,\n",
       "        <AxesSubplot:title={'center':'[40, 50)'}>,\n",
       "        <AxesSubplot:title={'center':'[50, 60)'}>,\n",
       "        <AxesSubplot:title={'center':'[60, 70)'}>],\n",
       "       [<AxesSubplot:title={'center':'[70, 80)'}>,\n",
       "        <AxesSubplot:title={'center':'[80, 90)'}>,\n",
       "        <AxesSubplot:title={'center':'[90, 100)'}>,\n",
       "        <AxesSubplot:title={'center':'avg_spending'}>,\n",
       "        <AxesSubplot:title={'center':'transaction_count'}>],\n",
       "       [<AxesSubplot:title={'center':'sum_spending'}>,\n",
       "        <AxesSubplot:title={'center':'valid_bogo_count'}>,\n",
       "        <AxesSubplot:title={'center':'invalid_bogo_count'}>,\n",
       "        <AxesSubplot:title={'center':'valid_dscut_count'}>,\n",
       "        <AxesSubplot:title={'center':'invalid_dscut_count'}>],\n",
       "       [<AxesSubplot:title={'center':'F'}>,\n",
       "        <AxesSubplot:title={'center':'M'}>,\n",
       "        <AxesSubplot:title={'center':'O'}>, <AxesSubplot:>,\n",
       "        <AxesSubplot:>]], dtype=object)"
      ]
     },
     "execution_count": 64,
     "metadata": {},
     "output_type": "execute_result"
    },
    {
     "data": {
      "image/png": "[encoded data removed]",
      "text/plain": [
       "<Figure size 1440x1440 with 30 Axes>"
      ]
     },
     "metadata": {
      "needs_background": "light"
     },
     "output_type": "display_data"
    }
   ],
   "source": [
    "#%% 再次 one hot 编码，主要是 gender \n",
    "profile_new = pd.concat( [ profile_up_nomiss , pd.get_dummies(profile_up_nomiss['gender'])] ,axis= 1 ) \n",
    "profile_new= profile_new.drop(columns = ['became_member_on','member_year','age','gender'] , axis=1)\n",
    "\n",
    "profile_new.hist( figsize=(20,20))\n"
   ]
  },
  {
   "cell_type": "code",
   "execution_count": 65,
   "metadata": {
    "lines_to_next_cell": 2
   },
   "outputs": [
    {
     "data": {
      "text/plain": [
       "0    14492\n",
       "Name: [110, 120), dtype: int64"
      ]
     },
     "execution_count": 65,
     "metadata": {},
     "output_type": "execute_result"
    }
   ],
   "source": [
    "profile_new['[110, 120)'].value_counts()\n",
    "profile_new= profile_new.drop(columns = ['[110, 120)'] , axis=1)"
   ]
  },
  {
   "cell_type": "markdown",
   "metadata": {},
   "source": [
    "## save结果  profile_new"
   ]
  },
  {
   "cell_type": "code",
   "execution_count": 66,
   "metadata": {
    "lines_to_next_cell": 2
   },
   "outputs": [],
   "source": [
    "#%% 保存数据\n",
    "pklsave(profile_new, 'sav/profile_new.sav')"
   ]
  },
  {
   "cell_type": "markdown",
   "metadata": {},
   "source": [
    "##  Data analysis "
   ]
  },
  {
   "cell_type": "code",
   "execution_count": 67,
   "metadata": {},
   "outputs": [
    {
     "data": {
      "text/plain": [
       "<AxesSubplot:>"
      ]
     },
     "execution_count": 67,
     "metadata": {},
     "output_type": "execute_result"
    },
    {
     "data": {
      "text/plain": [
       "Text(0.5, 1.0, 'Profile Main - Features Correlation')"
      ]
     },
     "execution_count": 67,
     "metadata": {},
     "output_type": "execute_result"
    },
    {
     "data": {
      "image/png": "[encoded data removed]",
      "text/plain": [
       "<Figure size 720x576 with 2 Axes>"
      ]
     },
     "metadata": {
      "needs_background": "light"
     },
     "output_type": "display_data"
    }
   ],
   "source": [
    "#%% ！！！数据分析 ，热图 EDA 指定列，分别针对<100 >100\n",
    "\n",
    "cols = [ 'income', 'avg_spending', 'transaction_count', 'sum_spending',\n",
    "       'valid_bogo_count',   'invalid_bogo_count',   'valid_dscut_count', 'invalid_dscut_count' ,\n",
    "        'mbyr_2013', 'mbyr_2014', 'mbyr_2015', 'mbyr_2016','mbyr_2017', 'mbyr_2018']\n",
    "f,ax = plt.subplots(figsize=(10,8))\n",
    "sns.heatmap(profile_new[cols].corr(), ax=ax, annot=True)\n",
    "ax.set_title(\"Profile Main - Features Correlation\")\n"
   ]
  },
  {
   "cell_type": "markdown",
   "metadata": {},
   "source": [
    "- 除了 income 和 avg_spending 以外，这些特征之间没有很强的关联性\n",
    "\n",
    "   "
   ]
  },
  {
   "cell_type": "markdown",
   "metadata": {},
   "source": [
    "# 构造数据集 预测用户收到offer后是否会完成　"
   ]
  },
  {
   "cell_type": "markdown",
   "metadata": {},
   "source": [
    "## 整理所有offer received的信息"
   ]
  },
  {
   "cell_type": "code",
   "execution_count": 68,
   "metadata": {
    "lines_to_next_cell": 2
   },
   "outputs": [],
   "source": [
    "list_validcomp =  pklload('sav/list_validcomp.pkl')\n",
    "list_invalidcomp =  pklload('sav/list_invalidcomp.pkl')\n",
    "list_validrec =  pklload('sav/list_validrec.pkl')\n",
    "profile_updated =  pklload('sav/profile_updated.pkl')\n",
    "profile_new  = pklload('sav/profile_new.sav')"
   ]
  },
  {
   "cell_type": "code",
   "execution_count": 75,
   "metadata": {
    "lines_to_next_cell": 2
   },
   "outputs": [
    {
     "data": {
      "text/plain": [
       "array([], dtype=int64)"
      ]
     },
     "execution_count": 75,
     "metadata": {},
     "output_type": "execute_result"
    }
   ],
   "source": [
    "dfmerge_trprpo = merge_transcript_profile_portfolio(transcript, profile, portfolio)\n",
    "df_rec_all = dfmerge_trprpo.loc[ dfmerge_trprpo.event == 'offer received',['person','offer_id']]\n",
    "# 删除 offer_id 和 person 重复的部分\n",
    "df_rec_new = df_rec_all.drop(  df_rec_all[df_rec_all.duplicated()].index  )\n",
    "# 确认 重复的部分里 没有 list_validrec\n",
    "np.intersect1d( df_rec_all[df_rec_all.duplicated()].index , list_validrec )"
   ]
  },
  {
   "cell_type": "code",
   "execution_count": 76,
   "metadata": {
    "lines_to_next_cell": 2
   },
   "outputs": [],
   "source": [
    "# 添加 validrec 特征\n",
    "df_rec_new.loc[ :, 'validrec' ] = 0\n",
    "df_rec_new.loc[ list_validrec, 'validrec' ] =1"
   ]
  },
  {
   "cell_type": "code",
   "execution_count": 77,
   "metadata": {
    "lines_to_end_of_cell_marker": 2,
    "lines_to_next_cell": 2
   },
   "outputs": [],
   "source": [
    "# 根据 profile_new 添加 user的特征\n",
    "df_rec_new = pd.merge(df_rec_new, profile_new, left_on=['person'], right_index=True, how ='inner')\n",
    "# 根据 portfolio_clean 添加 offer 的特征\n",
    "portfolio_clean = portfolio_prep( portfolio ) \n",
    "df_rec_new = pd.merge(df_rec_new, portfolio_clean, left_on=['offer_id'], right_on=['id'], how ='inner')"
   ]
  },
  {
   "cell_type": "markdown",
   "metadata": {},
   "source": [
    "## 删除不必要特征"
   ]
  },
  {
   "cell_type": "code",
   "execution_count": 78,
   "metadata": {},
   "outputs": [
    {
     "data": {
      "text/plain": [
       "discount_20_10_5    5451\n",
       "bogo_10_7_10        5446\n",
       "bogo_5_7_5          5421\n",
       "discount_10_10_2    5412\n",
       "discount_7_7_3      5400\n",
       "bogo_10_5_10        5399\n",
       "discount_10_7_2     5337\n",
       "bogo_5_5_5          5316\n",
       "Name: offername, dtype: int64"
      ]
     },
     "execution_count": 78,
     "metadata": {},
     "output_type": "execute_result"
    },
    {
     "data": {
      "text/html": [
       "<div>\n",
       "<style scoped>\n",
       "    .dataframe tbody tr th:only-of-type {\n",
       "        vertical-align: middle;\n",
       "    }\n",
       "\n",
       "    .dataframe tbody tr th {\n",
       "        vertical-align: top;\n",
       "    }\n",
       "\n",
       "    .dataframe thead th {\n",
       "        text-align: right;\n",
       "    }\n",
       "</style>\n",
       "<table border=\"1\" class=\"dataframe\">\n",
       "  <thead>\n",
       "    <tr style=\"text-align: right;\">\n",
       "      <th></th>\n",
       "      <th>person</th>\n",
       "      <th>validrec</th>\n",
       "      <th>income</th>\n",
       "      <th>mbyr_2013</th>\n",
       "      <th>mbyr_2014</th>\n",
       "      <th>mbyr_2015</th>\n",
       "      <th>mbyr_2016</th>\n",
       "      <th>mbyr_2017</th>\n",
       "      <th>mbyr_2018</th>\n",
       "      <th>[10, 20)</th>\n",
       "      <th>[100, 110)</th>\n",
       "      <th>[20, 30)</th>\n",
       "      <th>[30, 40)</th>\n",
       "      <th>[40, 50)</th>\n",
       "      <th>[50, 60)</th>\n",
       "      <th>[60, 70)</th>\n",
       "      <th>[70, 80)</th>\n",
       "      <th>[80, 90)</th>\n",
       "      <th>[90, 100)</th>\n",
       "      <th>avg_spending</th>\n",
       "      <th>transaction_count</th>\n",
       "      <th>sum_spending</th>\n",
       "      <th>valid_bogo_count</th>\n",
       "      <th>invalid_bogo_count</th>\n",
       "      <th>valid_dscut_count</th>\n",
       "      <th>invalid_dscut_count</th>\n",
       "      <th>F</th>\n",
       "      <th>M</th>\n",
       "      <th>O</th>\n",
       "      <th>reward</th>\n",
       "      <th>difficulty</th>\n",
       "      <th>duration</th>\n",
       "      <th>offer_type</th>\n",
       "      <th>web</th>\n",
       "      <th>email</th>\n",
       "      <th>mobile</th>\n",
       "      <th>social</th>\n",
       "      <th>bogo_10_5_10</th>\n",
       "      <th>bogo_10_7_10</th>\n",
       "      <th>bogo_5_5_5</th>\n",
       "      <th>bogo_5_7_5</th>\n",
       "      <th>discount_10_10_2</th>\n",
       "      <th>discount_10_7_2</th>\n",
       "      <th>discount_20_10_5</th>\n",
       "      <th>discount_7_7_3</th>\n",
       "    </tr>\n",
       "  </thead>\n",
       "  <tbody>\n",
       "    <tr>\n",
       "      <th>0</th>\n",
       "      <td>78afa995795e4d85b5d9ceeca43f5fef</td>\n",
       "      <td>1</td>\n",
       "      <td>100000.0</td>\n",
       "      <td>0</td>\n",
       "      <td>0</td>\n",
       "      <td>0</td>\n",
       "      <td>0</td>\n",
       "      <td>1</td>\n",
       "      <td>0</td>\n",
       "      <td>0</td>\n",
       "      <td>0</td>\n",
       "      <td>0</td>\n",
       "      <td>0</td>\n",
       "      <td>0</td>\n",
       "      <td>0</td>\n",
       "      <td>0</td>\n",
       "      <td>1</td>\n",
       "      <td>0</td>\n",
       "      <td>0</td>\n",
       "      <td>22.752857</td>\n",
       "      <td>7.0</td>\n",
       "      <td>159.27</td>\n",
       "      <td>3.0</td>\n",
       "      <td>0.0</td>\n",
       "      <td>0.0</td>\n",
       "      <td>0.0</td>\n",
       "      <td>1</td>\n",
       "      <td>0</td>\n",
       "      <td>0</td>\n",
       "      <td>5</td>\n",
       "      <td>5</td>\n",
       "      <td>7</td>\n",
       "      <td>bogo</td>\n",
       "      <td>1</td>\n",
       "      <td>1</td>\n",
       "      <td>1</td>\n",
       "      <td>0</td>\n",
       "      <td>0</td>\n",
       "      <td>0</td>\n",
       "      <td>0</td>\n",
       "      <td>1</td>\n",
       "      <td>0</td>\n",
       "      <td>0</td>\n",
       "      <td>0</td>\n",
       "      <td>0</td>\n",
       "    </tr>\n",
       "    <tr>\n",
       "      <th>1</th>\n",
       "      <td>e2127556f4f64592b11af22de27a7932</td>\n",
       "      <td>1</td>\n",
       "      <td>70000.0</td>\n",
       "      <td>0</td>\n",
       "      <td>0</td>\n",
       "      <td>0</td>\n",
       "      <td>0</td>\n",
       "      <td>0</td>\n",
       "      <td>1</td>\n",
       "      <td>0</td>\n",
       "      <td>0</td>\n",
       "      <td>0</td>\n",
       "      <td>0</td>\n",
       "      <td>0</td>\n",
       "      <td>0</td>\n",
       "      <td>1</td>\n",
       "      <td>0</td>\n",
       "      <td>0</td>\n",
       "      <td>0</td>\n",
       "      <td>19.243333</td>\n",
       "      <td>3.0</td>\n",
       "      <td>57.73</td>\n",
       "      <td>1.0</td>\n",
       "      <td>0.0</td>\n",
       "      <td>1.0</td>\n",
       "      <td>0.0</td>\n",
       "      <td>0</td>\n",
       "      <td>1</td>\n",
       "      <td>0</td>\n",
       "      <td>5</td>\n",
       "      <td>5</td>\n",
       "      <td>7</td>\n",
       "      <td>bogo</td>\n",
       "      <td>1</td>\n",
       "      <td>1</td>\n",
       "      <td>1</td>\n",
       "      <td>0</td>\n",
       "      <td>0</td>\n",
       "      <td>0</td>\n",
       "      <td>0</td>\n",
       "      <td>1</td>\n",
       "      <td>0</td>\n",
       "      <td>0</td>\n",
       "      <td>0</td>\n",
       "      <td>0</td>\n",
       "    </tr>\n",
       "    <tr>\n",
       "      <th>2</th>\n",
       "      <td>389bc3fa690240e798340f5a15918d5c</td>\n",
       "      <td>0</td>\n",
       "      <td>53000.0</td>\n",
       "      <td>0</td>\n",
       "      <td>0</td>\n",
       "      <td>0</td>\n",
       "      <td>0</td>\n",
       "      <td>0</td>\n",
       "      <td>1</td>\n",
       "      <td>0</td>\n",
       "      <td>0</td>\n",
       "      <td>0</td>\n",
       "      <td>0</td>\n",
       "      <td>0</td>\n",
       "      <td>0</td>\n",
       "      <td>1</td>\n",
       "      <td>0</td>\n",
       "      <td>0</td>\n",
       "      <td>0</td>\n",
       "      <td>12.143333</td>\n",
       "      <td>3.0</td>\n",
       "      <td>36.43</td>\n",
       "      <td>2.0</td>\n",
       "      <td>1.0</td>\n",
       "      <td>2.0</td>\n",
       "      <td>0.0</td>\n",
       "      <td>0</td>\n",
       "      <td>1</td>\n",
       "      <td>0</td>\n",
       "      <td>5</td>\n",
       "      <td>5</td>\n",
       "      <td>7</td>\n",
       "      <td>bogo</td>\n",
       "      <td>1</td>\n",
       "      <td>1</td>\n",
       "      <td>1</td>\n",
       "      <td>0</td>\n",
       "      <td>0</td>\n",
       "      <td>0</td>\n",
       "      <td>0</td>\n",
       "      <td>1</td>\n",
       "      <td>0</td>\n",
       "      <td>0</td>\n",
       "      <td>0</td>\n",
       "      <td>0</td>\n",
       "    </tr>\n",
       "    <tr>\n",
       "      <th>3</th>\n",
       "      <td>d058f73bf8674a26a95227db098147b1</td>\n",
       "      <td>0</td>\n",
       "      <td>88000.0</td>\n",
       "      <td>0</td>\n",
       "      <td>0</td>\n",
       "      <td>0</td>\n",
       "      <td>0</td>\n",
       "      <td>0</td>\n",
       "      <td>1</td>\n",
       "      <td>0</td>\n",
       "      <td>0</td>\n",
       "      <td>0</td>\n",
       "      <td>0</td>\n",
       "      <td>0</td>\n",
       "      <td>1</td>\n",
       "      <td>0</td>\n",
       "      <td>0</td>\n",
       "      <td>0</td>\n",
       "      <td>0</td>\n",
       "      <td>25.206667</td>\n",
       "      <td>3.0</td>\n",
       "      <td>75.62</td>\n",
       "      <td>1.0</td>\n",
       "      <td>0.0</td>\n",
       "      <td>3.0</td>\n",
       "      <td>0.0</td>\n",
       "      <td>1</td>\n",
       "      <td>0</td>\n",
       "      <td>0</td>\n",
       "      <td>5</td>\n",
       "      <td>5</td>\n",
       "      <td>7</td>\n",
       "      <td>bogo</td>\n",
       "      <td>1</td>\n",
       "      <td>1</td>\n",
       "      <td>1</td>\n",
       "      <td>0</td>\n",
       "      <td>0</td>\n",
       "      <td>0</td>\n",
       "      <td>0</td>\n",
       "      <td>1</td>\n",
       "      <td>0</td>\n",
       "      <td>0</td>\n",
       "      <td>0</td>\n",
       "      <td>0</td>\n",
       "    </tr>\n",
       "    <tr>\n",
       "      <th>4</th>\n",
       "      <td>ebe7ef46ea6f4963a7dd49f501b26779</td>\n",
       "      <td>0</td>\n",
       "      <td>41000.0</td>\n",
       "      <td>0</td>\n",
       "      <td>0</td>\n",
       "      <td>1</td>\n",
       "      <td>0</td>\n",
       "      <td>0</td>\n",
       "      <td>0</td>\n",
       "      <td>0</td>\n",
       "      <td>0</td>\n",
       "      <td>0</td>\n",
       "      <td>0</td>\n",
       "      <td>0</td>\n",
       "      <td>1</td>\n",
       "      <td>0</td>\n",
       "      <td>0</td>\n",
       "      <td>0</td>\n",
       "      <td>0</td>\n",
       "      <td>4.006154</td>\n",
       "      <td>13.0</td>\n",
       "      <td>52.08</td>\n",
       "      <td>0.0</td>\n",
       "      <td>0.0</td>\n",
       "      <td>2.0</td>\n",
       "      <td>0.0</td>\n",
       "      <td>0</td>\n",
       "      <td>1</td>\n",
       "      <td>0</td>\n",
       "      <td>5</td>\n",
       "      <td>5</td>\n",
       "      <td>7</td>\n",
       "      <td>bogo</td>\n",
       "      <td>1</td>\n",
       "      <td>1</td>\n",
       "      <td>1</td>\n",
       "      <td>0</td>\n",
       "      <td>0</td>\n",
       "      <td>0</td>\n",
       "      <td>0</td>\n",
       "      <td>1</td>\n",
       "      <td>0</td>\n",
       "      <td>0</td>\n",
       "      <td>0</td>\n",
       "      <td>0</td>\n",
       "    </tr>\n",
       "    <tr>\n",
       "      <th>...</th>\n",
       "      <td>...</td>\n",
       "      <td>...</td>\n",
       "      <td>...</td>\n",
       "      <td>...</td>\n",
       "      <td>...</td>\n",
       "      <td>...</td>\n",
       "      <td>...</td>\n",
       "      <td>...</td>\n",
       "      <td>...</td>\n",
       "      <td>...</td>\n",
       "      <td>...</td>\n",
       "      <td>...</td>\n",
       "      <td>...</td>\n",
       "      <td>...</td>\n",
       "      <td>...</td>\n",
       "      <td>...</td>\n",
       "      <td>...</td>\n",
       "      <td>...</td>\n",
       "      <td>...</td>\n",
       "      <td>...</td>\n",
       "      <td>...</td>\n",
       "      <td>...</td>\n",
       "      <td>...</td>\n",
       "      <td>...</td>\n",
       "      <td>...</td>\n",
       "      <td>...</td>\n",
       "      <td>...</td>\n",
       "      <td>...</td>\n",
       "      <td>...</td>\n",
       "      <td>...</td>\n",
       "      <td>...</td>\n",
       "      <td>...</td>\n",
       "      <td>...</td>\n",
       "      <td>...</td>\n",
       "      <td>...</td>\n",
       "      <td>...</td>\n",
       "      <td>...</td>\n",
       "      <td>...</td>\n",
       "      <td>...</td>\n",
       "      <td>...</td>\n",
       "      <td>...</td>\n",
       "      <td>...</td>\n",
       "      <td>...</td>\n",
       "      <td>...</td>\n",
       "      <td>...</td>\n",
       "    </tr>\n",
       "    <tr>\n",
       "      <th>53982</th>\n",
       "      <td>3ea76abfb09c4a7db2c38abcb993f862</td>\n",
       "      <td>1</td>\n",
       "      <td>118000.0</td>\n",
       "      <td>0</td>\n",
       "      <td>0</td>\n",
       "      <td>1</td>\n",
       "      <td>0</td>\n",
       "      <td>0</td>\n",
       "      <td>0</td>\n",
       "      <td>0</td>\n",
       "      <td>0</td>\n",
       "      <td>0</td>\n",
       "      <td>0</td>\n",
       "      <td>0</td>\n",
       "      <td>0</td>\n",
       "      <td>0</td>\n",
       "      <td>1</td>\n",
       "      <td>0</td>\n",
       "      <td>0</td>\n",
       "      <td>28.354000</td>\n",
       "      <td>5.0</td>\n",
       "      <td>141.77</td>\n",
       "      <td>1.0</td>\n",
       "      <td>0.0</td>\n",
       "      <td>1.0</td>\n",
       "      <td>0.0</td>\n",
       "      <td>1</td>\n",
       "      <td>0</td>\n",
       "      <td>0</td>\n",
       "      <td>10</td>\n",
       "      <td>10</td>\n",
       "      <td>5</td>\n",
       "      <td>bogo</td>\n",
       "      <td>1</td>\n",
       "      <td>1</td>\n",
       "      <td>1</td>\n",
       "      <td>1</td>\n",
       "      <td>1</td>\n",
       "      <td>0</td>\n",
       "      <td>0</td>\n",
       "      <td>0</td>\n",
       "      <td>0</td>\n",
       "      <td>0</td>\n",
       "      <td>0</td>\n",
       "      <td>0</td>\n",
       "    </tr>\n",
       "    <tr>\n",
       "      <th>53983</th>\n",
       "      <td>33d933f005aa41a39673220662db5294</td>\n",
       "      <td>0</td>\n",
       "      <td>62000.0</td>\n",
       "      <td>0</td>\n",
       "      <td>0</td>\n",
       "      <td>1</td>\n",
       "      <td>0</td>\n",
       "      <td>0</td>\n",
       "      <td>0</td>\n",
       "      <td>0</td>\n",
       "      <td>0</td>\n",
       "      <td>0</td>\n",
       "      <td>0</td>\n",
       "      <td>1</td>\n",
       "      <td>0</td>\n",
       "      <td>0</td>\n",
       "      <td>0</td>\n",
       "      <td>0</td>\n",
       "      <td>0</td>\n",
       "      <td>3.706000</td>\n",
       "      <td>10.0</td>\n",
       "      <td>37.06</td>\n",
       "      <td>0.0</td>\n",
       "      <td>0.0</td>\n",
       "      <td>0.0</td>\n",
       "      <td>0.0</td>\n",
       "      <td>0</td>\n",
       "      <td>1</td>\n",
       "      <td>0</td>\n",
       "      <td>10</td>\n",
       "      <td>10</td>\n",
       "      <td>5</td>\n",
       "      <td>bogo</td>\n",
       "      <td>1</td>\n",
       "      <td>1</td>\n",
       "      <td>1</td>\n",
       "      <td>1</td>\n",
       "      <td>1</td>\n",
       "      <td>0</td>\n",
       "      <td>0</td>\n",
       "      <td>0</td>\n",
       "      <td>0</td>\n",
       "      <td>0</td>\n",
       "      <td>0</td>\n",
       "      <td>0</td>\n",
       "    </tr>\n",
       "    <tr>\n",
       "      <th>53984</th>\n",
       "      <td>8578196a074a4f328976e334fa9383a3</td>\n",
       "      <td>0</td>\n",
       "      <td>58000.0</td>\n",
       "      <td>0</td>\n",
       "      <td>0</td>\n",
       "      <td>0</td>\n",
       "      <td>0</td>\n",
       "      <td>0</td>\n",
       "      <td>1</td>\n",
       "      <td>0</td>\n",
       "      <td>0</td>\n",
       "      <td>0</td>\n",
       "      <td>0</td>\n",
       "      <td>1</td>\n",
       "      <td>0</td>\n",
       "      <td>0</td>\n",
       "      <td>0</td>\n",
       "      <td>0</td>\n",
       "      <td>0</td>\n",
       "      <td>4.620000</td>\n",
       "      <td>1.0</td>\n",
       "      <td>4.62</td>\n",
       "      <td>0.0</td>\n",
       "      <td>0.0</td>\n",
       "      <td>0.0</td>\n",
       "      <td>0.0</td>\n",
       "      <td>0</td>\n",
       "      <td>1</td>\n",
       "      <td>0</td>\n",
       "      <td>10</td>\n",
       "      <td>10</td>\n",
       "      <td>5</td>\n",
       "      <td>bogo</td>\n",
       "      <td>1</td>\n",
       "      <td>1</td>\n",
       "      <td>1</td>\n",
       "      <td>1</td>\n",
       "      <td>1</td>\n",
       "      <td>0</td>\n",
       "      <td>0</td>\n",
       "      <td>0</td>\n",
       "      <td>0</td>\n",
       "      <td>0</td>\n",
       "      <td>0</td>\n",
       "      <td>0</td>\n",
       "    </tr>\n",
       "    <tr>\n",
       "      <th>53985</th>\n",
       "      <td>d4b620d3f4be4a7187245c6b571d0f91</td>\n",
       "      <td>0</td>\n",
       "      <td>81000.0</td>\n",
       "      <td>0</td>\n",
       "      <td>0</td>\n",
       "      <td>0</td>\n",
       "      <td>1</td>\n",
       "      <td>0</td>\n",
       "      <td>0</td>\n",
       "      <td>0</td>\n",
       "      <td>0</td>\n",
       "      <td>0</td>\n",
       "      <td>0</td>\n",
       "      <td>1</td>\n",
       "      <td>0</td>\n",
       "      <td>0</td>\n",
       "      <td>0</td>\n",
       "      <td>0</td>\n",
       "      <td>0</td>\n",
       "      <td>20.747500</td>\n",
       "      <td>8.0</td>\n",
       "      <td>165.98</td>\n",
       "      <td>0.0</td>\n",
       "      <td>0.0</td>\n",
       "      <td>1.0</td>\n",
       "      <td>0.0</td>\n",
       "      <td>1</td>\n",
       "      <td>0</td>\n",
       "      <td>0</td>\n",
       "      <td>10</td>\n",
       "      <td>10</td>\n",
       "      <td>5</td>\n",
       "      <td>bogo</td>\n",
       "      <td>1</td>\n",
       "      <td>1</td>\n",
       "      <td>1</td>\n",
       "      <td>1</td>\n",
       "      <td>1</td>\n",
       "      <td>0</td>\n",
       "      <td>0</td>\n",
       "      <td>0</td>\n",
       "      <td>0</td>\n",
       "      <td>0</td>\n",
       "      <td>0</td>\n",
       "      <td>0</td>\n",
       "    </tr>\n",
       "    <tr>\n",
       "      <th>53986</th>\n",
       "      <td>3f3494f3234e4206a279662bef81fe85</td>\n",
       "      <td>0</td>\n",
       "      <td>60000.0</td>\n",
       "      <td>0</td>\n",
       "      <td>1</td>\n",
       "      <td>0</td>\n",
       "      <td>0</td>\n",
       "      <td>0</td>\n",
       "      <td>0</td>\n",
       "      <td>0</td>\n",
       "      <td>0</td>\n",
       "      <td>0</td>\n",
       "      <td>0</td>\n",
       "      <td>0</td>\n",
       "      <td>0</td>\n",
       "      <td>1</td>\n",
       "      <td>0</td>\n",
       "      <td>0</td>\n",
       "      <td>0</td>\n",
       "      <td>3.090833</td>\n",
       "      <td>12.0</td>\n",
       "      <td>37.09</td>\n",
       "      <td>0.0</td>\n",
       "      <td>0.0</td>\n",
       "      <td>0.0</td>\n",
       "      <td>0.0</td>\n",
       "      <td>1</td>\n",
       "      <td>0</td>\n",
       "      <td>0</td>\n",
       "      <td>10</td>\n",
       "      <td>10</td>\n",
       "      <td>5</td>\n",
       "      <td>bogo</td>\n",
       "      <td>1</td>\n",
       "      <td>1</td>\n",
       "      <td>1</td>\n",
       "      <td>1</td>\n",
       "      <td>1</td>\n",
       "      <td>0</td>\n",
       "      <td>0</td>\n",
       "      <td>0</td>\n",
       "      <td>0</td>\n",
       "      <td>0</td>\n",
       "      <td>0</td>\n",
       "      <td>0</td>\n",
       "    </tr>\n",
       "  </tbody>\n",
       "</table>\n",
       "<p>43182 rows × 45 columns</p>\n",
       "</div>"
      ],
      "text/plain": [
       "                                 person  validrec    income  mbyr_2013  \\\n",
       "0      78afa995795e4d85b5d9ceeca43f5fef         1  100000.0          0   \n",
       "1      e2127556f4f64592b11af22de27a7932         1   70000.0          0   \n",
       "2      389bc3fa690240e798340f5a15918d5c         0   53000.0          0   \n",
       "3      d058f73bf8674a26a95227db098147b1         0   88000.0          0   \n",
       "4      ebe7ef46ea6f4963a7dd49f501b26779         0   41000.0          0   \n",
       "...                                 ...       ...       ...        ...   \n",
       "53982  3ea76abfb09c4a7db2c38abcb993f862         1  118000.0          0   \n",
       "53983  33d933f005aa41a39673220662db5294         0   62000.0          0   \n",
       "53984  8578196a074a4f328976e334fa9383a3         0   58000.0          0   \n",
       "53985  d4b620d3f4be4a7187245c6b571d0f91         0   81000.0          0   \n",
       "53986  3f3494f3234e4206a279662bef81fe85         0   60000.0          0   \n",
       "\n",
       "       mbyr_2014  mbyr_2015  mbyr_2016  mbyr_2017  mbyr_2018  [10, 20)  \\\n",
       "0              0          0          0          1          0         0   \n",
       "1              0          0          0          0          1         0   \n",
       "2              0          0          0          0          1         0   \n",
       "3              0          0          0          0          1         0   \n",
       "4              0          1          0          0          0         0   \n",
       "...          ...        ...        ...        ...        ...       ...   \n",
       "53982          0          1          0          0          0         0   \n",
       "53983          0          1          0          0          0         0   \n",
       "53984          0          0          0          0          1         0   \n",
       "53985          0          0          1          0          0         0   \n",
       "53986          1          0          0          0          0         0   \n",
       "\n",
       "       [100, 110)  [20, 30)  [30, 40)  [40, 50)  [50, 60)  [60, 70)  [70, 80)  \\\n",
       "0               0         0         0         0         0         0         1   \n",
       "1               0         0         0         0         0         1         0   \n",
       "2               0         0         0         0         0         1         0   \n",
       "3               0         0         0         0         1         0         0   \n",
       "4               0         0         0         0         1         0         0   \n",
       "...           ...       ...       ...       ...       ...       ...       ...   \n",
       "53982           0         0         0         0         0         0         1   \n",
       "53983           0         0         0         1         0         0         0   \n",
       "53984           0         0         0         1         0         0         0   \n",
       "53985           0         0         0         1         0         0         0   \n",
       "53986           0         0         0         0         0         1         0   \n",
       "\n",
       "       [80, 90)  [90, 100)  avg_spending  transaction_count  sum_spending  \\\n",
       "0             0          0     22.752857                7.0        159.27   \n",
       "1             0          0     19.243333                3.0         57.73   \n",
       "2             0          0     12.143333                3.0         36.43   \n",
       "3             0          0     25.206667                3.0         75.62   \n",
       "4             0          0      4.006154               13.0         52.08   \n",
       "...         ...        ...           ...                ...           ...   \n",
       "53982         0          0     28.354000                5.0        141.77   \n",
       "53983         0          0      3.706000               10.0         37.06   \n",
       "53984         0          0      4.620000                1.0          4.62   \n",
       "53985         0          0     20.747500                8.0        165.98   \n",
       "53986         0          0      3.090833               12.0         37.09   \n",
       "\n",
       "       valid_bogo_count  invalid_bogo_count  valid_dscut_count  \\\n",
       "0                   3.0                 0.0                0.0   \n",
       "1                   1.0                 0.0                1.0   \n",
       "2                   2.0                 1.0                2.0   \n",
       "3                   1.0                 0.0                3.0   \n",
       "4                   0.0                 0.0                2.0   \n",
       "...                 ...                 ...                ...   \n",
       "53982               1.0                 0.0                1.0   \n",
       "53983               0.0                 0.0                0.0   \n",
       "53984               0.0                 0.0                0.0   \n",
       "53985               0.0                 0.0                1.0   \n",
       "53986               0.0                 0.0                0.0   \n",
       "\n",
       "       invalid_dscut_count  F  M  O  reward  difficulty  duration offer_type  \\\n",
       "0                      0.0  1  0  0       5           5         7       bogo   \n",
       "1                      0.0  0  1  0       5           5         7       bogo   \n",
       "2                      0.0  0  1  0       5           5         7       bogo   \n",
       "3                      0.0  1  0  0       5           5         7       bogo   \n",
       "4                      0.0  0  1  0       5           5         7       bogo   \n",
       "...                    ... .. .. ..     ...         ...       ...        ...   \n",
       "53982                  0.0  1  0  0      10          10         5       bogo   \n",
       "53983                  0.0  0  1  0      10          10         5       bogo   \n",
       "53984                  0.0  0  1  0      10          10         5       bogo   \n",
       "53985                  0.0  1  0  0      10          10         5       bogo   \n",
       "53986                  0.0  1  0  0      10          10         5       bogo   \n",
       "\n",
       "       web  email  mobile  social  bogo_10_5_10  bogo_10_7_10  bogo_5_5_5  \\\n",
       "0        1      1       1       0             0             0           0   \n",
       "1        1      1       1       0             0             0           0   \n",
       "2        1      1       1       0             0             0           0   \n",
       "3        1      1       1       0             0             0           0   \n",
       "4        1      1       1       0             0             0           0   \n",
       "...    ...    ...     ...     ...           ...           ...         ...   \n",
       "53982    1      1       1       1             1             0           0   \n",
       "53983    1      1       1       1             1             0           0   \n",
       "53984    1      1       1       1             1             0           0   \n",
       "53985    1      1       1       1             1             0           0   \n",
       "53986    1      1       1       1             1             0           0   \n",
       "\n",
       "       bogo_5_7_5  discount_10_10_2  discount_10_7_2  discount_20_10_5  \\\n",
       "0               1                 0                0                 0   \n",
       "1               1                 0                0                 0   \n",
       "2               1                 0                0                 0   \n",
       "3               1                 0                0                 0   \n",
       "4               1                 0                0                 0   \n",
       "...           ...               ...              ...               ...   \n",
       "53982           0                 0                0                 0   \n",
       "53983           0                 0                0                 0   \n",
       "53984           0                 0                0                 0   \n",
       "53985           0                 0                0                 0   \n",
       "53986           0                 0                0                 0   \n",
       "\n",
       "       discount_7_7_3  \n",
       "0                   0  \n",
       "1                   0  \n",
       "2                   0  \n",
       "3                   0  \n",
       "4                   0  \n",
       "...               ...  \n",
       "53982               0  \n",
       "53983               0  \n",
       "53984               0  \n",
       "53985               0  \n",
       "53986               0  \n",
       "\n",
       "[43182 rows x 45 columns]"
      ]
     },
     "execution_count": 78,
     "metadata": {},
     "output_type": "execute_result"
    },
    {
     "data": {
      "text/html": [
       "<div>\n",
       "<style scoped>\n",
       "    .dataframe tbody tr th:only-of-type {\n",
       "        vertical-align: middle;\n",
       "    }\n",
       "\n",
       "    .dataframe tbody tr th {\n",
       "        vertical-align: top;\n",
       "    }\n",
       "\n",
       "    .dataframe thead th {\n",
       "        text-align: right;\n",
       "    }\n",
       "</style>\n",
       "<table border=\"1\" class=\"dataframe\">\n",
       "  <thead>\n",
       "    <tr style=\"text-align: right;\">\n",
       "      <th></th>\n",
       "      <th>person</th>\n",
       "      <th>validrec</th>\n",
       "      <th>income</th>\n",
       "      <th>mbyr_2013</th>\n",
       "      <th>mbyr_2014</th>\n",
       "      <th>mbyr_2015</th>\n",
       "      <th>mbyr_2016</th>\n",
       "      <th>mbyr_2017</th>\n",
       "      <th>mbyr_2018</th>\n",
       "      <th>[10, 20)</th>\n",
       "      <th>[100, 110)</th>\n",
       "      <th>[20, 30)</th>\n",
       "      <th>[30, 40)</th>\n",
       "      <th>[40, 50)</th>\n",
       "      <th>[50, 60)</th>\n",
       "      <th>[60, 70)</th>\n",
       "      <th>[70, 80)</th>\n",
       "      <th>[80, 90)</th>\n",
       "      <th>[90, 100)</th>\n",
       "      <th>avg_spending</th>\n",
       "      <th>transaction_count</th>\n",
       "      <th>sum_spending</th>\n",
       "      <th>valid_bogo_count</th>\n",
       "      <th>invalid_bogo_count</th>\n",
       "      <th>valid_dscut_count</th>\n",
       "      <th>invalid_dscut_count</th>\n",
       "      <th>F</th>\n",
       "      <th>M</th>\n",
       "      <th>O</th>\n",
       "      <th>reward</th>\n",
       "      <th>difficulty</th>\n",
       "      <th>duration</th>\n",
       "      <th>web</th>\n",
       "      <th>email</th>\n",
       "      <th>mobile</th>\n",
       "      <th>social</th>\n",
       "      <th>bogo_10_5_10</th>\n",
       "      <th>bogo_10_7_10</th>\n",
       "      <th>bogo_5_5_5</th>\n",
       "      <th>bogo_5_7_5</th>\n",
       "      <th>discount_10_10_2</th>\n",
       "      <th>discount_10_7_2</th>\n",
       "      <th>discount_20_10_5</th>\n",
       "      <th>discount_7_7_3</th>\n",
       "      <th>tp_bogo</th>\n",
       "      <th>tp_discount</th>\n",
       "    </tr>\n",
       "  </thead>\n",
       "  <tbody>\n",
       "    <tr>\n",
       "      <th>0</th>\n",
       "      <td>78afa995795e4d85b5d9ceeca43f5fef</td>\n",
       "      <td>1</td>\n",
       "      <td>100000.0</td>\n",
       "      <td>0</td>\n",
       "      <td>0</td>\n",
       "      <td>0</td>\n",
       "      <td>0</td>\n",
       "      <td>1</td>\n",
       "      <td>0</td>\n",
       "      <td>0</td>\n",
       "      <td>0</td>\n",
       "      <td>0</td>\n",
       "      <td>0</td>\n",
       "      <td>0</td>\n",
       "      <td>0</td>\n",
       "      <td>0</td>\n",
       "      <td>1</td>\n",
       "      <td>0</td>\n",
       "      <td>0</td>\n",
       "      <td>22.752857</td>\n",
       "      <td>7.0</td>\n",
       "      <td>159.27</td>\n",
       "      <td>3.0</td>\n",
       "      <td>0.0</td>\n",
       "      <td>0.0</td>\n",
       "      <td>0.0</td>\n",
       "      <td>1</td>\n",
       "      <td>0</td>\n",
       "      <td>0</td>\n",
       "      <td>5</td>\n",
       "      <td>5</td>\n",
       "      <td>7</td>\n",
       "      <td>1</td>\n",
       "      <td>1</td>\n",
       "      <td>1</td>\n",
       "      <td>0</td>\n",
       "      <td>0</td>\n",
       "      <td>0</td>\n",
       "      <td>0</td>\n",
       "      <td>1</td>\n",
       "      <td>0</td>\n",
       "      <td>0</td>\n",
       "      <td>0</td>\n",
       "      <td>0</td>\n",
       "      <td>1</td>\n",
       "      <td>0</td>\n",
       "    </tr>\n",
       "    <tr>\n",
       "      <th>1</th>\n",
       "      <td>e2127556f4f64592b11af22de27a7932</td>\n",
       "      <td>1</td>\n",
       "      <td>70000.0</td>\n",
       "      <td>0</td>\n",
       "      <td>0</td>\n",
       "      <td>0</td>\n",
       "      <td>0</td>\n",
       "      <td>0</td>\n",
       "      <td>1</td>\n",
       "      <td>0</td>\n",
       "      <td>0</td>\n",
       "      <td>0</td>\n",
       "      <td>0</td>\n",
       "      <td>0</td>\n",
       "      <td>0</td>\n",
       "      <td>1</td>\n",
       "      <td>0</td>\n",
       "      <td>0</td>\n",
       "      <td>0</td>\n",
       "      <td>19.243333</td>\n",
       "      <td>3.0</td>\n",
       "      <td>57.73</td>\n",
       "      <td>1.0</td>\n",
       "      <td>0.0</td>\n",
       "      <td>1.0</td>\n",
       "      <td>0.0</td>\n",
       "      <td>0</td>\n",
       "      <td>1</td>\n",
       "      <td>0</td>\n",
       "      <td>5</td>\n",
       "      <td>5</td>\n",
       "      <td>7</td>\n",
       "      <td>1</td>\n",
       "      <td>1</td>\n",
       "      <td>1</td>\n",
       "      <td>0</td>\n",
       "      <td>0</td>\n",
       "      <td>0</td>\n",
       "      <td>0</td>\n",
       "      <td>1</td>\n",
       "      <td>0</td>\n",
       "      <td>0</td>\n",
       "      <td>0</td>\n",
       "      <td>0</td>\n",
       "      <td>1</td>\n",
       "      <td>0</td>\n",
       "    </tr>\n",
       "    <tr>\n",
       "      <th>2</th>\n",
       "      <td>389bc3fa690240e798340f5a15918d5c</td>\n",
       "      <td>0</td>\n",
       "      <td>53000.0</td>\n",
       "      <td>0</td>\n",
       "      <td>0</td>\n",
       "      <td>0</td>\n",
       "      <td>0</td>\n",
       "      <td>0</td>\n",
       "      <td>1</td>\n",
       "      <td>0</td>\n",
       "      <td>0</td>\n",
       "      <td>0</td>\n",
       "      <td>0</td>\n",
       "      <td>0</td>\n",
       "      <td>0</td>\n",
       "      <td>1</td>\n",
       "      <td>0</td>\n",
       "      <td>0</td>\n",
       "      <td>0</td>\n",
       "      <td>12.143333</td>\n",
       "      <td>3.0</td>\n",
       "      <td>36.43</td>\n",
       "      <td>2.0</td>\n",
       "      <td>1.0</td>\n",
       "      <td>2.0</td>\n",
       "      <td>0.0</td>\n",
       "      <td>0</td>\n",
       "      <td>1</td>\n",
       "      <td>0</td>\n",
       "      <td>5</td>\n",
       "      <td>5</td>\n",
       "      <td>7</td>\n",
       "      <td>1</td>\n",
       "      <td>1</td>\n",
       "      <td>1</td>\n",
       "      <td>0</td>\n",
       "      <td>0</td>\n",
       "      <td>0</td>\n",
       "      <td>0</td>\n",
       "      <td>1</td>\n",
       "      <td>0</td>\n",
       "      <td>0</td>\n",
       "      <td>0</td>\n",
       "      <td>0</td>\n",
       "      <td>1</td>\n",
       "      <td>0</td>\n",
       "    </tr>\n",
       "    <tr>\n",
       "      <th>3</th>\n",
       "      <td>d058f73bf8674a26a95227db098147b1</td>\n",
       "      <td>0</td>\n",
       "      <td>88000.0</td>\n",
       "      <td>0</td>\n",
       "      <td>0</td>\n",
       "      <td>0</td>\n",
       "      <td>0</td>\n",
       "      <td>0</td>\n",
       "      <td>1</td>\n",
       "      <td>0</td>\n",
       "      <td>0</td>\n",
       "      <td>0</td>\n",
       "      <td>0</td>\n",
       "      <td>0</td>\n",
       "      <td>1</td>\n",
       "      <td>0</td>\n",
       "      <td>0</td>\n",
       "      <td>0</td>\n",
       "      <td>0</td>\n",
       "      <td>25.206667</td>\n",
       "      <td>3.0</td>\n",
       "      <td>75.62</td>\n",
       "      <td>1.0</td>\n",
       "      <td>0.0</td>\n",
       "      <td>3.0</td>\n",
       "      <td>0.0</td>\n",
       "      <td>1</td>\n",
       "      <td>0</td>\n",
       "      <td>0</td>\n",
       "      <td>5</td>\n",
       "      <td>5</td>\n",
       "      <td>7</td>\n",
       "      <td>1</td>\n",
       "      <td>1</td>\n",
       "      <td>1</td>\n",
       "      <td>0</td>\n",
       "      <td>0</td>\n",
       "      <td>0</td>\n",
       "      <td>0</td>\n",
       "      <td>1</td>\n",
       "      <td>0</td>\n",
       "      <td>0</td>\n",
       "      <td>0</td>\n",
       "      <td>0</td>\n",
       "      <td>1</td>\n",
       "      <td>0</td>\n",
       "    </tr>\n",
       "    <tr>\n",
       "      <th>4</th>\n",
       "      <td>ebe7ef46ea6f4963a7dd49f501b26779</td>\n",
       "      <td>0</td>\n",
       "      <td>41000.0</td>\n",
       "      <td>0</td>\n",
       "      <td>0</td>\n",
       "      <td>1</td>\n",
       "      <td>0</td>\n",
       "      <td>0</td>\n",
       "      <td>0</td>\n",
       "      <td>0</td>\n",
       "      <td>0</td>\n",
       "      <td>0</td>\n",
       "      <td>0</td>\n",
       "      <td>0</td>\n",
       "      <td>1</td>\n",
       "      <td>0</td>\n",
       "      <td>0</td>\n",
       "      <td>0</td>\n",
       "      <td>0</td>\n",
       "      <td>4.006154</td>\n",
       "      <td>13.0</td>\n",
       "      <td>52.08</td>\n",
       "      <td>0.0</td>\n",
       "      <td>0.0</td>\n",
       "      <td>2.0</td>\n",
       "      <td>0.0</td>\n",
       "      <td>0</td>\n",
       "      <td>1</td>\n",
       "      <td>0</td>\n",
       "      <td>5</td>\n",
       "      <td>5</td>\n",
       "      <td>7</td>\n",
       "      <td>1</td>\n",
       "      <td>1</td>\n",
       "      <td>1</td>\n",
       "      <td>0</td>\n",
       "      <td>0</td>\n",
       "      <td>0</td>\n",
       "      <td>0</td>\n",
       "      <td>1</td>\n",
       "      <td>0</td>\n",
       "      <td>0</td>\n",
       "      <td>0</td>\n",
       "      <td>0</td>\n",
       "      <td>1</td>\n",
       "      <td>0</td>\n",
       "    </tr>\n",
       "    <tr>\n",
       "      <th>...</th>\n",
       "      <td>...</td>\n",
       "      <td>...</td>\n",
       "      <td>...</td>\n",
       "      <td>...</td>\n",
       "      <td>...</td>\n",
       "      <td>...</td>\n",
       "      <td>...</td>\n",
       "      <td>...</td>\n",
       "      <td>...</td>\n",
       "      <td>...</td>\n",
       "      <td>...</td>\n",
       "      <td>...</td>\n",
       "      <td>...</td>\n",
       "      <td>...</td>\n",
       "      <td>...</td>\n",
       "      <td>...</td>\n",
       "      <td>...</td>\n",
       "      <td>...</td>\n",
       "      <td>...</td>\n",
       "      <td>...</td>\n",
       "      <td>...</td>\n",
       "      <td>...</td>\n",
       "      <td>...</td>\n",
       "      <td>...</td>\n",
       "      <td>...</td>\n",
       "      <td>...</td>\n",
       "      <td>...</td>\n",
       "      <td>...</td>\n",
       "      <td>...</td>\n",
       "      <td>...</td>\n",
       "      <td>...</td>\n",
       "      <td>...</td>\n",
       "      <td>...</td>\n",
       "      <td>...</td>\n",
       "      <td>...</td>\n",
       "      <td>...</td>\n",
       "      <td>...</td>\n",
       "      <td>...</td>\n",
       "      <td>...</td>\n",
       "      <td>...</td>\n",
       "      <td>...</td>\n",
       "      <td>...</td>\n",
       "      <td>...</td>\n",
       "      <td>...</td>\n",
       "      <td>...</td>\n",
       "      <td>...</td>\n",
       "    </tr>\n",
       "    <tr>\n",
       "      <th>53982</th>\n",
       "      <td>3ea76abfb09c4a7db2c38abcb993f862</td>\n",
       "      <td>1</td>\n",
       "      <td>118000.0</td>\n",
       "      <td>0</td>\n",
       "      <td>0</td>\n",
       "      <td>1</td>\n",
       "      <td>0</td>\n",
       "      <td>0</td>\n",
       "      <td>0</td>\n",
       "      <td>0</td>\n",
       "      <td>0</td>\n",
       "      <td>0</td>\n",
       "      <td>0</td>\n",
       "      <td>0</td>\n",
       "      <td>0</td>\n",
       "      <td>0</td>\n",
       "      <td>1</td>\n",
       "      <td>0</td>\n",
       "      <td>0</td>\n",
       "      <td>28.354000</td>\n",
       "      <td>5.0</td>\n",
       "      <td>141.77</td>\n",
       "      <td>1.0</td>\n",
       "      <td>0.0</td>\n",
       "      <td>1.0</td>\n",
       "      <td>0.0</td>\n",
       "      <td>1</td>\n",
       "      <td>0</td>\n",
       "      <td>0</td>\n",
       "      <td>10</td>\n",
       "      <td>10</td>\n",
       "      <td>5</td>\n",
       "      <td>1</td>\n",
       "      <td>1</td>\n",
       "      <td>1</td>\n",
       "      <td>1</td>\n",
       "      <td>1</td>\n",
       "      <td>0</td>\n",
       "      <td>0</td>\n",
       "      <td>0</td>\n",
       "      <td>0</td>\n",
       "      <td>0</td>\n",
       "      <td>0</td>\n",
       "      <td>0</td>\n",
       "      <td>1</td>\n",
       "      <td>0</td>\n",
       "    </tr>\n",
       "    <tr>\n",
       "      <th>53983</th>\n",
       "      <td>33d933f005aa41a39673220662db5294</td>\n",
       "      <td>0</td>\n",
       "      <td>62000.0</td>\n",
       "      <td>0</td>\n",
       "      <td>0</td>\n",
       "      <td>1</td>\n",
       "      <td>0</td>\n",
       "      <td>0</td>\n",
       "      <td>0</td>\n",
       "      <td>0</td>\n",
       "      <td>0</td>\n",
       "      <td>0</td>\n",
       "      <td>0</td>\n",
       "      <td>1</td>\n",
       "      <td>0</td>\n",
       "      <td>0</td>\n",
       "      <td>0</td>\n",
       "      <td>0</td>\n",
       "      <td>0</td>\n",
       "      <td>3.706000</td>\n",
       "      <td>10.0</td>\n",
       "      <td>37.06</td>\n",
       "      <td>0.0</td>\n",
       "      <td>0.0</td>\n",
       "      <td>0.0</td>\n",
       "      <td>0.0</td>\n",
       "      <td>0</td>\n",
       "      <td>1</td>\n",
       "      <td>0</td>\n",
       "      <td>10</td>\n",
       "      <td>10</td>\n",
       "      <td>5</td>\n",
       "      <td>1</td>\n",
       "      <td>1</td>\n",
       "      <td>1</td>\n",
       "      <td>1</td>\n",
       "      <td>1</td>\n",
       "      <td>0</td>\n",
       "      <td>0</td>\n",
       "      <td>0</td>\n",
       "      <td>0</td>\n",
       "      <td>0</td>\n",
       "      <td>0</td>\n",
       "      <td>0</td>\n",
       "      <td>1</td>\n",
       "      <td>0</td>\n",
       "    </tr>\n",
       "    <tr>\n",
       "      <th>53984</th>\n",
       "      <td>8578196a074a4f328976e334fa9383a3</td>\n",
       "      <td>0</td>\n",
       "      <td>58000.0</td>\n",
       "      <td>0</td>\n",
       "      <td>0</td>\n",
       "      <td>0</td>\n",
       "      <td>0</td>\n",
       "      <td>0</td>\n",
       "      <td>1</td>\n",
       "      <td>0</td>\n",
       "      <td>0</td>\n",
       "      <td>0</td>\n",
       "      <td>0</td>\n",
       "      <td>1</td>\n",
       "      <td>0</td>\n",
       "      <td>0</td>\n",
       "      <td>0</td>\n",
       "      <td>0</td>\n",
       "      <td>0</td>\n",
       "      <td>4.620000</td>\n",
       "      <td>1.0</td>\n",
       "      <td>4.62</td>\n",
       "      <td>0.0</td>\n",
       "      <td>0.0</td>\n",
       "      <td>0.0</td>\n",
       "      <td>0.0</td>\n",
       "      <td>0</td>\n",
       "      <td>1</td>\n",
       "      <td>0</td>\n",
       "      <td>10</td>\n",
       "      <td>10</td>\n",
       "      <td>5</td>\n",
       "      <td>1</td>\n",
       "      <td>1</td>\n",
       "      <td>1</td>\n",
       "      <td>1</td>\n",
       "      <td>1</td>\n",
       "      <td>0</td>\n",
       "      <td>0</td>\n",
       "      <td>0</td>\n",
       "      <td>0</td>\n",
       "      <td>0</td>\n",
       "      <td>0</td>\n",
       "      <td>0</td>\n",
       "      <td>1</td>\n",
       "      <td>0</td>\n",
       "    </tr>\n",
       "    <tr>\n",
       "      <th>53985</th>\n",
       "      <td>d4b620d3f4be4a7187245c6b571d0f91</td>\n",
       "      <td>0</td>\n",
       "      <td>81000.0</td>\n",
       "      <td>0</td>\n",
       "      <td>0</td>\n",
       "      <td>0</td>\n",
       "      <td>1</td>\n",
       "      <td>0</td>\n",
       "      <td>0</td>\n",
       "      <td>0</td>\n",
       "      <td>0</td>\n",
       "      <td>0</td>\n",
       "      <td>0</td>\n",
       "      <td>1</td>\n",
       "      <td>0</td>\n",
       "      <td>0</td>\n",
       "      <td>0</td>\n",
       "      <td>0</td>\n",
       "      <td>0</td>\n",
       "      <td>20.747500</td>\n",
       "      <td>8.0</td>\n",
       "      <td>165.98</td>\n",
       "      <td>0.0</td>\n",
       "      <td>0.0</td>\n",
       "      <td>1.0</td>\n",
       "      <td>0.0</td>\n",
       "      <td>1</td>\n",
       "      <td>0</td>\n",
       "      <td>0</td>\n",
       "      <td>10</td>\n",
       "      <td>10</td>\n",
       "      <td>5</td>\n",
       "      <td>1</td>\n",
       "      <td>1</td>\n",
       "      <td>1</td>\n",
       "      <td>1</td>\n",
       "      <td>1</td>\n",
       "      <td>0</td>\n",
       "      <td>0</td>\n",
       "      <td>0</td>\n",
       "      <td>0</td>\n",
       "      <td>0</td>\n",
       "      <td>0</td>\n",
       "      <td>0</td>\n",
       "      <td>1</td>\n",
       "      <td>0</td>\n",
       "    </tr>\n",
       "    <tr>\n",
       "      <th>53986</th>\n",
       "      <td>3f3494f3234e4206a279662bef81fe85</td>\n",
       "      <td>0</td>\n",
       "      <td>60000.0</td>\n",
       "      <td>0</td>\n",
       "      <td>1</td>\n",
       "      <td>0</td>\n",
       "      <td>0</td>\n",
       "      <td>0</td>\n",
       "      <td>0</td>\n",
       "      <td>0</td>\n",
       "      <td>0</td>\n",
       "      <td>0</td>\n",
       "      <td>0</td>\n",
       "      <td>0</td>\n",
       "      <td>0</td>\n",
       "      <td>1</td>\n",
       "      <td>0</td>\n",
       "      <td>0</td>\n",
       "      <td>0</td>\n",
       "      <td>3.090833</td>\n",
       "      <td>12.0</td>\n",
       "      <td>37.09</td>\n",
       "      <td>0.0</td>\n",
       "      <td>0.0</td>\n",
       "      <td>0.0</td>\n",
       "      <td>0.0</td>\n",
       "      <td>1</td>\n",
       "      <td>0</td>\n",
       "      <td>0</td>\n",
       "      <td>10</td>\n",
       "      <td>10</td>\n",
       "      <td>5</td>\n",
       "      <td>1</td>\n",
       "      <td>1</td>\n",
       "      <td>1</td>\n",
       "      <td>1</td>\n",
       "      <td>1</td>\n",
       "      <td>0</td>\n",
       "      <td>0</td>\n",
       "      <td>0</td>\n",
       "      <td>0</td>\n",
       "      <td>0</td>\n",
       "      <td>0</td>\n",
       "      <td>0</td>\n",
       "      <td>1</td>\n",
       "      <td>0</td>\n",
       "    </tr>\n",
       "  </tbody>\n",
       "</table>\n",
       "<p>43182 rows × 46 columns</p>\n",
       "</div>"
      ],
      "text/plain": [
       "                                 person  validrec    income  mbyr_2013  \\\n",
       "0      78afa995795e4d85b5d9ceeca43f5fef         1  100000.0          0   \n",
       "1      e2127556f4f64592b11af22de27a7932         1   70000.0          0   \n",
       "2      389bc3fa690240e798340f5a15918d5c         0   53000.0          0   \n",
       "3      d058f73bf8674a26a95227db098147b1         0   88000.0          0   \n",
       "4      ebe7ef46ea6f4963a7dd49f501b26779         0   41000.0          0   \n",
       "...                                 ...       ...       ...        ...   \n",
       "53982  3ea76abfb09c4a7db2c38abcb993f862         1  118000.0          0   \n",
       "53983  33d933f005aa41a39673220662db5294         0   62000.0          0   \n",
       "53984  8578196a074a4f328976e334fa9383a3         0   58000.0          0   \n",
       "53985  d4b620d3f4be4a7187245c6b571d0f91         0   81000.0          0   \n",
       "53986  3f3494f3234e4206a279662bef81fe85         0   60000.0          0   \n",
       "\n",
       "       mbyr_2014  mbyr_2015  mbyr_2016  mbyr_2017  mbyr_2018  [10, 20)  \\\n",
       "0              0          0          0          1          0         0   \n",
       "1              0          0          0          0          1         0   \n",
       "2              0          0          0          0          1         0   \n",
       "3              0          0          0          0          1         0   \n",
       "4              0          1          0          0          0         0   \n",
       "...          ...        ...        ...        ...        ...       ...   \n",
       "53982          0          1          0          0          0         0   \n",
       "53983          0          1          0          0          0         0   \n",
       "53984          0          0          0          0          1         0   \n",
       "53985          0          0          1          0          0         0   \n",
       "53986          1          0          0          0          0         0   \n",
       "\n",
       "       [100, 110)  [20, 30)  [30, 40)  [40, 50)  [50, 60)  [60, 70)  [70, 80)  \\\n",
       "0               0         0         0         0         0         0         1   \n",
       "1               0         0         0         0         0         1         0   \n",
       "2               0         0         0         0         0         1         0   \n",
       "3               0         0         0         0         1         0         0   \n",
       "4               0         0         0         0         1         0         0   \n",
       "...           ...       ...       ...       ...       ...       ...       ...   \n",
       "53982           0         0         0         0         0         0         1   \n",
       "53983           0         0         0         1         0         0         0   \n",
       "53984           0         0         0         1         0         0         0   \n",
       "53985           0         0         0         1         0         0         0   \n",
       "53986           0         0         0         0         0         1         0   \n",
       "\n",
       "       [80, 90)  [90, 100)  avg_spending  transaction_count  sum_spending  \\\n",
       "0             0          0     22.752857                7.0        159.27   \n",
       "1             0          0     19.243333                3.0         57.73   \n",
       "2             0          0     12.143333                3.0         36.43   \n",
       "3             0          0     25.206667                3.0         75.62   \n",
       "4             0          0      4.006154               13.0         52.08   \n",
       "...         ...        ...           ...                ...           ...   \n",
       "53982         0          0     28.354000                5.0        141.77   \n",
       "53983         0          0      3.706000               10.0         37.06   \n",
       "53984         0          0      4.620000                1.0          4.62   \n",
       "53985         0          0     20.747500                8.0        165.98   \n",
       "53986         0          0      3.090833               12.0         37.09   \n",
       "\n",
       "       valid_bogo_count  invalid_bogo_count  valid_dscut_count  \\\n",
       "0                   3.0                 0.0                0.0   \n",
       "1                   1.0                 0.0                1.0   \n",
       "2                   2.0                 1.0                2.0   \n",
       "3                   1.0                 0.0                3.0   \n",
       "4                   0.0                 0.0                2.0   \n",
       "...                 ...                 ...                ...   \n",
       "53982               1.0                 0.0                1.0   \n",
       "53983               0.0                 0.0                0.0   \n",
       "53984               0.0                 0.0                0.0   \n",
       "53985               0.0                 0.0                1.0   \n",
       "53986               0.0                 0.0                0.0   \n",
       "\n",
       "       invalid_dscut_count  F  M  O  reward  difficulty  duration  web  email  \\\n",
       "0                      0.0  1  0  0       5           5         7    1      1   \n",
       "1                      0.0  0  1  0       5           5         7    1      1   \n",
       "2                      0.0  0  1  0       5           5         7    1      1   \n",
       "3                      0.0  1  0  0       5           5         7    1      1   \n",
       "4                      0.0  0  1  0       5           5         7    1      1   \n",
       "...                    ... .. .. ..     ...         ...       ...  ...    ...   \n",
       "53982                  0.0  1  0  0      10          10         5    1      1   \n",
       "53983                  0.0  0  1  0      10          10         5    1      1   \n",
       "53984                  0.0  0  1  0      10          10         5    1      1   \n",
       "53985                  0.0  1  0  0      10          10         5    1      1   \n",
       "53986                  0.0  1  0  0      10          10         5    1      1   \n",
       "\n",
       "       mobile  social  bogo_10_5_10  bogo_10_7_10  bogo_5_5_5  bogo_5_7_5  \\\n",
       "0           1       0             0             0           0           1   \n",
       "1           1       0             0             0           0           1   \n",
       "2           1       0             0             0           0           1   \n",
       "3           1       0             0             0           0           1   \n",
       "4           1       0             0             0           0           1   \n",
       "...       ...     ...           ...           ...         ...         ...   \n",
       "53982       1       1             1             0           0           0   \n",
       "53983       1       1             1             0           0           0   \n",
       "53984       1       1             1             0           0           0   \n",
       "53985       1       1             1             0           0           0   \n",
       "53986       1       1             1             0           0           0   \n",
       "\n",
       "       discount_10_10_2  discount_10_7_2  discount_20_10_5  discount_7_7_3  \\\n",
       "0                     0                0                 0               0   \n",
       "1                     0                0                 0               0   \n",
       "2                     0                0                 0               0   \n",
       "3                     0                0                 0               0   \n",
       "4                     0                0                 0               0   \n",
       "...                 ...              ...               ...             ...   \n",
       "53982                 0                0                 0               0   \n",
       "53983                 0                0                 0               0   \n",
       "53984                 0                0                 0               0   \n",
       "53985                 0                0                 0               0   \n",
       "53986                 0                0                 0               0   \n",
       "\n",
       "       tp_bogo  tp_discount  \n",
       "0            1            0  \n",
       "1            1            0  \n",
       "2            1            0  \n",
       "3            1            0  \n",
       "4            1            0  \n",
       "...        ...          ...  \n",
       "53982        1            0  \n",
       "53983        1            0  \n",
       "53984        1            0  \n",
       "53985        1            0  \n",
       "53986        1            0  \n",
       "\n",
       "[43182 rows x 46 columns]"
      ]
     },
     "execution_count": 78,
     "metadata": {},
     "output_type": "execute_result"
    }
   ],
   "source": [
    "# 删除不必要的 offer 特征\n",
    "df_rec_new = df_rec_new.drop( columns=['offer_id','id'] )\n",
    "\n",
    "# 由于 imformation 的 offer是没有完成结果的 不在预测范围内 也删除\n",
    "index_infor = df_rec_new.loc[ df_rec_new.offername.str.contains('infor'),: ].index\n",
    "df_rec_new = df_rec_new.drop( index_infor )\n",
    "df_rec_new.offername.value_counts()\n",
    "\n",
    "# offername 变为 onehot 特征\n",
    "df_rec_new = pd.concat( [ df_rec_new , pd.get_dummies(df_rec_new['offername'])] ,axis= 1 ) \n",
    "df_rec_new = df_rec_new.drop( columns= 'offername' )\n",
    "df_rec_new\n",
    "\n",
    "# offer_type 变为 onehot 特征\n",
    "df_rec_new = pd.concat( [ df_rec_new , pd.get_dummies(df_rec_new['offer_type'], prefix='tp')] ,axis= 1 ) \n",
    "df_rec_new = df_rec_new.drop( columns= 'offer_type' )\n",
    "df_rec_new"
   ]
  },
  {
   "cell_type": "code",
   "execution_count": 79,
   "metadata": {},
   "outputs": [
    {
     "data": {
      "text/plain": [
       "Index(['validrec', 'income', 'mbyr_2013', 'mbyr_2014', 'mbyr_2015',\n",
       "       'mbyr_2016', 'mbyr_2017', 'mbyr_2018', '[10, 20)', '[100, 110)',\n",
       "       '[20, 30)', '[30, 40)', '[40, 50)', '[50, 60)', '[60, 70)', '[70, 80)',\n",
       "       '[80, 90)', '[90, 100)', 'avg_spending', 'transaction_count',\n",
       "       'sum_spending', 'valid_bogo_count', 'invalid_bogo_count',\n",
       "       'valid_dscut_count', 'invalid_dscut_count', 'F', 'M', 'O', 'reward',\n",
       "       'difficulty', 'duration', 'web', 'email', 'mobile', 'social',\n",
       "       'bogo_10_5_10', 'bogo_10_7_10', 'bogo_5_5_5', 'bogo_5_7_5',\n",
       "       'discount_10_10_2', 'discount_10_7_2', 'discount_20_10_5',\n",
       "       'discount_7_7_3', 'tp_bogo', 'tp_discount'],\n",
       "      dtype='object')"
      ]
     },
     "execution_count": 79,
     "metadata": {},
     "output_type": "execute_result"
    },
    {
     "data": {
      "text/plain": [
       "45"
      ]
     },
     "execution_count": 79,
     "metadata": {},
     "output_type": "execute_result"
    }
   ],
   "source": [
    "# 删除不必要的 user特征\n",
    "df_rec_new = df_rec_new.drop( columns= 'person' )\n",
    "df_rec_new.columns\n",
    "len(df_rec_new.columns) "
   ]
  },
  {
   "cell_type": "code",
   "execution_count": 80,
   "metadata": {},
   "outputs": [
    {
     "data": {
      "text/plain": [
       "Index(['validrec', 'income', 'mbyr_2013', 'mbyr_2014', 'mbyr_2015',\n",
       "       'mbyr_2016', 'mbyr_2017', 'mbyr_2018', '[10, 20)', '[100, 110)',\n",
       "       '[20, 30)', '[30, 40)', '[40, 50)', '[50, 60)', '[60, 70)', '[70, 80)',\n",
       "       '[80, 90)', '[90, 100)', 'F', 'M', 'O', 'reward', 'difficulty',\n",
       "       'duration', 'web', 'email', 'mobile', 'social', 'bogo_10_5_10',\n",
       "       'bogo_10_7_10', 'bogo_5_5_5', 'bogo_5_7_5', 'discount_10_10_2',\n",
       "       'discount_10_7_2', 'discount_20_10_5', 'discount_7_7_3', 'tp_bogo',\n",
       "       'tp_discount'],\n",
       "      dtype='object')"
      ]
     },
     "execution_count": 80,
     "metadata": {},
     "output_type": "execute_result"
    },
    {
     "data": {
      "text/plain": [
       "38"
      ]
     },
     "execution_count": 80,
     "metadata": {},
     "output_type": "execute_result"
    }
   ],
   "source": [
    "# 继续删除更多 user 特征\n",
    "df_rec_clean = df_rec_new.drop( columns= [ 'avg_spending', 'transaction_count',\n",
    "       'sum_spending', 'valid_bogo_count', 'invalid_bogo_count',\n",
    "       'valid_dscut_count', 'invalid_dscut_count']  )\n",
    "df_rec_clean.columns\n",
    "len(df_rec_clean.columns) "
   ]
  },
  {
   "cell_type": "code",
   "execution_count": 81,
   "metadata": {},
   "outputs": [
    {
     "data": {
      "text/plain": [
       "Index(['validrec', 'income', 'mbyr_2013', 'mbyr_2014', 'mbyr_2015',\n",
       "       'mbyr_2016', 'mbyr_2017', 'mbyr_2018', '[10, 20)', '[100, 110)',\n",
       "       '[20, 30)', '[30, 40)', '[40, 50)', '[50, 60)', '[60, 70)', '[70, 80)',\n",
       "       '[80, 90)', '[90, 100)', 'F', 'M', 'O', 'reward', 'difficulty',\n",
       "       'duration', 'web', 'email', 'mobile', 'social', 'tp_bogo',\n",
       "       'tp_discount'],\n",
       "      dtype='object')"
      ]
     },
     "execution_count": 81,
     "metadata": {},
     "output_type": "execute_result"
    },
    {
     "data": {
      "text/plain": [
       "30"
      ]
     },
     "execution_count": 81,
     "metadata": {},
     "output_type": "execute_result"
    }
   ],
   "source": [
    "# 删除 offer 特征\n",
    "df_rec_clean = df_rec_clean.drop( columns= [ 'bogo_10_5_10', 'bogo_10_7_10', 'bogo_5_5_5', 'bogo_5_7_5',\n",
    "       'discount_10_10_2', 'discount_10_7_2', 'discount_20_10_5',\n",
    "       'discount_7_7_3']  )\n",
    "df_rec_clean.columns\n",
    "len(df_rec_clean.columns) "
   ]
  },
  {
   "cell_type": "markdown",
   "metadata": {},
   "source": [
    "## 数据清洗函数"
   ]
  },
  {
   "cell_type": "code",
   "execution_count": 93,
   "metadata": {
    "lines_to_end_of_cell_marker": 2
   },
   "outputs": [],
   "source": [
    "def process_datafeature( df_merge, df_offer, df_profile, list_validrec):\n",
    "    # df_merge= dfmerge_trprpo ;  df_offer = portfolio_clean; df_profile = profile_updated\n",
    "    dfmerge_trprpo = df_merge.copy()\n",
    "    portfolio_clean = df_offer.copy()\n",
    "    profile_updated = df_profile.copy()\n",
    "    \n",
    "    # 添加validrec特征\n",
    "    df_rec_all = dfmerge_trprpo.loc[ dfmerge_trprpo.event == 'offer received',['person','offer_id']]\n",
    "    df_rec_new = df_rec_all.drop(  df_rec_all[df_rec_all.duplicated()].index  )\n",
    "    df_rec_new.loc[ :, 'validrec' ] = 0\n",
    "    df_rec_new.loc[ list_validrec, 'validrec' ] =1\n",
    "    # 合并 用户和offer信息\n",
    "    df_rec_new = pd.merge(df_rec_new, profile_updated, left_on=['person'], right_index = True, how ='inner')\n",
    "    df_rec_new = pd.merge(df_rec_new, portfolio_clean, left_on=['offer_id'], right_on=['id'], how ='inner')\n",
    "    \n",
    "    # 某些列进行 onehot ，删除不需要的列\n",
    "    index_infor = df_rec_new.loc[ df_rec_new.offername.str.contains('infor'),: ].index\n",
    "    df_rec_new = df_rec_new.drop( index_infor )\n",
    "    df_rec_new = pd.concat( [ df_rec_new , pd.get_dummies(df_rec_new['gender'])] ,axis= 1 ) \n",
    "    df_rec_new = pd.concat( [ df_rec_new , pd.get_dummies(df_rec_new['offername'])] ,axis= 1 ) \n",
    "    df_rec_new = pd.concat( [ df_rec_new , pd.get_dummies(df_rec_new['offer_type'], prefix='tp')] ,axis= 1 ) \n",
    "\n",
    "    df_rec_new= df_rec_new.drop(columns = ['became_member_on','member_year','age','gender'] , axis=1)\n",
    "    df_rec_new= df_rec_new.drop(columns = ['[110, 120)'] , axis=1)\n",
    "\n",
    "    df_rec_new = df_rec_new.drop( columns=['offer_id','id'] )\n",
    "    df_rec_new = df_rec_new.drop( columns= 'offer_type' )\n",
    "    df_rec_new = df_rec_new.drop( columns= 'offername' )\n",
    "    df_rec_new = df_rec_new.drop( columns= 'person' )\n",
    "    df_rec_new = df_rec_new.drop( columns= [  'valid_bogo_count', 'invalid_bogo_count',\n",
    "           'valid_dscut_count', 'invalid_dscut_count']  )\n",
    "    df_rec_new = df_rec_new.drop( columns= [ 'bogo_10_5_10', 'bogo_10_7_10', 'bogo_5_5_5', 'bogo_5_7_5',\n",
    "           'discount_10_10_2', 'discount_10_7_2', 'discount_20_10_5',\n",
    "           'discount_7_7_3']  )    \n",
    "    \n",
    "    # 删除空列和空行\n",
    "    col_null = df_rec_new.isnull().sum()\n",
    "    col_null_frac = col_null / df_rec_new.shape[0]\n",
    "    cols_to_drop = col_null_frac[col_null_frac > 0.3].index.tolist()\n",
    "    df_rec_nomiss = df_rec_new.drop(cols_to_drop, axis=1)\n",
    "    row_null = df_rec_nomiss.isnull().sum(axis=1)\n",
    "    df_rec_nomiss = df_rec_nomiss.drop( df_rec_nomiss[row_null > 0].index  , axis=0)\n",
    "       \n",
    "    return df_rec_nomiss"
   ]
  },
  {
   "cell_type": "code",
   "execution_count": 94,
   "metadata": {},
   "outputs": [],
   "source": [
    "df_rec_new  = process_datafeature( dfmerge_trprpo, portfolio_clean, profile_updated, list_validrec)"
   ]
  },
  {
   "cell_type": "code",
   "execution_count": 95,
   "metadata": {},
   "outputs": [
    {
     "data": {
      "text/plain": [
       "Index(['validrec', 'income', 'mbyr_2013', 'mbyr_2014', 'mbyr_2015',\n",
       "       'mbyr_2016', 'mbyr_2017', 'mbyr_2018', '[10, 20)', '[100, 110)',\n",
       "       '[20, 30)', '[30, 40)', '[40, 50)', '[50, 60)', '[60, 70)', '[70, 80)',\n",
       "       '[80, 90)', '[90, 100)', 'avg_spending', 'transaction_count',\n",
       "       'sum_spending', 'reward', 'difficulty', 'duration', 'web', 'email',\n",
       "       'mobile', 'social', 'F', 'M', 'O', 'tp_bogo', 'tp_discount'],\n",
       "      dtype='object')"
      ]
     },
     "execution_count": 95,
     "metadata": {},
     "output_type": "execute_result"
    },
    {
     "data": {
      "text/plain": [
       "33"
      ]
     },
     "execution_count": 95,
     "metadata": {},
     "output_type": "execute_result"
    }
   ],
   "source": [
    "df_rec_new.columns\n",
    "len( df_rec_new.columns )"
   ]
  },
  {
   "cell_type": "code",
   "execution_count": 96,
   "metadata": {
    "lines_to_next_cell": 2
   },
   "outputs": [],
   "source": [
    "pklsave(df_rec_new, 'sav/df_rec_new.pkl')"
   ]
  },
  {
   "cell_type": "markdown",
   "metadata": {},
   "source": [
    "## 分割数据集"
   ]
  },
  {
   "cell_type": "code",
   "execution_count": 97,
   "metadata": {},
   "outputs": [
    {
     "data": {
      "text/plain": [
       "(34545, 32)"
      ]
     },
     "execution_count": 97,
     "metadata": {},
     "output_type": "execute_result"
    }
   ],
   "source": [
    "\n",
    "df_rec_new  = pklload('sav/df_rec_new.pkl')\n",
    "\n",
    "random_state = 42\n",
    "\n",
    "label_name = 'validrec'\n",
    "variables = df_rec_new.drop(columns=[label_name])\n",
    "label = df_rec_new.filter([label_name])\n",
    "\n",
    "(X_train, X_test, y_train, y_test) = train_test_split(variables.values,\n",
    "                                        label.values,\n",
    "                                        test_size=0.2,\n",
    "                                        random_state=random_state)\n",
    "\n",
    "X_train = X_train.astype('float64')\n",
    "X_test = X_test.astype('float64')\n",
    "y_train = y_train.ravel()\n",
    "y_test = y_test.ravel()\n",
    "\n",
    "X_train.shape"
   ]
  },
  {
   "cell_type": "markdown",
   "metadata": {},
   "source": [
    "# 预测模型"
   ]
  },
  {
   "cell_type": "markdown",
   "metadata": {},
   "source": [
    "### 函数 评估模型\n"
   ]
  },
  {
   "cell_type": "code",
   "execution_count": 128,
   "metadata": {},
   "outputs": [],
   "source": [
    "def evaluate_model_performance(clf, X,y):\n",
    "    \"\"\" Prints a model's accuracy and F1-score\n",
    "    \n",
    "    INPUT:\n",
    "        clf: Model object\n",
    "        X: Training data matrix\n",
    "        y: Expected model output vector\n",
    "    \n",
    "    OUTPUT:\n",
    "        clf_accuracy: Model accuracy\n",
    "        clf_f1_score: Model F1-score\"\"\"\n",
    "    \n",
    "    # clf = lr_random.best_estimator_\n",
    "    # clf = pipe_lr_clf\n",
    "    #  class_name 就是单纯的 把很长的模型名字 sklearn.linear_model._logistic.LogisticRegression \n",
    "    # 给简化为 'LogisticRegression'而已\n",
    "    \n",
    "    y_pred = clf.predict(X)\n",
    "    fbt_score = fbeta_score( y , y_pred, beta=2)\n",
    "    print(  'F-beta score: {0:.3f} \\n'.format(fbt_score ))\n",
    "    print( classification_report(y, y_pred))\n",
    "    return"
   ]
  },
  {
   "cell_type": "markdown",
   "metadata": {},
   "source": [
    "##   线性分类模型"
   ]
  },
  {
   "cell_type": "code",
   "execution_count": 129,
   "metadata": {
    "lines_to_next_cell": 2
   },
   "outputs": [
    {
     "data": {
      "text/plain": [
       "Pipeline(steps=[('scaler', MinMaxScaler()), ('clf', LinearSVC())])"
      ]
     },
     "execution_count": 129,
     "metadata": {},
     "output_type": "execute_result"
    },
    {
     "data": {
      "text/plain": [
       "['sav/pipe_lrsvc.joblib']"
      ]
     },
     "execution_count": 129,
     "metadata": {},
     "output_type": "execute_result"
    }
   ],
   "source": [
    "model_path = os.path.join('sav/pipe_lrsvc.joblib')\n",
    "\n",
    "if os.path.exists(model_path):\n",
    "    pipe_lrsvc = load(model_path)\n",
    "else:\n",
    "    # 建立模型\n",
    "    pipe_lrsvc = Pipeline([    ('scaler', MinMaxScaler()), ('clf', LinearSVC()) ])\n",
    "    pipe_lrsvc.fit(X_train, y_train)\n",
    "    dump(pipe_lrsvc, model_path)"
   ]
  },
  {
   "cell_type": "code",
   "execution_count": 130,
   "metadata": {},
   "outputs": [
    {
     "name": "stdout",
     "output_type": "stream",
     "text": [
      "F-beta score: 0.746 \n",
      "\n",
      "              precision    recall  f1-score   support\n",
      "\n",
      "           0       0.72      0.74      0.73      4085\n",
      "           1       0.76      0.74      0.75      4552\n",
      "\n",
      "    accuracy                           0.74      8637\n",
      "   macro avg       0.74      0.74      0.74      8637\n",
      "weighted avg       0.74      0.74      0.74      8637\n",
      "\n"
     ]
    }
   ],
   "source": [
    "evaluate_model_performance( pipe_lrsvc ,X_test, y_test)"
   ]
  },
  {
   "cell_type": "markdown",
   "metadata": {},
   "source": [
    "### 线性分类模型调参"
   ]
  },
  {
   "cell_type": "code",
   "execution_count": 131,
   "metadata": {
    "lines_to_next_cell": 2
   },
   "outputs": [
    {
     "data": {
      "text/plain": [
       "{'memory': None,\n",
       " 'steps': [('scaler', MinMaxScaler()), ('clf', LinearSVC())],\n",
       " 'verbose': False,\n",
       " 'scaler': MinMaxScaler(),\n",
       " 'clf': LinearSVC(),\n",
       " 'scaler__copy': True,\n",
       " 'scaler__feature_range': (0, 1),\n",
       " 'clf__C': 1.0,\n",
       " 'clf__class_weight': None,\n",
       " 'clf__dual': True,\n",
       " 'clf__fit_intercept': True,\n",
       " 'clf__intercept_scaling': 1,\n",
       " 'clf__loss': 'squared_hinge',\n",
       " 'clf__max_iter': 1000,\n",
       " 'clf__multi_class': 'ovr',\n",
       " 'clf__penalty': 'l2',\n",
       " 'clf__random_state': None,\n",
       " 'clf__tol': 0.0001,\n",
       " 'clf__verbose': 0}"
      ]
     },
     "execution_count": 131,
     "metadata": {},
     "output_type": "execute_result"
    }
   ],
   "source": [
    "pipe_lrsvc.get_params()"
   ]
  },
  {
   "cell_type": "code",
   "execution_count": 136,
   "metadata": {},
   "outputs": [
    {
     "data": {
      "text/plain": [
       "GridSearchCV(estimator=Pipeline(steps=[('scaler', MinMaxScaler()),\n",
       "                                       ('clf', LinearSVC())]),\n",
       "             param_grid={'clf__C': [0.8, 1, 1.2], 'clf__dual': [True, False],\n",
       "                         'clf__max_iter': [1000.0, 3000.0, 10000.0],\n",
       "                         'clf__tol': [0.0001, 1e-05]},\n",
       "             scoring=make_scorer(fbeta_score, beta=2))"
      ]
     },
     "execution_count": 136,
     "metadata": {},
     "output_type": "execute_result"
    },
    {
     "data": {
      "text/plain": [
       "['sav/cv_lrsvc.joblib']"
      ]
     },
     "execution_count": 136,
     "metadata": {},
     "output_type": "execute_result"
    },
    {
     "name": "stdout",
     "output_type": "stream",
     "text": [
      "{'clf__C': 1.2, 'clf__dual': True, 'clf__max_iter': 1000.0, 'clf__tol': 0.0001}\n"
     ]
    }
   ],
   "source": [
    "model_path = os.path.join('sav/cv_lrsvc.joblib')\n",
    "\n",
    "if os.path.exists(model_path):\n",
    "    cv_lrsvc = load(model_path)\n",
    "else:\n",
    "    \n",
    "    # 设置参数矩阵\n",
    "    parameters = {\n",
    "        'clf__dual': [True, False],\n",
    "        'clf__tol': [1e-4, 1e-5],\n",
    "        'clf__C':[0.8, 1, 1.2],\n",
    "        'clf__max_iter': [ 1e3, 3e3, 1e4]  }\n",
    "\n",
    "    # 评价指标\n",
    "    scorer = make_scorer( fbeta_score, beta=2 )\n",
    "    cv_lrsvc = GridSearchCV( pipe_lrsvc , param_grid=parameters,   scoring= scorer )\n",
    "\n",
    "    # 再训练\n",
    "    cv_lrsvc.fit( X_train, y_train )\n",
    "    dump(cv_lrsvc, model_path)\n",
    "    \n",
    "# 查看最佳参数\n",
    "print( cv_lrsvc.best_params_)\n",
    "\n",
    "\n"
   ]
  },
  {
   "cell_type": "code",
   "execution_count": 137,
   "metadata": {},
   "outputs": [
    {
     "name": "stdout",
     "output_type": "stream",
     "text": [
      "F-beta score: 0.746 \n",
      "\n",
      "              precision    recall  f1-score   support\n",
      "\n",
      "           0       0.72      0.75      0.73      4085\n",
      "           1       0.76      0.74      0.75      4552\n",
      "\n",
      "    accuracy                           0.74      8637\n",
      "   macro avg       0.74      0.74      0.74      8637\n",
      "weighted avg       0.74      0.74      0.74      8637\n",
      "\n"
     ]
    }
   ],
   "source": [
    "# 测试模型结果\n",
    "evaluate_model_performance(cv_lrsvc, X_test, y_test)"
   ]
  },
  {
   "cell_type": "markdown",
   "metadata": {},
   "source": [
    "调参后 F-beta score 还是0.746 没有变化 "
   ]
  },
  {
   "cell_type": "markdown",
   "metadata": {},
   "source": [
    "##  K近邻算法"
   ]
  },
  {
   "cell_type": "code",
   "execution_count": 138,
   "metadata": {
    "lines_to_end_of_cell_marker": 2,
    "lines_to_next_cell": 2
   },
   "outputs": [
    {
     "data": {
      "text/plain": [
       "{'memory': None,\n",
       " 'steps': [('scaler', MinMaxScaler()), ('clf', KNeighborsClassifier())],\n",
       " 'verbose': False,\n",
       " 'scaler': MinMaxScaler(),\n",
       " 'clf': KNeighborsClassifier(),\n",
       " 'scaler__copy': True,\n",
       " 'scaler__feature_range': (0, 1),\n",
       " 'clf__algorithm': 'auto',\n",
       " 'clf__leaf_size': 30,\n",
       " 'clf__metric': 'minkowski',\n",
       " 'clf__metric_params': None,\n",
       " 'clf__n_jobs': None,\n",
       " 'clf__n_neighbors': 5,\n",
       " 'clf__p': 2,\n",
       " 'clf__weights': 'uniform'}"
      ]
     },
     "execution_count": 138,
     "metadata": {},
     "output_type": "execute_result"
    },
    {
     "data": {
      "text/plain": [
       "Pipeline(steps=[('scaler', MinMaxScaler()), ('clf', KNeighborsClassifier())])"
      ]
     },
     "execution_count": 138,
     "metadata": {},
     "output_type": "execute_result"
    },
    {
     "data": {
      "text/plain": [
       "['sav/pipe_kmn.joblib']"
      ]
     },
     "execution_count": 138,
     "metadata": {},
     "output_type": "execute_result"
    }
   ],
   "source": [
    "model_path = os.path.join('sav/pipe_kmn.joblib')\n",
    "\n",
    "if os.path.exists(model_path):\n",
    "    pipe_kmn = load(model_path)\n",
    "else:\n",
    "    pipe_kmn = Pipeline([\n",
    "        ('scaler', MinMaxScaler()),\n",
    "        ('clf', KNeighborsClassifier())\n",
    "    ])\n",
    "    pipe_kmn.get_params()\n",
    "    pipe_kmn.fit(X_train, y_train)\n",
    "    dump(pipe_kmn, model_path)"
   ]
  },
  {
   "cell_type": "code",
   "execution_count": 139,
   "metadata": {},
   "outputs": [
    {
     "name": "stdout",
     "output_type": "stream",
     "text": [
      "F-beta score: 0.741 \n",
      "\n",
      "              precision    recall  f1-score   support\n",
      "\n",
      "           0       0.71      0.70      0.71      4085\n",
      "           1       0.74      0.74      0.74      4552\n",
      "\n",
      "    accuracy                           0.72      8637\n",
      "   macro avg       0.72      0.72      0.72      8637\n",
      "weighted avg       0.72      0.72      0.72      8637\n",
      "\n"
     ]
    }
   ],
   "source": [
    "evaluate_model_performance(pipe_kmn,X_test, y_test )"
   ]
  },
  {
   "cell_type": "markdown",
   "metadata": {},
   "source": [
    "### K近邻算法调参"
   ]
  },
  {
   "cell_type": "code",
   "execution_count": 140,
   "metadata": {
    "lines_to_next_cell": 2
   },
   "outputs": [
    {
     "data": {
      "text/plain": [
       "GridSearchCV(estimator=Pipeline(steps=[('scaler', MinMaxScaler()),\n",
       "                                       ('clf', KNeighborsClassifier())]),\n",
       "             param_grid={'clf__leaf_size': [10, 30, 100],\n",
       "                         'clf__n_neighbors': [5, 20],\n",
       "                         'clf__weights': ['uniform', 'distance']},\n",
       "             scoring=make_scorer(fbeta_score, beta=2))"
      ]
     },
     "execution_count": 140,
     "metadata": {},
     "output_type": "execute_result"
    },
    {
     "data": {
      "text/plain": [
       "['sav/cv_kmn.joblib']"
      ]
     },
     "execution_count": 140,
     "metadata": {},
     "output_type": "execute_result"
    }
   ],
   "source": [
    "model_path = os.path.join('sav/cv_kmn.joblib')\n",
    "\n",
    "if os.path.exists(model_path):\n",
    "    cv_kmn = load(model_path)\n",
    "else:\n",
    "    \n",
    "    # 设置参数矩阵\n",
    "    parameters = {\n",
    "        'clf__leaf_size': [10, 30, 100],\n",
    "        'clf__n_neighbors': [5, 20] ,\n",
    "        'clf__weights':[ 'uniform', 'distance']\n",
    "    }\n",
    "    \n",
    "    scorer = make_scorer(fbeta_score,beta=2)\n",
    "    cv_kmn = GridSearchCV(pipe_kmn, param_grid=parameters , scoring= scorer )\n",
    "\n",
    "    # 再训练\n",
    "    cv_kmn.fit(X_train, y_train)\n",
    "    dump(cv_kmn, model_path)\n"
   ]
  },
  {
   "cell_type": "code",
   "execution_count": 141,
   "metadata": {},
   "outputs": [
    {
     "data": {
      "text/plain": [
       "{'clf__leaf_size': 10, 'clf__n_neighbors': 5, 'clf__weights': 'uniform'}"
      ]
     },
     "execution_count": 141,
     "metadata": {},
     "output_type": "execute_result"
    },
    {
     "name": "stdout",
     "output_type": "stream",
     "text": [
      "F-beta score: 0.741 \n",
      "\n",
      "              precision    recall  f1-score   support\n",
      "\n",
      "           0       0.71      0.70      0.71      4085\n",
      "           1       0.74      0.74      0.74      4552\n",
      "\n",
      "    accuracy                           0.72      8637\n",
      "   macro avg       0.72      0.72      0.72      8637\n",
      "weighted avg       0.72      0.72      0.72      8637\n",
      "\n"
     ]
    }
   ],
   "source": [
    "# 查看最佳参数\n",
    "cv_kmn.best_params_\n",
    "\n",
    "# 测试模型结果\n",
    "evaluate_model_performance(cv_kmn,X_test, y_test )"
   ]
  },
  {
   "cell_type": "markdown",
   "metadata": {},
   "source": [
    "K临近算法 调参后 F-beta score 还是0.741 没有变化"
   ]
  },
  {
   "cell_type": "markdown",
   "metadata": {},
   "source": [
    "## 随机森林模型"
   ]
  },
  {
   "cell_type": "code",
   "execution_count": 142,
   "metadata": {},
   "outputs": [
    {
     "data": {
      "text/plain": [
       "Pipeline(steps=[('sc', StandardScaler()),\n",
       "                ('rf_clf', RandomForestClassifier(random_state=42))])"
      ]
     },
     "execution_count": 142,
     "metadata": {},
     "output_type": "execute_result"
    },
    {
     "data": {
      "text/plain": [
       "['sav/pipe_rf.joblib']"
      ]
     },
     "execution_count": 142,
     "metadata": {},
     "output_type": "execute_result"
    }
   ],
   "source": [
    "model_path = os.path.join('sav/pipe_rf.joblib')\n",
    "\n",
    "if os.path.exists(model_path):\n",
    "    pipe_rf = load(model_path)\n",
    "else:\n",
    "    pipe_rf = Pipeline([('sc', StandardScaler()),\n",
    "                      ('rf_clf', RandomForestClassifier(random_state=random_state))\n",
    "                      ])\n",
    "    pipe_rf.fit(X_train, y_train)\n",
    "    dump(pipe_rf, model_path)\n"
   ]
  },
  {
   "cell_type": "code",
   "execution_count": 143,
   "metadata": {},
   "outputs": [
    {
     "name": "stdout",
     "output_type": "stream",
     "text": [
      "F-beta score: 0.784 \n",
      "\n",
      "              precision    recall  f1-score   support\n",
      "\n",
      "           0       0.76      0.74      0.75      4085\n",
      "           1       0.77      0.79      0.78      4552\n",
      "\n",
      "    accuracy                           0.76      8637\n",
      "   macro avg       0.76      0.76      0.76      8637\n",
      "weighted avg       0.76      0.76      0.76      8637\n",
      "\n"
     ]
    }
   ],
   "source": [
    "evaluate_model_performance(pipe_rf,X_test, y_test )"
   ]
  },
  {
   "cell_type": "code",
   "execution_count": 144,
   "metadata": {},
   "outputs": [
    {
     "data": {
      "text/plain": [
       "{'memory': None,\n",
       " 'steps': [('sc', StandardScaler()),\n",
       "  ('rf_clf', RandomForestClassifier(random_state=42))],\n",
       " 'verbose': False,\n",
       " 'sc': StandardScaler(),\n",
       " 'rf_clf': RandomForestClassifier(random_state=42),\n",
       " 'sc__copy': True,\n",
       " 'sc__with_mean': True,\n",
       " 'sc__with_std': True,\n",
       " 'rf_clf__bootstrap': True,\n",
       " 'rf_clf__ccp_alpha': 0.0,\n",
       " 'rf_clf__class_weight': None,\n",
       " 'rf_clf__criterion': 'gini',\n",
       " 'rf_clf__max_depth': None,\n",
       " 'rf_clf__max_features': 'auto',\n",
       " 'rf_clf__max_leaf_nodes': None,\n",
       " 'rf_clf__max_samples': None,\n",
       " 'rf_clf__min_impurity_decrease': 0.0,\n",
       " 'rf_clf__min_impurity_split': None,\n",
       " 'rf_clf__min_samples_leaf': 1,\n",
       " 'rf_clf__min_samples_split': 2,\n",
       " 'rf_clf__min_weight_fraction_leaf': 0.0,\n",
       " 'rf_clf__n_estimators': 100,\n",
       " 'rf_clf__n_jobs': None,\n",
       " 'rf_clf__oob_score': False,\n",
       " 'rf_clf__random_state': 42,\n",
       " 'rf_clf__verbose': 0,\n",
       " 'rf_clf__warm_start': False}"
      ]
     },
     "execution_count": 144,
     "metadata": {},
     "output_type": "execute_result"
    }
   ],
   "source": [
    "pipe_rf.get_params()"
   ]
  },
  {
   "cell_type": "markdown",
   "metadata": {},
   "source": [
    "### 随机森林调参"
   ]
  },
  {
   "cell_type": "code",
   "execution_count": 151,
   "metadata": {},
   "outputs": [
    {
     "data": {
      "text/plain": [
       "GridSearchCV(estimator=Pipeline(steps=[('sc', StandardScaler()),\n",
       "                                       ('rf_clf',\n",
       "                                        RandomForestClassifier(random_state=42))]),\n",
       "             param_grid={'rf_clf__max_depth': [5, 10, 15],\n",
       "                         'rf_clf__min_samples_leaf': [2, 5, 100],\n",
       "                         'rf_clf__min_samples_split': [10, 50, 100],\n",
       "                         'rf_clf__n_estimators': [50, 100, 200]},\n",
       "             scoring=make_scorer(fbeta_score, beta=2))"
      ]
     },
     "execution_count": 151,
     "metadata": {},
     "output_type": "execute_result"
    },
    {
     "data": {
      "text/plain": [
       "['sav/cv_rf.joblib']"
      ]
     },
     "execution_count": 151,
     "metadata": {},
     "output_type": "execute_result"
    }
   ],
   "source": [
    "model_path = os.path.join('sav/cv_rf.joblib')\n",
    "\n",
    "if os.path.exists(model_path):\n",
    "    cv_rf = load(model_path)\n",
    "else:\n",
    "    \n",
    "    # 设置参数矩阵\n",
    "    parameters = {\n",
    "         'rf_clf__n_estimators': [ 50, 100, 200],\n",
    "         'rf_clf__max_depth': [5,10,15],\n",
    "        'rf_clf__min_samples_split': [10,50,100],\n",
    "         'rf_clf__min_samples_leaf': [  2, 3, 5] }\n",
    "    scorer = make_scorer(fbeta_score,beta=2)\n",
    "    cv_rf = GridSearchCV(pipe_rf, param_grid= parameters , scoring=scorer )\n",
    "\n",
    "    # 再训练\n",
    "    cv_rf.fit(X_train, y_train)\n",
    "    dump(cv_rf, model_path)\n"
   ]
  },
  {
   "cell_type": "code",
   "execution_count": 152,
   "metadata": {},
   "outputs": [
    {
     "name": "stdout",
     "output_type": "stream",
     "text": [
      "F-beta score: 0.813 \n",
      "\n",
      "              precision    recall  f1-score   support\n",
      "\n",
      "           0       0.79      0.73      0.76      4085\n",
      "           1       0.77      0.82      0.80      4552\n",
      "\n",
      "    accuracy                           0.78      8637\n",
      "   macro avg       0.78      0.78      0.78      8637\n",
      "weighted avg       0.78      0.78      0.78      8637\n",
      "\n"
     ]
    }
   ],
   "source": [
    "evaluate_model_performance(cv_rf,X_test, y_test )"
   ]
  },
  {
   "cell_type": "code",
   "execution_count": 153,
   "metadata": {
    "lines_to_next_cell": 2
   },
   "outputs": [
    {
     "data": {
      "text/plain": [
       "{'rf_clf__max_depth': 10,\n",
       " 'rf_clf__min_samples_leaf': 2,\n",
       " 'rf_clf__min_samples_split': 10,\n",
       " 'rf_clf__n_estimators': 100}"
      ]
     },
     "execution_count": 153,
     "metadata": {},
     "output_type": "execute_result"
    }
   ],
   "source": [
    "cv_rf.best_params_"
   ]
  },
  {
   "cell_type": "markdown",
   "metadata": {},
   "source": [
    "- 随机森林模型调参后 f_beta分数从 0.784 增加到0.813"
   ]
  },
  {
   "cell_type": "markdown",
   "metadata": {},
   "source": [
    "## Gradient Boosting classifier模型"
   ]
  },
  {
   "cell_type": "code",
   "execution_count": 154,
   "metadata": {},
   "outputs": [
    {
     "data": {
      "text/plain": [
       "Pipeline(steps=[('sc', StandardScaler()),\n",
       "                ('gb_clf', GradientBoostingClassifier(random_state=42))])"
      ]
     },
     "execution_count": 154,
     "metadata": {},
     "output_type": "execute_result"
    },
    {
     "data": {
      "text/plain": [
       "['sav/pipe_gb.joblib']"
      ]
     },
     "execution_count": 154,
     "metadata": {},
     "output_type": "execute_result"
    }
   ],
   "source": [
    "model_path = os.path.join('sav/pipe_gb.joblib')\n",
    "\n",
    "if os.path.exists(model_path):\n",
    "    pipe_gb = load(model_path)\n",
    "else:\n",
    "    pipe_gb = Pipeline([('sc', StandardScaler()),\n",
    "                      ('gb_clf', GradientBoostingClassifier(random_state=random_state))\n",
    "                      ])\n",
    "    pipe_gb.fit(X_train, y_train)\n",
    "    dump(pipe_gb, model_path)\n",
    "    "
   ]
  },
  {
   "cell_type": "code",
   "execution_count": 155,
   "metadata": {},
   "outputs": [
    {
     "name": "stdout",
     "output_type": "stream",
     "text": [
      "F-beta score: 0.817 \n",
      "\n",
      "              precision    recall  f1-score   support\n",
      "\n",
      "           0       0.79      0.74      0.76      4085\n",
      "           1       0.78      0.83      0.80      4552\n",
      "\n",
      "    accuracy                           0.78      8637\n",
      "   macro avg       0.79      0.78      0.78      8637\n",
      "weighted avg       0.78      0.78      0.78      8637\n",
      "\n"
     ]
    },
    {
     "data": {
      "text/plain": [
       "{'memory': None,\n",
       " 'steps': [('sc', StandardScaler()),\n",
       "  ('gb_clf', GradientBoostingClassifier(random_state=42))],\n",
       " 'verbose': False,\n",
       " 'sc': StandardScaler(),\n",
       " 'gb_clf': GradientBoostingClassifier(random_state=42),\n",
       " 'sc__copy': True,\n",
       " 'sc__with_mean': True,\n",
       " 'sc__with_std': True,\n",
       " 'gb_clf__ccp_alpha': 0.0,\n",
       " 'gb_clf__criterion': 'friedman_mse',\n",
       " 'gb_clf__init': None,\n",
       " 'gb_clf__learning_rate': 0.1,\n",
       " 'gb_clf__loss': 'deviance',\n",
       " 'gb_clf__max_depth': 3,\n",
       " 'gb_clf__max_features': None,\n",
       " 'gb_clf__max_leaf_nodes': None,\n",
       " 'gb_clf__min_impurity_decrease': 0.0,\n",
       " 'gb_clf__min_impurity_split': None,\n",
       " 'gb_clf__min_samples_leaf': 1,\n",
       " 'gb_clf__min_samples_split': 2,\n",
       " 'gb_clf__min_weight_fraction_leaf': 0.0,\n",
       " 'gb_clf__n_estimators': 100,\n",
       " 'gb_clf__n_iter_no_change': None,\n",
       " 'gb_clf__presort': 'deprecated',\n",
       " 'gb_clf__random_state': 42,\n",
       " 'gb_clf__subsample': 1.0,\n",
       " 'gb_clf__tol': 0.0001,\n",
       " 'gb_clf__validation_fraction': 0.1,\n",
       " 'gb_clf__verbose': 0,\n",
       " 'gb_clf__warm_start': False}"
      ]
     },
     "execution_count": 155,
     "metadata": {},
     "output_type": "execute_result"
    }
   ],
   "source": [
    "evaluate_model_performance(pipe_gb,X_test, y_test )\n",
    "pipe_gb.get_params()"
   ]
  },
  {
   "cell_type": "markdown",
   "metadata": {},
   "source": [
    "### Gradient Boosting模型调参"
   ]
  },
  {
   "cell_type": "code",
   "execution_count": 156,
   "metadata": {},
   "outputs": [
    {
     "data": {
      "text/plain": [
       "GridSearchCV(estimator=Pipeline(steps=[('sc', StandardScaler()),\n",
       "                                       ('gb_clf',\n",
       "                                        GradientBoostingClassifier(random_state=42))]),\n",
       "             param_grid={'gb_clf__learning_rate': [0.1, 0.05, 0.01],\n",
       "                         'gb_clf__max_depth': [5, 10, 15],\n",
       "                         'gb_clf__min_samples_leaf': [1, 3, 5],\n",
       "                         'gb_clf__min_samples_split': [10, 50, 100],\n",
       "                         'gb_clf__n_estimators': [50, 100, 200]},\n",
       "             scoring=make_scorer(fbeta_score, beta=2))"
      ]
     },
     "execution_count": 156,
     "metadata": {},
     "output_type": "execute_result"
    },
    {
     "data": {
      "text/plain": [
       "['sav/cv_gb.joblib']"
      ]
     },
     "execution_count": 156,
     "metadata": {},
     "output_type": "execute_result"
    }
   ],
   "source": [
    "model_path = os.path.join('sav/cv_gb.joblib')\n",
    "\n",
    "if os.path.exists(model_path):\n",
    "    cv_gb = load(model_path)\n",
    "else:\n",
    "    \n",
    "    # 设置参数矩阵\n",
    "    parameters = {\n",
    "        'gb_clf__learning_rate': [0.1, 0.05, 0.01],\n",
    "        'gb_clf__n_estimators': [50, 100, 200] ,\n",
    "        'gb_clf__max_depth':  [5,10,15] ,\n",
    "        'gb_clf__min_samples_split': [10,50,100],\n",
    "  \t  \t 'gb_clf__min_samples_leaf': [ 1,  3, 5] }\n",
    "        \n",
    "#     scorer = make_scorer(fbeta_score,beta=2)\n",
    "    scorer = make_scorer(fbeta_score,beta=2)\n",
    "    cv_gb = GridSearchCV(pipe_gb, param_grid= parameters , scoring= scorer )\n",
    "\n",
    "    # 再训练\n",
    "    cv_gb.fit(X_train, y_train)\n",
    "    dump(cv_gb, model_path)\n"
   ]
  },
  {
   "cell_type": "code",
   "execution_count": 157,
   "metadata": {},
   "outputs": [
    {
     "name": "stdout",
     "output_type": "stream",
     "text": [
      "F-beta score: 0.841 \n",
      "\n",
      "              precision    recall  f1-score   support\n",
      "\n",
      "           0       0.82      0.68      0.74      4085\n",
      "           1       0.75      0.87      0.80      4552\n",
      "\n",
      "    accuracy                           0.78      8637\n",
      "   macro avg       0.78      0.77      0.77      8637\n",
      "weighted avg       0.78      0.78      0.77      8637\n",
      "\n"
     ]
    },
    {
     "data": {
      "text/plain": [
       "{'gb_clf__learning_rate': 0.01,\n",
       " 'gb_clf__max_depth': 5,\n",
       " 'gb_clf__min_samples_leaf': 3,\n",
       " 'gb_clf__min_samples_split': 10,\n",
       " 'gb_clf__n_estimators': 50}"
      ]
     },
     "execution_count": 157,
     "metadata": {},
     "output_type": "execute_result"
    }
   ],
   "source": [
    "evaluate_model_performance(cv_gb,X_test, y_test )\n",
    "cv_gb.best_params_"
   ]
  },
  {
   "cell_type": "markdown",
   "metadata": {},
   "source": [
    "- GBM 模型调参后 f_beta分数从 0.817 增加到0.841"
   ]
  },
  {
   "cell_type": "markdown",
   "metadata": {},
   "source": [
    "## 特征重要性"
   ]
  },
  {
   "cell_type": "code",
   "execution_count": 162,
   "metadata": {},
   "outputs": [
    {
     "data": {
      "text/plain": [
       "<Figure size 576x576 with 0 Axes>"
      ]
     },
     "execution_count": 162,
     "metadata": {},
     "output_type": "execute_result"
    },
    {
     "data": {
      "text/plain": [
       "<AxesSubplot:xlabel='relativeimportance', ylabel='feature'>"
      ]
     },
     "execution_count": 162,
     "metadata": {},
     "output_type": "execute_result"
    },
    {
     "data": {
      "text/plain": [
       "Text(0.5, 0, 'Relative Importance')"
      ]
     },
     "execution_count": 162,
     "metadata": {},
     "output_type": "execute_result"
    },
    {
     "data": {
      "text/plain": [
       "Text(0, 0.5, 'Feature')"
      ]
     },
     "execution_count": 162,
     "metadata": {},
     "output_type": "execute_result"
    },
    {
     "data": {
      "text/plain": [
       "Text(0.5, 1.0, 'Random Forest Estimated Feature Importance')"
      ]
     },
     "execution_count": 162,
     "metadata": {},
     "output_type": "execute_result"
    },
    {
     "data": {
      "image/png": "[encoded data removed]",
      "text/plain": [
       "<Figure size 576x576 with 1 Axes>"
      ]
     },
     "metadata": {
      "needs_background": "light"
     },
     "output_type": "display_data"
    }
   ],
   "source": [
    "variable_names = df_rec_new.drop(columns=[label_name]).columns\n",
    "\n",
    "relative_importance = cv_gb.best_estimator_.steps[1][1].feature_importances_\n",
    "relative_importance = relative_importance / np.sum(relative_importance)\n",
    "\n",
    "feature_importance =\\\n",
    "    pd.DataFrame(list(zip(variable_names,\n",
    "                          relative_importance)),\n",
    "                 columns=['feature', 'relativeimportance'])\n",
    "\n",
    "feature_importance = feature_importance.sort_values('relativeimportance',\n",
    "                                                    ascending=False)\n",
    "\n",
    "feature_importance = feature_importance.reset_index(drop=True)\n",
    "\n",
    "palette = sns.color_palette(\"Blues_r\", feature_importance.shape[0])\n",
    "\n",
    "plt.figure(figsize=(8, 8))\n",
    "sns.barplot(x='relativeimportance',\n",
    "            y='feature',\n",
    "            data=feature_importance,\n",
    "            palette=palette)\n",
    "plt.xlabel('Relative Importance')\n",
    "plt.ylabel('Feature')\n",
    "plt.title('Random Forest Estimated Feature Importance')"
   ]
  },
  {
   "cell_type": "code",
   "execution_count": 163,
   "metadata": {},
   "outputs": [
    {
     "data": {
      "text/html": [
       "<div>\n",
       "<style scoped>\n",
       "    .dataframe tbody tr th:only-of-type {\n",
       "        vertical-align: middle;\n",
       "    }\n",
       "\n",
       "    .dataframe tbody tr th {\n",
       "        vertical-align: top;\n",
       "    }\n",
       "\n",
       "    .dataframe thead th {\n",
       "        text-align: right;\n",
       "    }\n",
       "</style>\n",
       "<table border=\"1\" class=\"dataframe\">\n",
       "  <thead>\n",
       "    <tr style=\"text-align: right;\">\n",
       "      <th></th>\n",
       "      <th>feature</th>\n",
       "      <th>relativeimportance</th>\n",
       "    </tr>\n",
       "  </thead>\n",
       "  <tbody>\n",
       "    <tr>\n",
       "      <th>0</th>\n",
       "      <td>sum_spending</td>\n",
       "      <td>0.663410</td>\n",
       "    </tr>\n",
       "    <tr>\n",
       "      <th>1</th>\n",
       "      <td>social</td>\n",
       "      <td>0.155110</td>\n",
       "    </tr>\n",
       "    <tr>\n",
       "      <th>2</th>\n",
       "      <td>reward</td>\n",
       "      <td>0.070288</td>\n",
       "    </tr>\n",
       "    <tr>\n",
       "      <th>3</th>\n",
       "      <td>avg_spending</td>\n",
       "      <td>0.031616</td>\n",
       "    </tr>\n",
       "    <tr>\n",
       "      <th>4</th>\n",
       "      <td>transaction_count</td>\n",
       "      <td>0.028052</td>\n",
       "    </tr>\n",
       "    <tr>\n",
       "      <th>5</th>\n",
       "      <td>difficulty</td>\n",
       "      <td>0.019514</td>\n",
       "    </tr>\n",
       "    <tr>\n",
       "      <th>6</th>\n",
       "      <td>income</td>\n",
       "      <td>0.012870</td>\n",
       "    </tr>\n",
       "    <tr>\n",
       "      <th>7</th>\n",
       "      <td>duration</td>\n",
       "      <td>0.006419</td>\n",
       "    </tr>\n",
       "    <tr>\n",
       "      <th>8</th>\n",
       "      <td>mobile</td>\n",
       "      <td>0.005922</td>\n",
       "    </tr>\n",
       "    <tr>\n",
       "      <th>9</th>\n",
       "      <td>tp_discount</td>\n",
       "      <td>0.004314</td>\n",
       "    </tr>\n",
       "  </tbody>\n",
       "</table>\n",
       "</div>"
      ],
      "text/plain": [
       "             feature  relativeimportance\n",
       "0       sum_spending            0.663410\n",
       "1             social            0.155110\n",
       "2             reward            0.070288\n",
       "3       avg_spending            0.031616\n",
       "4  transaction_count            0.028052\n",
       "5         difficulty            0.019514\n",
       "6             income            0.012870\n",
       "7           duration            0.006419\n",
       "8             mobile            0.005922\n",
       "9        tp_discount            0.004314"
      ]
     },
     "execution_count": 163,
     "metadata": {},
     "output_type": "execute_result"
    }
   ],
   "source": [
    "feature_importance.head(n=10)"
   ]
  },
  {
   "cell_type": "markdown",
   "metadata": {},
   "source": [
    "- 决定优惠推送对用户是否有效的最关键因素是 用户总消费金额，其次是社交媒体广告，和活动奖励"
   ]
  },
  {
   "cell_type": "markdown",
   "metadata": {},
   "source": [
    "## 结果汇总"
   ]
  },
  {
   "cell_type": "code",
   "execution_count": 167,
   "metadata": {},
   "outputs": [
    {
     "data": {
      "text/html": [
       "<div>\n",
       "<style scoped>\n",
       "    .dataframe tbody tr th:only-of-type {\n",
       "        vertical-align: middle;\n",
       "    }\n",
       "\n",
       "    .dataframe tbody tr th {\n",
       "        vertical-align: top;\n",
       "    }\n",
       "\n",
       "    .dataframe thead th {\n",
       "        text-align: right;\n",
       "    }\n",
       "</style>\n",
       "<table border=\"1\" class=\"dataframe\">\n",
       "  <thead>\n",
       "    <tr style=\"text-align: right;\">\n",
       "      <th></th>\n",
       "      <th>initial</th>\n",
       "      <th>best_params</th>\n",
       "    </tr>\n",
       "  </thead>\n",
       "  <tbody>\n",
       "    <tr>\n",
       "      <th>LinearSVC</th>\n",
       "      <td>0.746</td>\n",
       "      <td>0.746</td>\n",
       "    </tr>\n",
       "    <tr>\n",
       "      <th>KNeighbors</th>\n",
       "      <td>0.741</td>\n",
       "      <td>0.741</td>\n",
       "    </tr>\n",
       "    <tr>\n",
       "      <th>RandomForest</th>\n",
       "      <td>0.784</td>\n",
       "      <td>0.813</td>\n",
       "    </tr>\n",
       "    <tr>\n",
       "      <th>GradientBoosting</th>\n",
       "      <td>0.817</td>\n",
       "      <td>0.841</td>\n",
       "    </tr>\n",
       "  </tbody>\n",
       "</table>\n",
       "</div>"
      ],
      "text/plain": [
       "                 initial best_params\n",
       "LinearSVC          0.746       0.746\n",
       "KNeighbors         0.741       0.741\n",
       "RandomForest       0.784       0.813\n",
       "GradientBoosting   0.817       0.841"
      ]
     },
     "execution_count": 167,
     "metadata": {},
     "output_type": "execute_result"
    }
   ],
   "source": [
    "df_model_perfm = pd.DataFrame( columns= ['initial','best_params'])\n",
    "\n",
    "df_model_perfm.loc['LinearSVC',:] = [ 0.746 ,0.746]\n",
    "df_model_perfm.loc['KNeighbors',:] = [0.741, 0.741 ]\n",
    "df_model_perfm.loc['RandomForest',:] = [0.784, 0.813 ]\n",
    "df_model_perfm.loc['GradientBoosting',:] = [ 0.817 , 0.841]\n",
    "df_model_perfm"
   ]
  },
  {
   "cell_type": "markdown",
   "metadata": {},
   "source": [
    "# 结论"
   ]
  },
  {
   "cell_type": "markdown",
   "metadata": {},
   "source": [
    "- 我建立了一个判断某类活动信息是否对用户有效果，即用户在受到活动信息后，是否会采取交易行为的模型。   \n",
    "- 我解决这个问题分为四个步骤。\n",
    "  - 首先，我把优惠活动信息，客户资料和客户交易数据结合到一起，根据客户交易数据提取了更多的客户特征。\n",
    "  - 然后，我根据客户交易信息和优惠活动信息，找出哪些推送活动在有效期内交易（有效完成），哪些推送后没有交易或者在期限外交易（无效完成）。\n",
    "  - 接着，我比较了线性分类，K临近算法，随机森林和梯度提升模型的性能。结果表明，梯度提升模型具有最佳的F_beta分数,在测试集上为0.841。\n",
    "  - 梯度提升模型最优参数 'clf__learning_rate': 0.01, 'clf__max_depth': 5, 'clf__min_samples_leaf': 3, 'clf__min_samples_split': 10, 'clf__n_estimators': 50\n",
    "- 遇到的问题和挑战：\n",
    "  - 最初按照回归问题建立的模型 用来预测每个用户有效完成推送活动的概率，但是样本较少导致预测结果不好。后来改为按照分类模型预测用户是否会有效完成，模型表现提升很多\n",
    "  - 比较麻烦的是根据每个活动时间限制和用户在该时间内 是否有\"接收-浏览-完成\"这一系列行为，判断是否为有效完成。\n",
    "- 可以改进的方面：\n",
    "  - 上述分类模型 只是判断了特定活动推送对于特定客户是否有效，但是由于缺乏足够信息，没有考察推送次数这一特征和用户有效完成的关系。还可以建立一个回归模型，预测不同推送活动对于不同用户的完成率，从而找出哪些用户在受到信息后可以多次有效消费。"
   ]
  },
  {
   "cell_type": "code",
   "execution_count": null,
   "metadata": {},
   "outputs": [],
   "source": []
  }
 ],
 "metadata": {
  "jupytext": {
   "encoding": "# -*- coding: utf-8 -*-",
   "formats": "ipynb,py:light"
  },
  "kernelspec": {
   "display_name": "Python 3",
   "language": "python",
   "name": "python3"
  },
  "language_info": {
   "codemirror_mode": {
    "name": "ipython",
    "version": 3
   },
   "file_extension": ".py",
   "mimetype": "text/x-python",
   "name": "python",
   "nbconvert_exporter": "python",
   "pygments_lexer": "ipython3",
   "version": "3.7.7"
  },
  "toc": {
   "base_numbering": 1,
   "nav_menu": {},
   "number_sections": true,
   "sideBar": true,
   "skip_h1_title": false,
   "title_cell": "Table of Contents",
   "title_sidebar": "Contents",
   "toc_cell": false,
   "toc_position": {
    "height": "calc(100% - 180px)",
    "left": "10px",
    "top": "150px",
    "width": "317.849px"
   },
   "toc_section_display": true,
   "toc_window_display": true
  },
  "toc-autonumbering": true,
  "toc-showmarkdowntxt": true,
  "toc-showtags": false,
  "varInspector": {
   "cols": {
    "lenName": 16,
    "lenType": 16,
    "lenVar": 40
   },
   "kernels_config": {
    "python": {
     "delete_cmd_postfix": "",
     "delete_cmd_prefix": "del ",
     "library": "var_list.py",
     "varRefreshCmd": "print(var_dic_list())"
    },
    "r": {
     "delete_cmd_postfix": ") ",
     "delete_cmd_prefix": "rm(",
     "library": "var_list.r",
     "varRefreshCmd": "cat(var_dic_list()) "
    }
   },
   "oldHeight": 408,
   "position": {
    "height": "430px",
    "left": "1488px",
    "right": "20px",
    "top": "47px",
    "width": "350px"
   },
   "types_to_exclude": [
    "module",
    "function",
    "builtin_function_or_method",
    "instance",
    "_Feature"
   ],
   "varInspector_section_display": "block",
   "window_display": true
  }
 },
 "nbformat": 4,
 "nbformat_minor": 4
}
